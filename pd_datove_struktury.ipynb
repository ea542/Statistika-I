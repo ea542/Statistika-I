{
 "cells": [
  {
   "cell_type": "markdown",
   "id": "3350db4c-aba7-4b4f-aa77-a478f0ea30f0",
   "metadata": {},
   "source": [
    "# Pandas - základní datové struktury (https://pandas.pydata.org/docs/user_guide/dsintro.html)"
   ]
  },
  {
   "cell_type": "code",
   "execution_count": 83,
   "id": "5f72e4f6-e882-434b-9d91-49c15b44c961",
   "metadata": {},
   "outputs": [],
   "source": [
    "import numpy as np\n",
    "import pandas as pd\n",
    "from matplotlib import pyplot as plt"
   ]
  },
  {
   "cell_type": "markdown",
   "id": "abd52849-bb40-42de-adfc-7c3854c8472d",
   "metadata": {},
   "source": [
    "Knihovna pandas podporuje dvě základní struktury pro práci s daty - `Series` a `DataFrame`"
   ]
  },
  {
   "cell_type": "markdown",
   "id": "23d7856f-92a4-41f9-8857-92cb0ac7ed33",
   "metadata": {},
   "source": [
    "## `Series` (posloupnost)"
   ]
  },
  {
   "cell_type": "markdown",
   "id": "4af8a21b-11fd-4564-b846-27fb94524cd5",
   "metadata": {},
   "source": [
    "Posloupnost představuje jednorozměrnou datovou strukturu. Jednotlivé prvky jsou stejného typu a jsou indexovány - každý prvek má přiřazen index (číslo záznamu, jméno ...)."
   ]
  },
  {
   "cell_type": "code",
   "execution_count": 151,
   "id": "905ed042-5d64-47e1-8e9b-a5f37bfa92a2",
   "metadata": {},
   "outputs": [
    {
     "name": "stdout",
     "output_type": "stream",
     "text": [
      "prvni      2.0\n",
      "druhy      3.0\n",
      "treti      5.0\n",
      "ctvrty     7.0\n",
      "paty      11.0\n",
      "dtype: float64\n"
     ]
    }
   ],
   "source": [
    "# pd.Series(data=None, index=None)\n",
    "#\n",
    "# vytvoření Series z np.array, typ float64, vlastní indexy\n",
    "s1 = pd.Series(np.array([2., 3., 5., 7., 11.]), index=['prvni', 'druhy', 'treti', 'ctvrty', 'paty'])\n",
    "\n",
    "print(s1)"
   ]
  },
  {
   "cell_type": "code",
   "execution_count": 150,
   "id": "c070e1c6-c111-42e4-b27f-cb20fd8865ab",
   "metadata": {},
   "outputs": [
    {
     "name": "stdout",
     "output_type": "stream",
     "text": [
      "0     2\n",
      "1     3\n",
      "2     5\n",
      "3     7\n",
      "4    11\n",
      "dtype: int64\n"
     ]
    }
   ],
   "source": [
    "# vytvoření Series z np.array, typ int64, výchozí indexování celými čísly od 0\n",
    "\n",
    "s2 = pd.Series(np.array([2, 3, 5, 7, 11]))\n",
    "\n",
    "print(s2)"
   ]
  },
  {
   "cell_type": "markdown",
   "id": "f1897a1f-a6b2-40c0-856a-22bebb4357f9",
   "metadata": {},
   "source": [
    "### Výběry"
   ]
  },
  {
   "cell_type": "code",
   "execution_count": 154,
   "id": "28d9e7f6-d796-46e1-a977-83fbec9c73dc",
   "metadata": {},
   "outputs": [
    {
     "name": "stdout",
     "output_type": "stream",
     "text": [
      "2.0 \n",
      "\n"
     ]
    }
   ],
   "source": [
    "# Prvky posloupnosti lze vybírat\n",
    "# ... indexem\n",
    "print(s1[\"prvni\"], \"\\n\")             # výseldkem je hodnota prvku"
   ]
  },
  {
   "cell_type": "code",
   "execution_count": 196,
   "id": "d0902c9a-3650-4df1-bbd1-19d9626c3916",
   "metadata": {},
   "outputs": [
    {
     "name": "stdout",
     "output_type": "stream",
     "text": [
      "treti    5.0\n",
      "prvni    2.0\n",
      "dtype: float64 \n",
      "\n"
     ]
    }
   ],
   "source": [
    "# ... seznamem indexů\n",
    "print(s1[[\"treti\", \"prvni\"]], \"\\n\")  # výsledkem je posloupnost"
   ]
  },
  {
   "cell_type": "code",
   "execution_count": 197,
   "id": "9fc53830-2e7a-416a-b1a6-68a40f958c1c",
   "metadata": {},
   "outputs": [
    {
     "name": "stdout",
     "output_type": "stream",
     "text": [
      "3.0 \n",
      "\n",
      "treti     5.0\n",
      "ctvrty    7.0\n",
      "druhy     3.0\n",
      "dtype: float64 \n",
      "\n"
     ]
    }
   ],
   "source": [
    "# ... pořadím prvků (a seznamem pořadí)\n",
    "print(s1.iloc[1], \"\\n\")\n",
    "print(s1.iloc[[2,3,1]], \"\\n\")"
   ]
  },
  {
   "cell_type": "code",
   "execution_count": 164,
   "id": "398e0ebb-d50d-4d9f-aea0-233a7845498f",
   "metadata": {},
   "outputs": [
    {
     "name": "stdout",
     "output_type": "stream",
     "text": [
      "ctvrty     7.0\n",
      "paty      11.0\n",
      "dtype: float64\n"
     ]
    }
   ],
   "source": [
    "# ... polem typu bool\n",
    "print(s1[s1>5])"
   ]
  },
  {
   "cell_type": "markdown",
   "id": "28129fc1-baf2-4210-bb78-1c0ef93bc6fe",
   "metadata": {},
   "source": [
    "### Operace "
   ]
  },
  {
   "cell_type": "markdown",
   "id": "e5c99d03-be1e-42a4-8b02-b015013be2db",
   "metadata": {},
   "source": [
    "S posloupnostmi lze provádět operace po složkách podobně jako s numpy.array."
   ]
  },
  {
   "cell_type": "code",
   "execution_count": 165,
   "id": "dc6b502d-3873-47ae-9300-fad573d96d37",
   "metadata": {},
   "outputs": [
    {
     "data": {
      "text/plain": [
       "prvni         7.389056\n",
       "druhy        20.085537\n",
       "treti       148.413159\n",
       "ctvrty     1096.633158\n",
       "paty      59874.141715\n",
       "dtype: float64"
      ]
     },
     "execution_count": 165,
     "metadata": {},
     "output_type": "execute_result"
    }
   ],
   "source": [
    "np.exp(s1)"
   ]
  },
  {
   "cell_type": "markdown",
   "id": "4b9aaa55-2bba-465f-8e13-86e559b5c5e3",
   "metadata": {},
   "source": [
    "<br>Statistické funkce jsou přístupné jako metody posloupnosti."
   ]
  },
  {
   "cell_type": "code",
   "execution_count": 92,
   "id": "bc8bf203-44c6-456e-be0f-23b481676c08",
   "metadata": {},
   "outputs": [
    {
     "name": "stdout",
     "output_type": "stream",
     "text": [
      "-0.01512644150176363 \n",
      "\n",
      "count    1000.000000\n",
      "mean       -0.015126\n",
      "std         0.978125\n",
      "min        -2.939717\n",
      "25%        -0.699146\n",
      "50%         0.007358\n",
      "75%         0.668815\n",
      "max         3.680463\n",
      "dtype: float64\n"
     ]
    }
   ],
   "source": [
    "s3 = pd.Series(np.random.normal(size=1000))\n",
    "print(s3.mean(), \"\\n\")\n",
    "print(s3.describe())"
   ]
  },
  {
   "cell_type": "markdown",
   "id": "b99ace3d-b820-4415-92af-71f8dbfc3481",
   "metadata": {},
   "source": [
    "<br>Spojení záznamu s indexem se operacemi ani výběry nezmění. <b>Binární operace s posloupnostmi jsou vždy provádněny se složkami se shodnými indexy!<b>"
   ]
  },
  {
   "cell_type": "code",
   "execution_count": 166,
   "id": "c414028e-d241-48bc-862d-1a3ca6ca92b4",
   "metadata": {},
   "outputs": [
    {
     "name": "stdout",
     "output_type": "stream",
     "text": [
      "1     3\n",
      "2     5\n",
      "3     7\n",
      "4    11\n",
      "dtype: int64 \n",
      "\n",
      "0    2\n",
      "1    3\n",
      "2    5\n",
      "3    7\n",
      "dtype: int64 \n",
      "\n",
      "0     NaN\n",
      "1    12.0\n",
      "2    30.0\n",
      "3    56.0\n",
      "4     NaN\n",
      "dtype: float64\n"
     ]
    }
   ],
   "source": [
    "print(s2[s2>2], '\\n')\n",
    "print(s2[s2<11], '\\n')\n",
    "print(s2[s2>2]+s2[s2<11]**2)"
   ]
  },
  {
   "cell_type": "markdown",
   "id": "e5ab7ee3-5f2d-4cef-a964-6833a488b6f0",
   "metadata": {},
   "source": [
    "<br>... obdobná operace s np.array"
   ]
  },
  {
   "cell_type": "code",
   "execution_count": 105,
   "id": "a68b8fcc-3597-4456-9183-e47a40ab83c4",
   "metadata": {},
   "outputs": [
    {
     "name": "stdout",
     "output_type": "stream",
     "text": [
      "[ 3  5  7 11] \n",
      "\n",
      "[2 3 5 7] \n",
      "\n",
      "[ 7 14 32 60]\n"
     ]
    }
   ],
   "source": [
    "s2_values = s2.values\n",
    "print(s2_values[s2_values>2], '\\n')\n",
    "print(s2_values[s2_values<11], '\\n')\n",
    "print(s2_values[s2_values>2]+s2_values[s2_values<11]**2)"
   ]
  },
  {
   "cell_type": "markdown",
   "id": "013441aa-60e9-4f62-b175-68c6b31e0dcd",
   "metadata": {},
   "source": [
    "### Chybějící hodnoty"
   ]
  },
  {
   "cell_type": "code",
   "execution_count": 194,
   "id": "e5667b1f-83bd-41f4-a959-2d41c42e1fde",
   "metadata": {},
   "outputs": [
    {
     "name": "stdout",
     "output_type": "stream",
     "text": [
      "0    10.0\n",
      "1    20.0\n",
      "2     NaN\n",
      "3    40.0\n",
      "4    50.0\n",
      "dtype: float64\n"
     ]
    }
   ],
   "source": [
    "s4 = pd.Series([10, 20, np.nan, 40, 50])\n",
    "print(s4)"
   ]
  },
  {
   "cell_type": "code",
   "execution_count": 195,
   "id": "8c2bab04-be95-45b7-9868-a644279a42f8",
   "metadata": {},
   "outputs": [
    {
     "data": {
      "text/plain": [
       "count     4.000000\n",
       "mean     30.000000\n",
       "std      18.257419\n",
       "min      10.000000\n",
       "25%      17.500000\n",
       "50%      30.000000\n",
       "75%      42.500000\n",
       "max      50.000000\n",
       "dtype: float64"
      ]
     },
     "execution_count": 195,
     "metadata": {},
     "output_type": "execute_result"
    }
   ],
   "source": [
    "s4.describe()"
   ]
  },
  {
   "cell_type": "code",
   "execution_count": 268,
   "id": "48f141d0-aeb5-451d-b11a-3652b3d3dcd0",
   "metadata": {},
   "outputs": [
    {
     "data": {
      "text/plain": [
       "0    False\n",
       "1    False\n",
       "2     True\n",
       "3    False\n",
       "4    False\n",
       "dtype: bool"
      ]
     },
     "execution_count": 268,
     "metadata": {},
     "output_type": "execute_result"
    }
   ],
   "source": [
    "# Kde je chybějící hodnota?\n",
    "s4.isna()"
   ]
  },
  {
   "cell_type": "code",
   "execution_count": 269,
   "id": "6538e986-0c60-4a5f-85e8-e21b6ebeadca",
   "metadata": {},
   "outputs": [
    {
     "data": {
      "text/plain": [
       "0     True\n",
       "1     True\n",
       "2    False\n",
       "3     True\n",
       "4     True\n",
       "dtype: bool"
      ]
     },
     "execution_count": 269,
     "metadata": {},
     "output_type": "execute_result"
    }
   ],
   "source": [
    "# Kde není chybějící hodnota?\n",
    "s4.notna()"
   ]
  },
  {
   "cell_type": "markdown",
   "id": "06e5e870-b161-4ecf-84ae-296e009c5e95",
   "metadata": {},
   "source": [
    "### Grafy"
   ]
  },
  {
   "cell_type": "markdown",
   "id": "814d882d-688d-4930-9cb4-4e1fc1ff6ab7",
   "metadata": {},
   "source": [
    "Metody z matplotlib jsou přístupné také jako metody objektu plot "
   ]
  },
  {
   "cell_type": "code",
   "execution_count": 172,
   "id": "f162d3d9-81d4-485a-b373-637ca2e0deec",
   "metadata": {},
   "outputs": [
    {
     "data": {
      "text/plain": [
       "<AxesSubplot:>"
      ]
     },
     "execution_count": 172,
     "metadata": {},
     "output_type": "execute_result"
    },
    {
     "data": {
      "image/png": "[encoded data removed]",
      "text/plain": [
       "<Figure size 1440x360 with 3 Axes>"
      ]
     },
     "metadata": {
      "needs_background": "light"
     },
     "output_type": "display_data"
    }
   ],
   "source": [
    "plt.figure(figsize=(20, 5))\n",
    "plt.subplot(131)\n",
    "s3.plot()\n",
    "plt.subplot(132)\n",
    "s3.plot.hist()\n",
    "plt.subplot(133)\n",
    "s3.plot.box()"
   ]
  },
  {
   "cell_type": "code",
   "execution_count": null,
   "id": "b41fbcd8-f6ca-41ff-b517-a713a4132617",
   "metadata": {},
   "outputs": [],
   "source": []
  },
  {
   "cell_type": "markdown",
   "id": "ee98f231-e3df-49b1-b1b4-54b24c7c399d",
   "metadata": {},
   "source": [
    "## `DataFrame` (datový rámec)"
   ]
  },
  {
   "cell_type": "markdown",
   "id": "430a068c-a942-4ff3-8587-b4370d75ae4c",
   "metadata": {},
   "source": [
    "Datový rámec představuje dvourozměrnou datovou strukturu. Řádky představují datové vektory (záznamy), sloupce odpovídají jednotlivým statistickým proměnným. \n",
    "Prvky v jednom sloupci jsou vždy stejného typu, každý slupec může mít jiný typ. Každý řádek má přiřazen index (číslo záznamu, jméno ...). Sloupce mohou být pojmenované."
   ]
  },
  {
   "cell_type": "code",
   "execution_count": 298,
   "id": "c97bc551-83d0-4b24-a2a6-5edb098db677",
   "metadata": {},
   "outputs": [
    {
     "name": "stdout",
     "output_type": "stream",
     "text": [
      "    S1   S2 S3\n",
      "10   2  2.6  k\n",
      "20   3  1.1  r\n",
      "30   5  NaN  t\n",
      "40   7  3.7  e\n",
      "50  11  NaN  k\n"
     ]
    }
   ],
   "source": [
    "# Datový rámec lze vytvořit mnoha způsoby\n",
    "# např. ze slovníku posloupností (posloupnost=sloupec rámce; z jmen položek slovníku se vytvoří jména sloupců)\n",
    "#\n",
    "d1 = pd.DataFrame({'S1': pd.Series([2,3,5,7,11], index=range(10, 60, 10)),\n",
    "                   'S2': pd.Series([1.1, 3.7, 2.6], index=[20, 40, 10]),\n",
    "                   'S3': pd.Series(['k', 'r', 't', 'e', 'k'], index=range(10, 60, 10))})\n",
    "print(d1)"
   ]
  },
  {
   "cell_type": "code",
   "execution_count": 210,
   "id": "3109c3bc-afff-4617-b3d9-9e5bee6433c7",
   "metadata": {},
   "outputs": [
    {
     "data": {
      "text/html": [
       "<div>\n",
       "<style scoped>\n",
       "    .dataframe tbody tr th:only-of-type {\n",
       "        vertical-align: middle;\n",
       "    }\n",
       "\n",
       "    .dataframe tbody tr th {\n",
       "        vertical-align: top;\n",
       "    }\n",
       "\n",
       "    .dataframe thead th {\n",
       "        text-align: right;\n",
       "    }\n",
       "</style>\n",
       "<table border=\"1\" class=\"dataframe\">\n",
       "  <thead>\n",
       "    <tr style=\"text-align: right;\">\n",
       "      <th></th>\n",
       "      <th>S1</th>\n",
       "      <th>S2</th>\n",
       "    </tr>\n",
       "  </thead>\n",
       "  <tbody>\n",
       "    <tr>\n",
       "      <th>count</th>\n",
       "      <td>5.000000</td>\n",
       "      <td>3.000000</td>\n",
       "    </tr>\n",
       "    <tr>\n",
       "      <th>mean</th>\n",
       "      <td>5.600000</td>\n",
       "      <td>2.466667</td>\n",
       "    </tr>\n",
       "    <tr>\n",
       "      <th>std</th>\n",
       "      <td>3.577709</td>\n",
       "      <td>1.305118</td>\n",
       "    </tr>\n",
       "    <tr>\n",
       "      <th>min</th>\n",
       "      <td>2.000000</td>\n",
       "      <td>1.100000</td>\n",
       "    </tr>\n",
       "    <tr>\n",
       "      <th>25%</th>\n",
       "      <td>3.000000</td>\n",
       "      <td>1.850000</td>\n",
       "    </tr>\n",
       "    <tr>\n",
       "      <th>50%</th>\n",
       "      <td>5.000000</td>\n",
       "      <td>2.600000</td>\n",
       "    </tr>\n",
       "    <tr>\n",
       "      <th>75%</th>\n",
       "      <td>7.000000</td>\n",
       "      <td>3.150000</td>\n",
       "    </tr>\n",
       "    <tr>\n",
       "      <th>max</th>\n",
       "      <td>11.000000</td>\n",
       "      <td>3.700000</td>\n",
       "    </tr>\n",
       "  </tbody>\n",
       "</table>\n",
       "</div>"
      ],
      "text/plain": [
       "              S1        S2\n",
       "count   5.000000  3.000000\n",
       "mean    5.600000  2.466667\n",
       "std     3.577709  1.305118\n",
       "min     2.000000  1.100000\n",
       "25%     3.000000  1.850000\n",
       "50%     5.000000  2.600000\n",
       "75%     7.000000  3.150000\n",
       "max    11.000000  3.700000"
      ]
     },
     "execution_count": 210,
     "metadata": {},
     "output_type": "execute_result"
    }
   ],
   "source": [
    "d1.describe()"
   ]
  },
  {
   "cell_type": "markdown",
   "id": "99da3e24-27a3-4201-b230-42a47c1e1d2b",
   "metadata": {},
   "source": [
    "### Výběry"
   ]
  },
  {
   "cell_type": "code",
   "execution_count": 218,
   "id": "9b4f9238-5dcc-4566-9a21-c148bbc051c5",
   "metadata": {},
   "outputs": [
    {
     "name": "stdout",
     "output_type": "stream",
     "text": [
      "0     2\n",
      "1     3\n",
      "2     5\n",
      "3     7\n",
      "4    11\n",
      "Name: S1, dtype: int64 \n",
      "\n",
      "  S3   S2\n",
      "0  k  NaN\n",
      "1  r  2.6\n",
      "2  t  1.1\n",
      "3  e  NaN\n",
      "4  k  3.7\n"
     ]
    }
   ],
   "source": [
    "# Sloupce vybíráme jako prvky slovníku\n",
    "print(d1['S1'], '\\n')\n",
    "\n",
    "print(d1[['S3', 'S2']])"
   ]
  },
  {
   "cell_type": "code",
   "execution_count": 233,
   "id": "7ca8d1b3-4ec9-4c24-a806-2478b805400a",
   "metadata": {},
   "outputs": [
    {
     "name": "stdout",
     "output_type": "stream",
     "text": [
      "S1      3\n",
      "S2    1.1\n",
      "S3      r\n",
      "Name: 20, dtype: object \n",
      "\n",
      "    S1   S2 S3\n",
      "30   5  NaN  t\n",
      "40   7  3.7  e\n"
     ]
    }
   ],
   "source": [
    "# Řádky vybíráme ...\n",
    "# ... indexem\n",
    "print(d1.loc[20], '\\n')   # vrací posloupnost\n",
    "print(d1.loc[[30, 40]])   # vrací datový rámec"
   ]
  },
  {
   "cell_type": "code",
   "execution_count": 231,
   "id": "8e58cbc1-6bbb-4653-af00-4936002945b8",
   "metadata": {},
   "outputs": [
    {
     "name": "stdout",
     "output_type": "stream",
     "text": [
      "S1      2\n",
      "S2    2.6\n",
      "S3      k\n",
      "Name: 10, dtype: object \n",
      "\n",
      "    S1   S2 S3\n",
      "20   3  1.1  r\n",
      "30   5  NaN  t \n",
      "\n",
      "    S1   S2 S3\n",
      "20   3  1.1  r\n",
      "30   5  NaN  t\n",
      "40   7  3.7  e\n"
     ]
    }
   ],
   "source": [
    "# ... pořadím\n",
    "print(d1.iloc[0], '\\n')\n",
    "print(d1.iloc[[1, 2]], '\\n')\n",
    "print(d1.iloc[1:-1])"
   ]
  },
  {
   "cell_type": "code",
   "execution_count": 235,
   "id": "6394b621-10a6-44a5-bebb-0fbeb264dc0b",
   "metadata": {},
   "outputs": [
    {
     "data": {
      "text/html": [
       "<div>\n",
       "<style scoped>\n",
       "    .dataframe tbody tr th:only-of-type {\n",
       "        vertical-align: middle;\n",
       "    }\n",
       "\n",
       "    .dataframe tbody tr th {\n",
       "        vertical-align: top;\n",
       "    }\n",
       "\n",
       "    .dataframe thead th {\n",
       "        text-align: right;\n",
       "    }\n",
       "</style>\n",
       "<table border=\"1\" class=\"dataframe\">\n",
       "  <thead>\n",
       "    <tr style=\"text-align: right;\">\n",
       "      <th></th>\n",
       "      <th>S1</th>\n",
       "      <th>S2</th>\n",
       "      <th>S3</th>\n",
       "    </tr>\n",
       "  </thead>\n",
       "  <tbody>\n",
       "    <tr>\n",
       "      <th>10</th>\n",
       "      <td>2</td>\n",
       "      <td>2.6</td>\n",
       "      <td>k</td>\n",
       "    </tr>\n",
       "    <tr>\n",
       "      <th>20</th>\n",
       "      <td>3</td>\n",
       "      <td>1.1</td>\n",
       "      <td>r</td>\n",
       "    </tr>\n",
       "    <tr>\n",
       "      <th>30</th>\n",
       "      <td>5</td>\n",
       "      <td>NaN</td>\n",
       "      <td>t</td>\n",
       "    </tr>\n",
       "    <tr>\n",
       "      <th>40</th>\n",
       "      <td>7</td>\n",
       "      <td>3.7</td>\n",
       "      <td>e</td>\n",
       "    </tr>\n",
       "  </tbody>\n",
       "</table>\n",
       "</div>"
      ],
      "text/plain": [
       "    S1   S2 S3\n",
       "10   2  2.6  k\n",
       "20   3  1.1  r\n",
       "30   5  NaN  t\n",
       "40   7  3.7  e"
      ]
     },
     "execution_count": 235,
     "metadata": {},
     "output_type": "execute_result"
    }
   ],
   "source": [
    "# ... boolovským polem\n",
    "d1[d1['S1']<10]"
   ]
  },
  {
   "cell_type": "markdown",
   "id": "bbd860f2-b732-403a-b5a2-950d8610ee4d",
   "metadata": {},
   "source": [
    "### Operace"
   ]
  },
  {
   "cell_type": "markdown",
   "id": "91f53da7-c316-428e-884b-0db94a20b920",
   "metadata": {},
   "source": [
    "Operace lze opět provádět po složkách (má-li operace smysl)"
   ]
  },
  {
   "cell_type": "code",
   "execution_count": 240,
   "id": "e575362d-3703-48ce-8a34-e4a0845255f9",
   "metadata": {},
   "outputs": [
    {
     "data": {
      "text/html": [
       "<div>\n",
       "<style scoped>\n",
       "    .dataframe tbody tr th:only-of-type {\n",
       "        vertical-align: middle;\n",
       "    }\n",
       "\n",
       "    .dataframe tbody tr th {\n",
       "        vertical-align: top;\n",
       "    }\n",
       "\n",
       "    .dataframe thead th {\n",
       "        text-align: right;\n",
       "    }\n",
       "</style>\n",
       "<table border=\"1\" class=\"dataframe\">\n",
       "  <thead>\n",
       "    <tr style=\"text-align: right;\">\n",
       "      <th></th>\n",
       "      <th>S1</th>\n",
       "      <th>S2</th>\n",
       "    </tr>\n",
       "  </thead>\n",
       "  <tbody>\n",
       "    <tr>\n",
       "      <th>10</th>\n",
       "      <td>7.389056</td>\n",
       "      <td>13.463738</td>\n",
       "    </tr>\n",
       "    <tr>\n",
       "      <th>20</th>\n",
       "      <td>20.085537</td>\n",
       "      <td>3.004166</td>\n",
       "    </tr>\n",
       "    <tr>\n",
       "      <th>30</th>\n",
       "      <td>148.413159</td>\n",
       "      <td>NaN</td>\n",
       "    </tr>\n",
       "    <tr>\n",
       "      <th>40</th>\n",
       "      <td>1096.633158</td>\n",
       "      <td>40.447304</td>\n",
       "    </tr>\n",
       "    <tr>\n",
       "      <th>50</th>\n",
       "      <td>59874.141715</td>\n",
       "      <td>NaN</td>\n",
       "    </tr>\n",
       "  </tbody>\n",
       "</table>\n",
       "</div>"
      ],
      "text/plain": [
       "              S1         S2\n",
       "10      7.389056  13.463738\n",
       "20     20.085537   3.004166\n",
       "30    148.413159        NaN\n",
       "40   1096.633158  40.447304\n",
       "50  59874.141715        NaN"
      ]
     },
     "execution_count": 240,
     "metadata": {},
     "output_type": "execute_result"
    }
   ],
   "source": [
    "np.exp(d1[['S1', 'S2']])"
   ]
  },
  {
   "cell_type": "markdown",
   "id": "f4c33847-68f3-48de-abe4-e28639d2c56b",
   "metadata": {},
   "source": [
    "<br>Statistické funkce jsou dostupné jako metody datového rámce. Aplikují se na jednotlivé sloupce."
   ]
  },
  {
   "cell_type": "code",
   "execution_count": 277,
   "id": "9d987e6d-6f00-4a74-acee-ef8fe57f035f",
   "metadata": {},
   "outputs": [
    {
     "data": {
      "text/plain": [
       "S1     11\n",
       "S2    3.7\n",
       "S3      t\n",
       "dtype: object"
      ]
     },
     "execution_count": 277,
     "metadata": {},
     "output_type": "execute_result"
    }
   ],
   "source": [
    "d1.max()"
   ]
  },
  {
   "cell_type": "markdown",
   "id": "5ace0e5c-0451-4f84-9617-20790bad14d5",
   "metadata": {},
   "source": [
    "<br>Spojení řádku s indexem se operacemi ani výběry nezmění. <b>Binární operace s datovým rámcem jsou vždy provádněny se řádky se shodnými indexy!<b>"
   ]
  },
  {
   "cell_type": "code",
   "execution_count": 270,
   "id": "ad76a785-510f-45aa-b7fb-6f68541a8a34",
   "metadata": {},
   "outputs": [
    {
     "data": {
      "text/plain": [
       "10    k\n",
       "20    r\n",
       "40    e\n",
       "Name: S3, dtype: object"
      ]
     },
     "execution_count": 270,
     "metadata": {},
     "output_type": "execute_result"
    }
   ],
   "source": [
    "d1[d1['S2'].notna()]['S3']"
   ]
  },
  {
   "cell_type": "code",
   "execution_count": 278,
   "id": "2f80f437-593f-456f-8654-fd977b4771c1",
   "metadata": {},
   "outputs": [
    {
     "data": {
      "text/html": [
       "<div>\n",
       "<style scoped>\n",
       "    .dataframe tbody tr th:only-of-type {\n",
       "        vertical-align: middle;\n",
       "    }\n",
       "\n",
       "    .dataframe tbody tr th {\n",
       "        vertical-align: top;\n",
       "    }\n",
       "\n",
       "    .dataframe thead th {\n",
       "        text-align: right;\n",
       "    }\n",
       "</style>\n",
       "<table border=\"1\" class=\"dataframe\">\n",
       "  <thead>\n",
       "    <tr style=\"text-align: right;\">\n",
       "      <th></th>\n",
       "      <th>S1</th>\n",
       "      <th>S2</th>\n",
       "    </tr>\n",
       "    <tr>\n",
       "      <th>S3</th>\n",
       "      <th></th>\n",
       "      <th></th>\n",
       "    </tr>\n",
       "  </thead>\n",
       "  <tbody>\n",
       "    <tr>\n",
       "      <th>e</th>\n",
       "      <td>1</td>\n",
       "      <td>1</td>\n",
       "    </tr>\n",
       "    <tr>\n",
       "      <th>k</th>\n",
       "      <td>2</td>\n",
       "      <td>1</td>\n",
       "    </tr>\n",
       "    <tr>\n",
       "      <th>r</th>\n",
       "      <td>1</td>\n",
       "      <td>1</td>\n",
       "    </tr>\n",
       "    <tr>\n",
       "      <th>t</th>\n",
       "      <td>1</td>\n",
       "      <td>0</td>\n",
       "    </tr>\n",
       "  </tbody>\n",
       "</table>\n",
       "</div>"
      ],
      "text/plain": [
       "    S1  S2\n",
       "S3        \n",
       "e    1   1\n",
       "k    2   1\n",
       "r    1   1\n",
       "t    1   0"
      ]
     },
     "execution_count": 278,
     "metadata": {},
     "output_type": "execute_result"
    }
   ],
   "source": [
    "d1.groupby('S3').count()"
   ]
  },
  {
   "cell_type": "markdown",
   "id": "d38454df-c4b6-4fae-9d97-6340ebfa47e0",
   "metadata": {},
   "source": [
    "### Přidávání, mazání sloupců"
   ]
  },
  {
   "cell_type": "code",
   "execution_count": 318,
   "id": "291dbf1f-824a-4bca-847a-497102868ff5",
   "metadata": {},
   "outputs": [
    {
     "name": "stdout",
     "output_type": "stream",
     "text": [
      "    S1   S2 S3        S4\n",
      "10   2  2.6  k  1.300000\n",
      "20   3  1.1  r  0.366667\n",
      "30   5  NaN  t       NaN\n",
      "40   7  3.7  e  0.528571\n",
      "50  11  NaN  k       NaN\n"
     ]
    }
   ],
   "source": [
    "# přidání sloupce\n",
    "d1['S4'] = d1['S2']/d1['S1']\n",
    "print(d1)"
   ]
  },
  {
   "cell_type": "code",
   "execution_count": 319,
   "id": "2aa18256-94b1-4fc4-ae57-50bb154a76c8",
   "metadata": {},
   "outputs": [
    {
     "name": "stdout",
     "output_type": "stream",
     "text": [
      "    S1   S2 S3\n",
      "10   2  2.6  k\n",
      "20   3  1.1  r\n",
      "30   5  NaN  t\n",
      "40   7  3.7  e\n",
      "50  11  NaN  k\n"
     ]
    }
   ],
   "source": [
    "# smazání sloupce\n",
    "del d1['S4']\n",
    "print(d1)"
   ]
  },
  {
   "cell_type": "code",
   "execution_count": null,
   "id": "d4caaaec-91fd-4464-9992-9b5289d81a93",
   "metadata": {},
   "outputs": [],
   "source": []
  }
 ],
 "metadata": {
  "kernelspec": {
   "display_name": "Python 3",
   "language": "python",
   "name": "python3"
  },
  "language_info": {
   "codemirror_mode": {
    "name": "ipython",
    "version": 3
   },
   "file_extension": ".py",
   "mimetype": "text/x-python",
   "name": "python",
   "nbconvert_exporter": "python",
   "pygments_lexer": "ipython3",
   "version": "3.8.10"
  },
  "toc-autonumbering": true,
  "toc-showcode": false
 },
 "nbformat": 4,
 "nbformat_minor": 5
}
