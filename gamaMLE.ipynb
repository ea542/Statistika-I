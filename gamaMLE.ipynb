{
 "cells": [
  {
   "cell_type": "markdown",
   "id": "29653a52-2ac9-424d-b266-354601374e49",
   "metadata": {},
   "source": [
    "# Odhad parametrů gama rozdělení metodou maximální věrohodnosti"
   ]
  },
  {
   "cell_type": "code",
   "execution_count": 1,
   "id": "0d9886a0-b2e7-4fd8-8af9-960073ea9ce5",
   "metadata": {},
   "outputs": [],
   "source": [
    "import numpy as np\n",
    "from matplotlib import pyplot as plt\n",
    "from scipy.special import gamma, digamma, loggamma\n"
   ]
  },
  {
   "cell_type": "code",
   "execution_count": 2,
   "id": "ac158972-2139-4795-9929-ac38f9a2577f",
   "metadata": {},
   "outputs": [],
   "source": [
    "# skutecne parametry pro simulaci\n",
    "alfaT = 2\n",
    "betaT = 5\n",
    "\n",
    "# pocet vzorku\n",
    "n = 100\n",
    "\n",
    "# data\n",
    "x = np.random.gamma(alfaT, 1/betaT, size=n)"
   ]
  },
  {
   "cell_type": "markdown",
   "id": "d3e388b7-9c04-42bf-aa72-4733a7edfea0",
   "metadata": {},
   "source": [
    "$s:=\\sum_{i=1}^n x_i$\n",
    "\n",
    "$t:=\\sum_{i=1}^n\\ln(x_i)$\n",
    "\n",
    "$l(\\alpha, \\beta)=n(\\alpha\\ln\\beta-\\ln\\Gamma(\\alpha))+(\\alpha-1)t-\\beta(s)$"
   ]
  },
  {
   "cell_type": "code",
   "execution_count": 3,
   "id": "90fd8d9f-6520-4c75-ba67-90a11e358d72",
   "metadata": {},
   "outputs": [],
   "source": [
    "# hodnoty statistik\n",
    "s = np.sum(x)\n",
    "t = np.sum(np.log(x))"
   ]
  },
  {
   "cell_type": "markdown",
   "id": "6cc117da-d979-4e70-ba84-5a3f5b39eb16",
   "metadata": {},
   "source": [
    "$\\frac{\\partial l(\\alpha, \\beta)}{\\partial\\alpha} = n\\ln\\beta-n\\psi(\\alpha)+t$\n",
    "\n",
    "$\\frac{\\partial l(\\alpha, \\beta)}{\\partial\\beta} = n\\frac{\\alpha}{\\beta}-s$\n",
    "\n",
    "Z rovnice $\\frac{\\partial l(\\alpha, \\beta)}{\\partial\\beta} = 0$ vyjádříme $\\beta=\\frac{n}{s}\\alpha$ a dosadíme do $\\frac{\\partial l(\\alpha, \\beta)}{\\partial\\alpha} = 0$.\n",
    "\n",
    "$\\alpha$ pak hledáme jako řešení rovnice $$n\\ln\\left(\\frac{n}{s}\\alpha\\right)-n\\psi(\\alpha)+t=0.$$\n",
    "\n",
    "Rovnici řešíme numericky. Použijeme metodu půlení intervalů."
   ]
  },
  {
   "cell_type": "code",
   "execution_count": 4,
   "id": "cd2adc7b-78e0-4cf5-82b9-3c801d6624b3",
   "metadata": {},
   "outputs": [],
   "source": [
    "# l(a, n*alfa/beta-s)$\n",
    "def Lalpha(alfa):\n",
    "    return n*(alfa*np.log(n/s*alfa)-loggamma(alfa))+(alfa-1)*t-n*alfa\n"
   ]
  },
  {
   "cell_type": "code",
   "execution_count": 5,
   "id": "bf80aece-1b64-41fe-80cb-04f6f7c2df91",
   "metadata": {},
   "outputs": [
    {
     "data": {
      "text/plain": [
       "Text(0, 0.5, '$l(\\\\alpha, \\\\frac{n}{s}{\\\\alpha})$')"
      ]
     },
     "execution_count": 5,
     "metadata": {},
     "output_type": "execute_result"
    },
    {
     "data": {
      "image/png": "[encoded data removed]",
      "text/plain": [
       "<Figure size 432x288 with 1 Axes>"
      ]
     },
     "metadata": {
      "needs_background": "light"
     },
     "output_type": "display_data"
    }
   ],
   "source": [
    "xs = np.linspace(1, 10, 200)\n",
    "plt.plot(xs, Lalpha(xs))\n",
    "plt.xlabel('$\\\\alpha$')\n",
    "plt.ylabel('$l(\\\\alpha, \\\\frac{n}{s}{\\\\alpha})$')"
   ]
  },
  {
   "cell_type": "code",
   "execution_count": 6,
   "id": "23e32e05-213a-4047-8f38-d3ef2ff03eda",
   "metadata": {},
   "outputs": [],
   "source": [
    "def fun(a):\n",
    "    return n*np.log(n/s*a)-n*digamma(a)+t"
   ]
  },
  {
   "cell_type": "code",
   "execution_count": 7,
   "id": "3ae44473-b9cd-4404-88d6-2fc2f86b2c4a",
   "metadata": {},
   "outputs": [
    {
     "data": {
      "text/plain": [
       "Text(0, 0.5, '$\\\\frac{\\\\partial l}{\\\\partial\\\\alpha}\\\\left(\\\\alpha, \\\\frac{n}{s}\\\\alpha\\\\right)$')"
      ]
     },
     "execution_count": 7,
     "metadata": {},
     "output_type": "execute_result"
    },
    {
     "data": {
      "image/png": "[encoded data removed]",
      "text/plain": [
       "<Figure size 432x288 with 1 Axes>"
      ]
     },
     "metadata": {
      "needs_background": "light"
     },
     "output_type": "display_data"
    }
   ],
   "source": [
    "plt.plot(xs, fun(xs))\n",
    "plt.xlabel('$\\\\alpha$')\n",
    "plt.ylabel('$\\\\frac{\\\\partial l}{\\\\partial\\\\alpha}\\\\left(\\\\alpha, \\\\frac{n}{s}\\\\alpha\\\\right)$')"
   ]
  },
  {
   "cell_type": "code",
   "execution_count": 8,
   "id": "2cb43114-ee37-47f2-b5b7-56e1706e53eb",
   "metadata": {},
   "outputs": [],
   "source": [
    "# metoda puleni intervalu\n",
    "# hleda reseni f(x)=0 v intervalu <xa, xb> s presnosti eps\n",
    "def puleni(xa, xb, f, eps):\n",
    "    if (f(xa)*f(xb))>0:\n",
    "        return \"fuj\"\n",
    "    a = xa\n",
    "    b = xb\n",
    "    while (b-a)>eps:\n",
    "        c = 0.5*(a+b)\n",
    "        if (f(a)*f(c))>0:\n",
    "            a=c\n",
    "        else:\n",
    "            b=c\n",
    "    return 0.5*(a+b)"
   ]
  },
  {
   "cell_type": "code",
   "execution_count": 9,
   "id": "b7e4dd35-7aff-4e36-a5c7-25b6770190c1",
   "metadata": {},
   "outputs": [],
   "source": [
    "# maximalne verohodny odhad\n",
    "alphaML = puleni(1, 10, fun, 1e-6)\n",
    "betaML = n/s*alphaML \n",
    "\n"
   ]
  },
  {
   "cell_type": "code",
   "execution_count": 10,
   "id": "1f542116-bacc-413f-a935-b8879149f2db",
   "metadata": {},
   "outputs": [],
   "source": [
    "# odhad metodou momentu\n",
    "m1 = np.mean(x)\n",
    "m2 = np.mean(x**2)\n",
    "\n",
    "alphaMM = m1**2/(m2-m1**2)\n",
    "betaMM = m1/(m2-m1**2)"
   ]
  },
  {
   "cell_type": "code",
   "execution_count": 11,
   "id": "c1105597-7731-4037-ae9d-9356c90e8346",
   "metadata": {},
   "outputs": [
    {
     "name": "stdout",
     "output_type": "stream",
     "text": [
      "ML odhad:  2.023642271757126 5.612071180592968\n",
      "MM odhad:  1.5910042880204793 4.41225676969412\n"
     ]
    }
   ],
   "source": [
    "print('ML odhad: ', alphaML, betaML)\n",
    "print('MM odhad: ', alphaMM, betaMM)"
   ]
  },
  {
   "cell_type": "code",
   "execution_count": null,
   "id": "1fa08fae-7401-4a15-801d-827d3fa78fbc",
   "metadata": {},
   "outputs": [],
   "source": []
  },
  {
   "cell_type": "code",
   "execution_count": null,
   "id": "fef28d8e-d884-45cf-92f7-44312c2717ad",
   "metadata": {},
   "outputs": [],
   "source": []
  }
 ],
 "metadata": {
  "kernelspec": {
   "display_name": "Python 3",
   "language": "python",
   "name": "python3"
  },
  "language_info": {
   "codemirror_mode": {
    "name": "ipython",
    "version": 3
   },
   "file_extension": ".py",
   "mimetype": "text/x-python",
   "name": "python",
   "nbconvert_exporter": "python",
   "pygments_lexer": "ipython3",
   "version": "3.8.10"
  }
 },
 "nbformat": 4,
 "nbformat_minor": 5
}
