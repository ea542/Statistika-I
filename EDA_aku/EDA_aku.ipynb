{
 "cells": [
  {
   "cell_type": "code",
   "execution_count": 88,
   "id": "cec86818-bdc4-42f4-8466-472a4af5ad16",
   "metadata": {},
   "outputs": [],
   "source": [
    "import numpy as np\n",
    "import pandas as pd\n",
    "from matplotlib import pyplot as plt\n",
    "from statsmodels.graphics.mosaicplot import mosaic\n",
    "import statsmodels.api as sm\n",
    "\n"
   ]
  },
  {
   "cell_type": "code",
   "execution_count": 32,
   "id": "b0a1116a-5213-4d1e-9ba3-144554d03b1b",
   "metadata": {},
   "outputs": [],
   "source": [
    "aku = pd.read_csv('aku.csv', sep=';', index_col=0)"
   ]
  },
  {
   "cell_type": "code",
   "execution_count": 33,
   "id": "33ace8de-4b79-4b8a-a47b-e839caefef14",
   "metadata": {},
   "outputs": [
    {
     "data": {
      "text/plain": [
       "Index(['vyrobce', 'kapacita_5', 'kapacita_100'], dtype='object')"
      ]
     },
     "execution_count": 33,
     "metadata": {},
     "output_type": "execute_result"
    }
   ],
   "source": [
    "aku.columns"
   ]
  },
  {
   "cell_type": "code",
   "execution_count": 34,
   "id": "cc9888e6-9051-4fda-a0c8-21bdca996c0b",
   "metadata": {},
   "outputs": [
    {
     "data": {
      "text/html": [
       "<div>\n",
       "<style scoped>\n",
       "    .dataframe tbody tr th:only-of-type {\n",
       "        vertical-align: middle;\n",
       "    }\n",
       "\n",
       "    .dataframe tbody tr th {\n",
       "        vertical-align: top;\n",
       "    }\n",
       "\n",
       "    .dataframe thead th {\n",
       "        text-align: right;\n",
       "    }\n",
       "</style>\n",
       "<table border=\"1\" class=\"dataframe\">\n",
       "  <thead>\n",
       "    <tr style=\"text-align: right;\">\n",
       "      <th></th>\n",
       "      <th>vyrobce</th>\n",
       "      <th>kapacita_5</th>\n",
       "      <th>kapacita_100</th>\n",
       "    </tr>\n",
       "    <tr>\n",
       "      <th>cislo</th>\n",
       "      <th></th>\n",
       "      <th></th>\n",
       "      <th></th>\n",
       "    </tr>\n",
       "  </thead>\n",
       "  <tbody>\n",
       "    <tr>\n",
       "      <th>1</th>\n",
       "      <td>A</td>\n",
       "      <td>1996</td>\n",
       "      <td>1717</td>\n",
       "    </tr>\n",
       "    <tr>\n",
       "      <th>2</th>\n",
       "      <td>A</td>\n",
       "      <td>2053</td>\n",
       "      <td>2134</td>\n",
       "    </tr>\n",
       "    <tr>\n",
       "      <th>3</th>\n",
       "      <td>A</td>\n",
       "      <td>2087</td>\n",
       "      <td>1981</td>\n",
       "    </tr>\n",
       "    <tr>\n",
       "      <th>4</th>\n",
       "      <td>A</td>\n",
       "      <td>2026</td>\n",
       "      <td>1834</td>\n",
       "    </tr>\n",
       "    <tr>\n",
       "      <th>5</th>\n",
       "      <td>A</td>\n",
       "      <td>2039</td>\n",
       "      <td>1941</td>\n",
       "    </tr>\n",
       "  </tbody>\n",
       "</table>\n",
       "</div>"
      ],
      "text/plain": [
       "      vyrobce  kapacita_5  kapacita_100\n",
       "cislo                                  \n",
       "1           A        1996          1717\n",
       "2           A        2053          2134\n",
       "3           A        2087          1981\n",
       "4           A        2026          1834\n",
       "5           A        2039          1941"
      ]
     },
     "execution_count": 34,
     "metadata": {},
     "output_type": "execute_result"
    }
   ],
   "source": [
    "aku.head()"
   ]
  },
  {
   "cell_type": "code",
   "execution_count": 35,
   "id": "a29db2ae-18ea-4657-8f71-31299c433ae7",
   "metadata": {},
   "outputs": [
    {
     "data": {
      "text/plain": [
       "cislo\n",
       "1      A\n",
       "2      A\n",
       "3      A\n",
       "4      A\n",
       "5      A\n",
       "      ..\n",
       "124    D\n",
       "125    D\n",
       "126    D\n",
       "127    D\n",
       "128    D\n",
       "Name: vyrobce, Length: 128, dtype: object"
      ]
     },
     "execution_count": 35,
     "metadata": {},
     "output_type": "execute_result"
    }
   ],
   "source": [
    "aku['vyrobce']"
   ]
  },
  {
   "cell_type": "code",
   "execution_count": 36,
   "id": "18772108-360e-4adf-9108-19fe018346fd",
   "metadata": {},
   "outputs": [],
   "source": [
    "aku['vyrobce']=aku['vyrobce'].astype('category')"
   ]
  },
  {
   "cell_type": "code",
   "execution_count": 37,
   "id": "91e89c6d-5e46-4b15-9730-a237c8b69b88",
   "metadata": {},
   "outputs": [
    {
     "data": {
      "text/plain": [
       "cislo\n",
       "1      A\n",
       "2      A\n",
       "3      A\n",
       "4      A\n",
       "5      A\n",
       "      ..\n",
       "124    D\n",
       "125    D\n",
       "126    D\n",
       "127    D\n",
       "128    D\n",
       "Name: vyrobce, Length: 128, dtype: category\n",
       "Categories (4, object): ['A', 'B', 'C', 'D']"
      ]
     },
     "execution_count": 37,
     "metadata": {},
     "output_type": "execute_result"
    }
   ],
   "source": [
    "aku['vyrobce']"
   ]
  },
  {
   "cell_type": "code",
   "execution_count": 38,
   "id": "2d49e8d2-b9cc-425d-b896-bafa780a6457",
   "metadata": {},
   "outputs": [
    {
     "data": {
      "text/plain": [
       "A    32\n",
       "B    32\n",
       "C    32\n",
       "D    32\n",
       "Name: vyrobce, dtype: int64"
      ]
     },
     "execution_count": 38,
     "metadata": {},
     "output_type": "execute_result"
    }
   ],
   "source": [
    "aku['vyrobce'].value_counts()"
   ]
  },
  {
   "cell_type": "code",
   "execution_count": 31,
   "id": "63d7a1f8-31db-42fd-b163-92fdf82547ad",
   "metadata": {},
   "outputs": [
    {
     "data": {
      "text/plain": [
       "<AxesSubplot:ylabel='vyrobce'>"
      ]
     },
     "execution_count": 31,
     "metadata": {},
     "output_type": "execute_result"
    },
    {
     "data": {
      "image/png": "[encoded data removed]",
      "text/plain": [
       "<Figure size 432x288 with 1 Axes>"
      ]
     },
     "metadata": {},
     "output_type": "display_data"
    }
   ],
   "source": [
    "aku['vyrobce'].value_counts().plot.pie()"
   ]
  },
  {
   "cell_type": "code",
   "execution_count": 39,
   "id": "f6791c35-b4ae-4f4c-8b43-69516c331eba",
   "metadata": {},
   "outputs": [
    {
     "data": {
      "text/plain": [
       "<AxesSubplot:>"
      ]
     },
     "execution_count": 39,
     "metadata": {},
     "output_type": "execute_result"
    },
    {
     "data": {
      "image/png": "[encoded data removed]",
      "text/plain": [
       "<Figure size 432x288 with 1 Axes>"
      ]
     },
     "metadata": {
      "needs_background": "light"
     },
     "output_type": "display_data"
    }
   ],
   "source": [
    "aku['vyrobce'].value_counts().plot.bar()"
   ]
  },
  {
   "cell_type": "code",
   "execution_count": 82,
   "id": "22c4e02d-1de3-46c8-86ce-1973d235fcf6",
   "metadata": {},
   "outputs": [
    {
     "data": {
      "text/plain": [
       "cislo\n",
       "1      A\n",
       "2      A\n",
       "3      A\n",
       "4      A\n",
       "5      A\n",
       "      ..\n",
       "124    D\n",
       "125    D\n",
       "126    D\n",
       "127    D\n",
       "128    D\n",
       "Name: vyrobce, Length: 128, dtype: category\n",
       "Categories (4, object): ['A', 'B', 'C', 'D']"
      ]
     },
     "execution_count": 82,
     "metadata": {},
     "output_type": "execute_result"
    }
   ],
   "source": [
    "vyrobce"
   ]
  },
  {
   "cell_type": "code",
   "execution_count": 40,
   "id": "e741f6fb-ac75-49e2-9c29-df4fd42b4c87",
   "metadata": {},
   "outputs": [
    {
     "data": {
      "text/plain": [
       "<AxesSubplot:ylabel='Frequency'>"
      ]
     },
     "execution_count": 40,
     "metadata": {},
     "output_type": "execute_result"
    },
    {
     "data": {
      "image/png": "[encoded data removed]",
      "text/plain": [
       "<Figure size 432x288 with 1 Axes>"
      ]
     },
     "metadata": {
      "needs_background": "light"
     },
     "output_type": "display_data"
    }
   ],
   "source": [
    "aku.plot.hist(alpha=0.5)"
   ]
  },
  {
   "cell_type": "code",
   "execution_count": 42,
   "id": "21774be5-760c-446d-a0fa-f1ff4f7e31ee",
   "metadata": {},
   "outputs": [
    {
     "data": {
      "text/plain": [
       "<AxesSubplot:>"
      ]
     },
     "execution_count": 42,
     "metadata": {},
     "output_type": "execute_result"
    },
    {
     "data": {
      "image/png": "[encoded data removed]",
      "text/plain": [
       "<Figure size 432x288 with 1 Axes>"
      ]
     },
     "metadata": {
      "needs_background": "light"
     },
     "output_type": "display_data"
    }
   ],
   "source": [
    "aku.plot.box()"
   ]
  },
  {
   "cell_type": "code",
   "execution_count": 52,
   "id": "7f1b1686-b6cb-43d0-ad31-ba3eeacd1a34",
   "metadata": {},
   "outputs": [],
   "source": [
    "Q1_5=aku['kapacita_5'].quantile(0.25)\n",
    "Q3_5=aku['kapacita_5'].quantile(0.75)\n",
    "IQR_5 = Q3_5-Q1_5\n",
    "out_5 = (aku['kapacita_5']<(Q1_5-1.5*IQR_5)) | (aku['kapacita_5']>(Q3_5+1.5*IQR_5))"
   ]
  },
  {
   "cell_type": "code",
   "execution_count": 54,
   "id": "1cbee5fd-d90a-4ded-b86f-7e9e03fa7074",
   "metadata": {},
   "outputs": [
    {
     "data": {
      "text/html": [
       "<div>\n",
       "<style scoped>\n",
       "    .dataframe tbody tr th:only-of-type {\n",
       "        vertical-align: middle;\n",
       "    }\n",
       "\n",
       "    .dataframe tbody tr th {\n",
       "        vertical-align: top;\n",
       "    }\n",
       "\n",
       "    .dataframe thead th {\n",
       "        text-align: right;\n",
       "    }\n",
       "</style>\n",
       "<table border=\"1\" class=\"dataframe\">\n",
       "  <thead>\n",
       "    <tr style=\"text-align: right;\">\n",
       "      <th></th>\n",
       "      <th>vyrobce</th>\n",
       "      <th>kapacita_5</th>\n",
       "      <th>kapacita_100</th>\n",
       "    </tr>\n",
       "    <tr>\n",
       "      <th>cislo</th>\n",
       "      <th></th>\n",
       "      <th></th>\n",
       "      <th></th>\n",
       "    </tr>\n",
       "  </thead>\n",
       "  <tbody>\n",
       "    <tr>\n",
       "      <th>20</th>\n",
       "      <td>A</td>\n",
       "      <td>732</td>\n",
       "      <td>620</td>\n",
       "    </tr>\n",
       "    <tr>\n",
       "      <th>33</th>\n",
       "      <td>B</td>\n",
       "      <td>1854</td>\n",
       "      <td>1841</td>\n",
       "    </tr>\n",
       "    <tr>\n",
       "      <th>88</th>\n",
       "      <td>C</td>\n",
       "      <td>1221</td>\n",
       "      <td>823</td>\n",
       "    </tr>\n",
       "  </tbody>\n",
       "</table>\n",
       "</div>"
      ],
      "text/plain": [
       "      vyrobce  kapacita_5  kapacita_100\n",
       "cislo                                  \n",
       "20          A         732           620\n",
       "33          B        1854          1841\n",
       "88          C        1221           823"
      ]
     },
     "execution_count": 54,
     "metadata": {},
     "output_type": "execute_result"
    }
   ],
   "source": [
    "aku[out_5]"
   ]
  },
  {
   "cell_type": "code",
   "execution_count": 59,
   "id": "7f78e196-ee1d-4b5e-a7b5-410409bfb3e3",
   "metadata": {},
   "outputs": [],
   "source": [
    "aku=aku[np.logical_not(out_5)]"
   ]
  },
  {
   "cell_type": "code",
   "execution_count": 66,
   "id": "5918bcf7-bbd8-49f7-b238-1912de709768",
   "metadata": {},
   "outputs": [
    {
     "data": {
      "text/plain": [
       "<AxesSubplot:ylabel='Frequency'>"
      ]
     },
     "execution_count": 66,
     "metadata": {},
     "output_type": "execute_result"
    },
    {
     "data": {
      "image/png": "[encoded data removed]",
      "text/plain": [
       "<Figure size 432x288 with 1 Axes>"
      ]
     },
     "metadata": {
      "needs_background": "light"
     },
     "output_type": "display_data"
    }
   ],
   "source": [
    "aku.plot.hist(alpha=0.5)"
   ]
  },
  {
   "cell_type": "code",
   "execution_count": 61,
   "id": "6e6fd2a3-2c9b-467c-a436-717c76e7397d",
   "metadata": {},
   "outputs": [
    {
     "data": {
      "text/plain": [
       "<AxesSubplot:>"
      ]
     },
     "execution_count": 61,
     "metadata": {},
     "output_type": "execute_result"
    },
    {
     "data": {
      "image/png": "[encoded data removed]",
      "text/plain": [
       "<Figure size 432x288 with 1 Axes>"
      ]
     },
     "metadata": {
      "needs_background": "light"
     },
     "output_type": "display_data"
    }
   ],
   "source": [
    "aku.plot.box()"
   ]
  },
  {
   "cell_type": "code",
   "execution_count": 62,
   "id": "a745526b-f8fb-41ff-a604-6fa10a24f227",
   "metadata": {},
   "outputs": [
    {
     "data": {
      "text/html": [
       "<div>\n",
       "<style scoped>\n",
       "    .dataframe tbody tr th:only-of-type {\n",
       "        vertical-align: middle;\n",
       "    }\n",
       "\n",
       "    .dataframe tbody tr th {\n",
       "        vertical-align: top;\n",
       "    }\n",
       "\n",
       "    .dataframe thead th {\n",
       "        text-align: right;\n",
       "    }\n",
       "</style>\n",
       "<table border=\"1\" class=\"dataframe\">\n",
       "  <thead>\n",
       "    <tr style=\"text-align: right;\">\n",
       "      <th></th>\n",
       "      <th>kapacita_5</th>\n",
       "      <th>kapacita_100</th>\n",
       "    </tr>\n",
       "  </thead>\n",
       "  <tbody>\n",
       "    <tr>\n",
       "      <th>count</th>\n",
       "      <td>125.000000</td>\n",
       "      <td>125.000000</td>\n",
       "    </tr>\n",
       "    <tr>\n",
       "      <th>mean</th>\n",
       "      <td>2005.192000</td>\n",
       "      <td>1846.104000</td>\n",
       "    </tr>\n",
       "    <tr>\n",
       "      <th>std</th>\n",
       "      <td>53.207248</td>\n",
       "      <td>112.598403</td>\n",
       "    </tr>\n",
       "    <tr>\n",
       "      <th>min</th>\n",
       "      <td>1871.000000</td>\n",
       "      <td>1496.000000</td>\n",
       "    </tr>\n",
       "    <tr>\n",
       "      <th>25%</th>\n",
       "      <td>1971.000000</td>\n",
       "      <td>1777.000000</td>\n",
       "    </tr>\n",
       "    <tr>\n",
       "      <th>50%</th>\n",
       "      <td>2007.000000</td>\n",
       "      <td>1847.000000</td>\n",
       "    </tr>\n",
       "    <tr>\n",
       "      <th>75%</th>\n",
       "      <td>2042.000000</td>\n",
       "      <td>1929.000000</td>\n",
       "    </tr>\n",
       "    <tr>\n",
       "      <th>max</th>\n",
       "      <td>2129.000000</td>\n",
       "      <td>2134.000000</td>\n",
       "    </tr>\n",
       "  </tbody>\n",
       "</table>\n",
       "</div>"
      ],
      "text/plain": [
       "        kapacita_5  kapacita_100\n",
       "count   125.000000    125.000000\n",
       "mean   2005.192000   1846.104000\n",
       "std      53.207248    112.598403\n",
       "min    1871.000000   1496.000000\n",
       "25%    1971.000000   1777.000000\n",
       "50%    2007.000000   1847.000000\n",
       "75%    2042.000000   1929.000000\n",
       "max    2129.000000   2134.000000"
      ]
     },
     "execution_count": 62,
     "metadata": {},
     "output_type": "execute_result"
    }
   ],
   "source": [
    "aku.describe()"
   ]
  },
  {
   "cell_type": "code",
   "execution_count": 65,
   "id": "2ee96a09-141f-42ab-ae10-5ad3752e1730",
   "metadata": {},
   "outputs": [
    {
     "data": {
      "text/plain": [
       "<AxesSubplot:xlabel='kapacita_5', ylabel='kapacita_100'>"
      ]
     },
     "execution_count": 65,
     "metadata": {},
     "output_type": "execute_result"
    },
    {
     "data": {
      "image/png": "[encoded data removed]",
      "text/plain": [
       "<Figure size 432x288 with 1 Axes>"
      ]
     },
     "metadata": {
      "needs_background": "light"
     },
     "output_type": "display_data"
    }
   ],
   "source": [
    "aku.plot.scatter(x='kapacita_5', y='kapacita_100')"
   ]
  },
  {
   "cell_type": "code",
   "execution_count": 67,
   "id": "91bd667d-3ebb-4ba9-9c40-9906bd258c0b",
   "metadata": {},
   "outputs": [
    {
     "name": "stderr",
     "output_type": "stream",
     "text": [
      "<ipython-input-67-7742fd7f4aa5>:1: SettingWithCopyWarning: \n",
      "A value is trying to be set on a copy of a slice from a DataFrame.\n",
      "Try using .loc[row_indexer,col_indexer] = value instead\n",
      "\n",
      "See the caveats in the documentation: https://pandas.pydata.org/pandas-docs/stable/user_guide/indexing.html#returning-a-view-versus-a-copy\n",
      "  aku['pokles']=aku['kapacita_5']-aku['kapacita_100']\n"
     ]
    }
   ],
   "source": [
    "aku['pokles']=aku['kapacita_5']-aku['kapacita_100']"
   ]
  },
  {
   "cell_type": "code",
   "execution_count": 70,
   "id": "54253fe9-7819-40df-af72-b9834b2fde71",
   "metadata": {},
   "outputs": [
    {
     "name": "stderr",
     "output_type": "stream",
     "text": [
      "<ipython-input-70-f0d5e108d67e>:1: SettingWithCopyWarning: \n",
      "A value is trying to be set on a copy of a slice from a DataFrame.\n",
      "Try using .loc[row_indexer,col_indexer] = value instead\n",
      "\n",
      "See the caveats in the documentation: https://pandas.pydata.org/pandas-docs/stable/user_guide/indexing.html#returning-a-view-versus-a-copy\n",
      "  aku['rel_pokles']=aku['pokles']/aku['kapacita_5']\n"
     ]
    }
   ],
   "source": [
    "aku['rel_pokles']=aku['pokles']/aku['kapacita_5']"
   ]
  },
  {
   "cell_type": "code",
   "execution_count": 71,
   "id": "736f2816-429e-4be2-a756-3b9e9c1e0062",
   "metadata": {},
   "outputs": [
    {
     "name": "stderr",
     "output_type": "stream",
     "text": [
      "<ipython-input-71-b7e34a539f8d>:1: SettingWithCopyWarning: \n",
      "A value is trying to be set on a copy of a slice from a DataFrame.\n",
      "Try using .loc[row_indexer,col_indexer] = value instead\n",
      "\n",
      "See the caveats in the documentation: https://pandas.pydata.org/pandas-docs/stable/user_guide/indexing.html#returning-a-view-versus-a-copy\n",
      "  aku['pokles_nad10p'] = aku['rel_pokles']>0.1\n"
     ]
    }
   ],
   "source": [
    "aku['pokles_nad10p'] = aku['rel_pokles']>0.1"
   ]
  },
  {
   "cell_type": "code",
   "execution_count": 74,
   "id": "b39ff4c8-c4aa-495b-a8bc-b9152738accd",
   "metadata": {},
   "outputs": [],
   "source": [
    "crt = pd.crosstab(aku['vyrobce'], aku['pokles_nad10p'])"
   ]
  },
  {
   "cell_type": "code",
   "execution_count": 87,
   "id": "0faa6aff-d4c9-4b74-ba0e-fbde28438fc3",
   "metadata": {},
   "outputs": [
    {
     "data": {
      "image/png": "[encoded data removed]",
      "text/plain": [
       "<Figure size 432x288 with 3 Axes>"
      ]
     },
     "metadata": {
      "needs_background": "light"
     },
     "output_type": "display_data"
    }
   ],
   "source": [
    "mosaic(aku, ['vyrobce', 'pokles_nad10p']);"
   ]
  },
  {
   "cell_type": "code",
   "execution_count": 100,
   "id": "69430209-5356-4082-8786-3252c8058b19",
   "metadata": {},
   "outputs": [
    {
     "data": {
      "image/png": "[encoded data removed]",
      "text/plain": [
       "<Figure size 432x288 with 1 Axes>"
      ]
     },
     "metadata": {
      "needs_background": "light"
     },
     "output_type": "display_data"
    }
   ],
   "source": [
    "fig=sm.qqplot(aku['kapacita_5'], line='45', fit=True)\n",
    "plt.show()\n"
   ]
  },
  {
   "cell_type": "code",
   "execution_count": null,
   "id": "cce9f438-be5b-4027-ace0-a1efcda6b318",
   "metadata": {},
   "outputs": [],
   "source": []
  }
 ],
 "metadata": {
  "kernelspec": {
   "display_name": "Python 3",
   "language": "python",
   "name": "python3"
  },
  "language_info": {
   "codemirror_mode": {
    "name": "ipython",
    "version": 3
   },
   "file_extension": ".py",
   "mimetype": "text/x-python",
   "name": "python",
   "nbconvert_exporter": "python",
   "pygments_lexer": "ipython3",
   "version": "3.8.10"
  }
 },
 "nbformat": 4,
 "nbformat_minor": 5
}
