{
 "cells": [
  {
   "cell_type": "code",
   "execution_count": 1,
   "id": "cec86818-bdc4-42f4-8466-472a4af5ad16",
   "metadata": {
    "tags": []
   },
   "outputs": [],
   "source": [
    "import numpy as np\n",
    "import pandas as pd\n",
    "from scipy import stats\n",
    "from matplotlib import pyplot as plt\n",
    "from statsmodels.graphics.mosaicplot import mosaic\n",
    "from statsmodels.stats import oneway                         # ANOVA\n",
    "from statsmodels.stats.multicomp import pairwise_tukeyhsd    # post-hoc analýza po ANOVA\n",
    "import statsmodels.api as sm\n",
    "import scikit_posthocs as sp                                 # post-hoc analýza po ANOVA\n",
    "import pingouin"
   ]
  },
  {
   "cell_type": "markdown",
   "id": "3b504e94-9a5e-4f6f-bf1f-16a282a03d13",
   "metadata": {},
   "source": [
    "# Načtení dat ze souboru \n"
   ]
  },
  {
   "cell_type": "code",
   "execution_count": 2,
   "id": "b0a1116a-5213-4d1e-9ba3-144554d03b1b",
   "metadata": {
    "tags": []
   },
   "outputs": [],
   "source": [
    "aku = pd.read_csv('aku.csv', sep=';', index_col=0) #sep: oddělovač, index_col: číslo sloupce s indexem řádku (soubor jej nemusí obsahovat)"
   ]
  },
  {
   "cell_type": "code",
   "execution_count": 3,
   "id": "be401684-a256-46fa-9aa3-aee9d2fdbcd3",
   "metadata": {
    "tags": []
   },
   "outputs": [
    {
     "data": {
      "text/html": [
       "<div>\n",
       "<style scoped>\n",
       "    .dataframe tbody tr th:only-of-type {\n",
       "        vertical-align: middle;\n",
       "    }\n",
       "\n",
       "    .dataframe tbody tr th {\n",
       "        vertical-align: top;\n",
       "    }\n",
       "\n",
       "    .dataframe thead th {\n",
       "        text-align: right;\n",
       "    }\n",
       "</style>\n",
       "<table border=\"1\" class=\"dataframe\">\n",
       "  <thead>\n",
       "    <tr style=\"text-align: right;\">\n",
       "      <th></th>\n",
       "      <th>vyrobce</th>\n",
       "      <th>kapacita_5</th>\n",
       "      <th>kapacita_100</th>\n",
       "    </tr>\n",
       "    <tr>\n",
       "      <th>cislo</th>\n",
       "      <th></th>\n",
       "      <th></th>\n",
       "      <th></th>\n",
       "    </tr>\n",
       "  </thead>\n",
       "  <tbody>\n",
       "    <tr>\n",
       "      <th>1</th>\n",
       "      <td>A</td>\n",
       "      <td>1996</td>\n",
       "      <td>1717</td>\n",
       "    </tr>\n",
       "    <tr>\n",
       "      <th>2</th>\n",
       "      <td>A</td>\n",
       "      <td>2053</td>\n",
       "      <td>2134</td>\n",
       "    </tr>\n",
       "    <tr>\n",
       "      <th>3</th>\n",
       "      <td>A</td>\n",
       "      <td>2087</td>\n",
       "      <td>1981</td>\n",
       "    </tr>\n",
       "    <tr>\n",
       "      <th>4</th>\n",
       "      <td>A</td>\n",
       "      <td>2026</td>\n",
       "      <td>1834</td>\n",
       "    </tr>\n",
       "    <tr>\n",
       "      <th>5</th>\n",
       "      <td>A</td>\n",
       "      <td>2039</td>\n",
       "      <td>1941</td>\n",
       "    </tr>\n",
       "    <tr>\n",
       "      <th>...</th>\n",
       "      <td>...</td>\n",
       "      <td>...</td>\n",
       "      <td>...</td>\n",
       "    </tr>\n",
       "    <tr>\n",
       "      <th>124</th>\n",
       "      <td>D</td>\n",
       "      <td>2039</td>\n",
       "      <td>1795</td>\n",
       "    </tr>\n",
       "    <tr>\n",
       "      <th>125</th>\n",
       "      <td>D</td>\n",
       "      <td>2021</td>\n",
       "      <td>1948</td>\n",
       "    </tr>\n",
       "    <tr>\n",
       "      <th>126</th>\n",
       "      <td>D</td>\n",
       "      <td>2070</td>\n",
       "      <td>1858</td>\n",
       "    </tr>\n",
       "    <tr>\n",
       "      <th>127</th>\n",
       "      <td>D</td>\n",
       "      <td>2015</td>\n",
       "      <td>1914</td>\n",
       "    </tr>\n",
       "    <tr>\n",
       "      <th>128</th>\n",
       "      <td>D</td>\n",
       "      <td>2041</td>\n",
       "      <td>1911</td>\n",
       "    </tr>\n",
       "  </tbody>\n",
       "</table>\n",
       "<p>128 rows × 3 columns</p>\n",
       "</div>"
      ],
      "text/plain": [
       "      vyrobce  kapacita_5  kapacita_100\n",
       "cislo                                  \n",
       "1           A        1996          1717\n",
       "2           A        2053          2134\n",
       "3           A        2087          1981\n",
       "4           A        2026          1834\n",
       "5           A        2039          1941\n",
       "...       ...         ...           ...\n",
       "124         D        2039          1795\n",
       "125         D        2021          1948\n",
       "126         D        2070          1858\n",
       "127         D        2015          1914\n",
       "128         D        2041          1911\n",
       "\n",
       "[128 rows x 3 columns]"
      ]
     },
     "execution_count": 3,
     "metadata": {},
     "output_type": "execute_result"
    }
   ],
   "source": [
    "aku"
   ]
  },
  {
   "cell_type": "code",
   "execution_count": 4,
   "id": "33ace8de-4b79-4b8a-a47b-e839caefef14",
   "metadata": {
    "tags": []
   },
   "outputs": [
    {
     "data": {
      "text/plain": [
       "Index(['vyrobce', 'kapacita_5', 'kapacita_100'], dtype='object')"
      ]
     },
     "execution_count": 4,
     "metadata": {},
     "output_type": "execute_result"
    }
   ],
   "source": [
    "aku.columns # názvy slupců v datovém souboru"
   ]
  },
  {
   "cell_type": "code",
   "execution_count": 5,
   "id": "cc9888e6-9051-4fda-a0c8-21bdca996c0b",
   "metadata": {
    "tags": []
   },
   "outputs": [
    {
     "data": {
      "text/html": [
       "<div>\n",
       "<style scoped>\n",
       "    .dataframe tbody tr th:only-of-type {\n",
       "        vertical-align: middle;\n",
       "    }\n",
       "\n",
       "    .dataframe tbody tr th {\n",
       "        vertical-align: top;\n",
       "    }\n",
       "\n",
       "    .dataframe thead th {\n",
       "        text-align: right;\n",
       "    }\n",
       "</style>\n",
       "<table border=\"1\" class=\"dataframe\">\n",
       "  <thead>\n",
       "    <tr style=\"text-align: right;\">\n",
       "      <th></th>\n",
       "      <th>vyrobce</th>\n",
       "      <th>kapacita_5</th>\n",
       "      <th>kapacita_100</th>\n",
       "    </tr>\n",
       "    <tr>\n",
       "      <th>cislo</th>\n",
       "      <th></th>\n",
       "      <th></th>\n",
       "      <th></th>\n",
       "    </tr>\n",
       "  </thead>\n",
       "  <tbody>\n",
       "    <tr>\n",
       "      <th>1</th>\n",
       "      <td>A</td>\n",
       "      <td>1996</td>\n",
       "      <td>1717</td>\n",
       "    </tr>\n",
       "    <tr>\n",
       "      <th>2</th>\n",
       "      <td>A</td>\n",
       "      <td>2053</td>\n",
       "      <td>2134</td>\n",
       "    </tr>\n",
       "    <tr>\n",
       "      <th>3</th>\n",
       "      <td>A</td>\n",
       "      <td>2087</td>\n",
       "      <td>1981</td>\n",
       "    </tr>\n",
       "    <tr>\n",
       "      <th>4</th>\n",
       "      <td>A</td>\n",
       "      <td>2026</td>\n",
       "      <td>1834</td>\n",
       "    </tr>\n",
       "    <tr>\n",
       "      <th>5</th>\n",
       "      <td>A</td>\n",
       "      <td>2039</td>\n",
       "      <td>1941</td>\n",
       "    </tr>\n",
       "  </tbody>\n",
       "</table>\n",
       "</div>"
      ],
      "text/plain": [
       "      vyrobce  kapacita_5  kapacita_100\n",
       "cislo                                  \n",
       "1           A        1996          1717\n",
       "2           A        2053          2134\n",
       "3           A        2087          1981\n",
       "4           A        2026          1834\n",
       "5           A        2039          1941"
      ]
     },
     "execution_count": 5,
     "metadata": {},
     "output_type": "execute_result"
    }
   ],
   "source": [
    "aku.head() # výpis prvních řádků souboru"
   ]
  },
  {
   "cell_type": "code",
   "execution_count": 6,
   "id": "a29db2ae-18ea-4657-8f71-31299c433ae7",
   "metadata": {
    "tags": []
   },
   "outputs": [
    {
     "data": {
      "text/plain": [
       "dtype('O')"
      ]
     },
     "execution_count": 6,
     "metadata": {},
     "output_type": "execute_result"
    }
   ],
   "source": [
    "aku['vyrobce'].dtype # data ve slpupci jsou v obecného typu \"object\""
   ]
  },
  {
   "cell_type": "code",
   "execution_count": 7,
   "id": "31feb061-83af-4ee3-9884-85c2ce0eacd9",
   "metadata": {
    "tags": []
   },
   "outputs": [
    {
     "data": {
      "text/plain": [
       "dtype('int64')"
      ]
     },
     "execution_count": 7,
     "metadata": {},
     "output_type": "execute_result"
    }
   ],
   "source": [
    "aku['kapacita_5'].dtype"
   ]
  },
  {
   "cell_type": "code",
   "execution_count": null,
   "id": "24fbdb56-8c2e-423a-b867-f43bc9491952",
   "metadata": {},
   "outputs": [],
   "source": []
  },
  {
   "cell_type": "code",
   "execution_count": 8,
   "id": "18772108-360e-4adf-9108-19fe018346fd",
   "metadata": {
    "tags": []
   },
   "outputs": [],
   "source": [
    "# sloupec lze převést na typ Category\n",
    "aku['vyrobce']=aku['vyrobce'].astype('category')\n",
    "# pro data typu Category můžeme zvolit vlastní pořadí kategorií (hodnot) \n",
    "aku['vyrobce']=aku['vyrobce'].cat.as_ordered() \n",
    "aku['vyrobce']=aku['vyrobce'].cat.reorder_categories(['C', 'B', 'A', 'D'])"
   ]
  },
  {
   "cell_type": "code",
   "execution_count": 9,
   "id": "97a3717e-fd3a-4493-9294-b463a04b979c",
   "metadata": {
    "tags": []
   },
   "outputs": [
    {
     "data": {
      "text/plain": [
       "cislo\n",
       "1      A\n",
       "2      A\n",
       "3      A\n",
       "4      A\n",
       "5      A\n",
       "      ..\n",
       "124    D\n",
       "125    D\n",
       "126    D\n",
       "127    D\n",
       "128    D\n",
       "Name: vyrobce, Length: 128, dtype: category\n",
       "Categories (4, object): ['C' < 'B' < 'A' < 'D']"
      ]
     },
     "execution_count": 9,
     "metadata": {},
     "output_type": "execute_result"
    }
   ],
   "source": [
    "aku['vyrobce'] # v posledním řádku vidíme, že kategorie jsou uspořádány podle zadaného pořadí"
   ]
  },
  {
   "cell_type": "markdown",
   "id": "185aebab-1101-4b18-8c12-d87c7eacda05",
   "metadata": {},
   "source": [
    "# Explorační analýza"
   ]
  },
  {
   "cell_type": "markdown",
   "id": "cf322139-c341-4c40-bbb2-0f27218a70b7",
   "metadata": {},
   "source": [
    "## Explorační analýza kategoriální proměnné"
   ]
  },
  {
   "cell_type": "code",
   "execution_count": 10,
   "id": "2d49e8d2-b9cc-425d-b896-bafa780a6457",
   "metadata": {
    "tags": []
   },
   "outputs": [],
   "source": [
    "# četnosti výskytu jednotlivých kategoriíaku['vyrobce'].value_counts()"
   ]
  },
  {
   "cell_type": "code",
   "execution_count": 12,
   "id": "63d7a1f8-31db-42fd-b163-92fdf82547ad",
   "metadata": {
    "tags": []
   },
   "outputs": [
    {
     "data": {
      "text/plain": [
       "<Axes: ylabel='vyrobce'>"
      ]
     },
     "execution_count": 12,
     "metadata": {},
     "output_type": "execute_result"
    },
    {
     "data": {
      "image/png": "[encoded data removed]",
      "text/plain": [
       "<Figure size 640x480 with 1 Axes>"
      ]
     },
     "metadata": {},
     "output_type": "display_data"
    }
   ],
   "source": [
    "# koláčový graf\n",
    "aku['vyrobce'].value_counts().plot.pie()"
   ]
  },
  {
   "cell_type": "code",
   "execution_count": 13,
   "id": "f6791c35-b4ae-4f4c-8b43-69516c331eba",
   "metadata": {
    "tags": []
   },
   "outputs": [
    {
     "data": {
      "text/plain": [
       "Text(0, 0.5, 'počet akumulátorů')"
      ]
     },
     "execution_count": 13,
     "metadata": {},
     "output_type": "execute_result"
    },
    {
     "data": {
      "image/png": "[encoded data removed]",
      "text/plain": [
       "<Figure size 640x480 with 1 Axes>"
      ]
     },
     "metadata": {},
     "output_type": "display_data"
    }
   ],
   "source": [
    "# sloupcový graf\n",
    "aku['vyrobce'].value_counts().plot.bar()\n",
    "plt.xlabel(\"výrobce\")\n",
    "plt.ylabel(\"počet akumulátorů\")"
   ]
  },
  {
   "cell_type": "markdown",
   "id": "53535429-5035-438f-a4ea-f0ae6a9749e8",
   "metadata": {},
   "source": [
    "## Explorační analýza kvantitativních proměnných"
   ]
  },
  {
   "cell_type": "code",
   "execution_count": 14,
   "id": "58715b0d-57a6-46df-aa59-b37a8a1ac06f",
   "metadata": {
    "tags": []
   },
   "outputs": [
    {
     "data": {
      "text/html": [
       "<div>\n",
       "<style scoped>\n",
       "    .dataframe tbody tr th:only-of-type {\n",
       "        vertical-align: middle;\n",
       "    }\n",
       "\n",
       "    .dataframe tbody tr th {\n",
       "        vertical-align: top;\n",
       "    }\n",
       "\n",
       "    .dataframe thead th {\n",
       "        text-align: right;\n",
       "    }\n",
       "</style>\n",
       "<table border=\"1\" class=\"dataframe\">\n",
       "  <thead>\n",
       "    <tr style=\"text-align: right;\">\n",
       "      <th></th>\n",
       "      <th>kapacita_5</th>\n",
       "      <th>kapacita_100</th>\n",
       "    </tr>\n",
       "  </thead>\n",
       "  <tbody>\n",
       "    <tr>\n",
       "      <th>count</th>\n",
       "      <td>128.00000</td>\n",
       "      <td>128.000000</td>\n",
       "    </tr>\n",
       "    <tr>\n",
       "      <th>mean</th>\n",
       "      <td>1987.93750</td>\n",
       "      <td>1828.492188</td>\n",
       "    </tr>\n",
       "    <tr>\n",
       "      <th>std</th>\n",
       "      <td>142.30309</td>\n",
       "      <td>179.292529</td>\n",
       "    </tr>\n",
       "    <tr>\n",
       "      <th>min</th>\n",
       "      <td>732.00000</td>\n",
       "      <td>620.000000</td>\n",
       "    </tr>\n",
       "    <tr>\n",
       "      <th>25%</th>\n",
       "      <td>1969.75000</td>\n",
       "      <td>1773.500000</td>\n",
       "    </tr>\n",
       "    <tr>\n",
       "      <th>50%</th>\n",
       "      <td>2005.00000</td>\n",
       "      <td>1846.000000</td>\n",
       "    </tr>\n",
       "    <tr>\n",
       "      <th>75%</th>\n",
       "      <td>2041.25000</td>\n",
       "      <td>1928.250000</td>\n",
       "    </tr>\n",
       "    <tr>\n",
       "      <th>max</th>\n",
       "      <td>2129.00000</td>\n",
       "      <td>2134.000000</td>\n",
       "    </tr>\n",
       "  </tbody>\n",
       "</table>\n",
       "</div>"
      ],
      "text/plain": [
       "       kapacita_5  kapacita_100\n",
       "count   128.00000    128.000000\n",
       "mean   1987.93750   1828.492188\n",
       "std     142.30309    179.292529\n",
       "min     732.00000    620.000000\n",
       "25%    1969.75000   1773.500000\n",
       "50%    2005.00000   1846.000000\n",
       "75%    2041.25000   1928.250000\n",
       "max    2129.00000   2134.000000"
      ]
     },
     "execution_count": 14,
     "metadata": {},
     "output_type": "execute_result"
    }
   ],
   "source": [
    "# základní numerické charakteristiky\n",
    "aku.describe()"
   ]
  },
  {
   "cell_type": "code",
   "execution_count": 15,
   "id": "e741f6fb-ac75-49e2-9c29-df4fd42b4c87",
   "metadata": {
    "tags": []
   },
   "outputs": [
    {
     "data": {
      "text/plain": [
       "Text(0, 0.5, 'četnost výskytu')"
      ]
     },
     "execution_count": 15,
     "metadata": {},
     "output_type": "execute_result"
    },
    {
     "data": {
      "image/png": "[encoded data removed]",
      "text/plain": [
       "<Figure size 640x480 with 1 Axes>"
      ]
     },
     "metadata": {},
     "output_type": "display_data"
    }
   ],
   "source": [
    "# histogramy\n",
    "aku.plot.hist(alpha=0.5) \n",
    "plt.xlabel(\"kapacita\")\n",
    "plt.ylabel(\"četnost výskytu\")"
   ]
  },
  {
   "cell_type": "code",
   "execution_count": 16,
   "id": "ea643ca7-6d30-4f35-a2d8-54bcf2a6ee54",
   "metadata": {
    "tags": []
   },
   "outputs": [
    {
     "data": {
      "text/plain": [
       "(array([ 1.,  0.,  0.,  1.,  0.,  0.,  0.,  0., 45., 81.]),\n",
       " array([ 732. ,  871.7, 1011.4, 1151.1, 1290.8, 1430.5, 1570.2, 1709.9,\n",
       "        1849.6, 1989.3, 2129. ]),\n",
       " <BarContainer object of 10 artists>)"
      ]
     },
     "execution_count": 16,
     "metadata": {},
     "output_type": "execute_result"
    },
    {
     "data": {
      "image/png": "[encoded data removed]",
      "text/plain": [
       "<Figure size 640x480 with 1 Axes>"
      ]
     },
     "metadata": {},
     "output_type": "display_data"
    }
   ],
   "source": [
    "plt.hist(aku['kapacita_5'])"
   ]
  },
  {
   "cell_type": "code",
   "execution_count": null,
   "id": "e77cef1c-8d83-42ba-84a0-64071d3a9683",
   "metadata": {},
   "outputs": [],
   "source": []
  },
  {
   "cell_type": "code",
   "execution_count": 17,
   "id": "21774be5-760c-446d-a0fa-f1ff4f7e31ee",
   "metadata": {
    "tags": []
   },
   "outputs": [
    {
     "data": {
      "text/plain": [
       "Text(0, 0.5, 'kapacita')"
      ]
     },
     "execution_count": 17,
     "metadata": {},
     "output_type": "execute_result"
    },
    {
     "data": {
      "image/png": "[encoded data removed]",
      "text/plain": [
       "<Figure size 640x480 with 1 Axes>"
      ]
     },
     "metadata": {},
     "output_type": "display_data"
    }
   ],
   "source": [
    "# krabicové grafy\n",
    "aku.plot.box()\n",
    "plt.ylabel(\"kapacita\")"
   ]
  },
  {
   "cell_type": "markdown",
   "id": "10c2348d-3de1-43e7-b314-ead392260355",
   "metadata": {
    "tags": []
   },
   "source": [
    "### Identifikace a odstranění odlehlých pozorování"
   ]
  },
  {
   "cell_type": "code",
   "execution_count": 20,
   "id": "7f1b1686-b6cb-43d0-ad31-ba3eeacd1a34",
   "metadata": {
    "tags": []
   },
   "outputs": [
    {
     "name": "stdout",
     "output_type": "stream",
     "text": [
      "      vyrobce  kapacita_5  kapacita_100\n",
      "cislo                                  \n",
      "20          A         732           620\n",
      "33          B        1854          1841\n",
      "88          C        1221           823\n"
     ]
    }
   ],
   "source": [
    "# výpis řádků obsahujících odlehlá pozorování ve sloupci kapacit po 5 cyklech  (podle metody vnitřních hradeb)\n",
    "Q1_5=aku['kapacita_5'].quantile(0.25)  # dolní kvartil\n",
    "Q3_5=aku['kapacita_5'].quantile(0.75)  # horní kvartil\n",
    "IQR_5 = Q3_5-Q1_5                      # interkvartilové rozpětí  \n",
    "D = Q1_5-1.5*IQR_5                     # dolni hradba\n",
    "H = Q3_5+1.5*IQR_5                     # horni hradba\n",
    "out_5 = (aku['kapacita_5']<D) | (aku['kapacita_5']>H)   # identifikátory odlehlých pozorování (leží mimo vnitřní hradby)\n",
    "print(aku[out_5])                             "
   ]
  },
  {
   "cell_type": "code",
   "execution_count": 21,
   "id": "7f78e196-ee1d-4b5e-a7b5-410409bfb3e3",
   "metadata": {
    "tags": []
   },
   "outputs": [],
   "source": [
    "# ponecháme jen řádky obsahující v obou sloupcích hodnoty nad 1500 mAh (zbylé akumulároty jsou považovány za vadné)\n",
    "aku = aku[(aku['kapacita_5']>=1500)&(aku['kapacita_100']>=1500)].copy() "
   ]
  },
  {
   "cell_type": "code",
   "execution_count": 22,
   "id": "5918bcf7-bbd8-49f7-b238-1912de709768",
   "metadata": {
    "tags": []
   },
   "outputs": [
    {
     "data": {
      "text/plain": [
       "Text(0, 0.5, 'četnost výskytu')"
      ]
     },
     "execution_count": 22,
     "metadata": {},
     "output_type": "execute_result"
    },
    {
     "data": {
      "image/png": "[encoded data removed]",
      "text/plain": [
       "<Figure size 640x480 with 1 Axes>"
      ]
     },
     "metadata": {},
     "output_type": "display_data"
    }
   ],
   "source": [
    "# histogramy po odstranění vadných akumulátorů\n",
    "aku.plot.hist(alpha=0.5)\n",
    "plt.xlabel(\"kapacita\")\n",
    "plt.ylabel(\"četnost výskytu\")"
   ]
  },
  {
   "cell_type": "code",
   "execution_count": 23,
   "id": "6e6fd2a3-2c9b-467c-a436-717c76e7397d",
   "metadata": {
    "tags": []
   },
   "outputs": [
    {
     "data": {
      "text/plain": [
       "Text(0, 0.5, 'kapacita')"
      ]
     },
     "execution_count": 23,
     "metadata": {},
     "output_type": "execute_result"
    },
    {
     "data": {
      "image/png": "[encoded data removed]",
      "text/plain": [
       "<Figure size 640x480 with 1 Axes>"
      ]
     },
     "metadata": {},
     "output_type": "display_data"
    }
   ],
   "source": [
    "# krabicové grafy po odstranění vadných akumulátorů\n",
    "aku.plot.box()\n",
    "plt.ylabel(\"kapacita\")"
   ]
  },
  {
   "cell_type": "code",
   "execution_count": 24,
   "id": "a745526b-f8fb-41ff-a604-6fa10a24f227",
   "metadata": {
    "tags": []
   },
   "outputs": [
    {
     "data": {
      "text/html": [
       "<div>\n",
       "<style scoped>\n",
       "    .dataframe tbody tr th:only-of-type {\n",
       "        vertical-align: middle;\n",
       "    }\n",
       "\n",
       "    .dataframe tbody tr th {\n",
       "        vertical-align: top;\n",
       "    }\n",
       "\n",
       "    .dataframe thead th {\n",
       "        text-align: right;\n",
       "    }\n",
       "</style>\n",
       "<table border=\"1\" class=\"dataframe\">\n",
       "  <thead>\n",
       "    <tr style=\"text-align: right;\">\n",
       "      <th></th>\n",
       "      <th>kapacita_5</th>\n",
       "      <th>kapacita_100</th>\n",
       "    </tr>\n",
       "  </thead>\n",
       "  <tbody>\n",
       "    <tr>\n",
       "      <th>count</th>\n",
       "      <td>125.000000</td>\n",
       "      <td>125.000000</td>\n",
       "    </tr>\n",
       "    <tr>\n",
       "      <th>mean</th>\n",
       "      <td>2004.328000</td>\n",
       "      <td>1848.864000</td>\n",
       "    </tr>\n",
       "    <tr>\n",
       "      <th>std</th>\n",
       "      <td>54.768247</td>\n",
       "      <td>108.085341</td>\n",
       "    </tr>\n",
       "    <tr>\n",
       "      <th>min</th>\n",
       "      <td>1854.000000</td>\n",
       "      <td>1510.000000</td>\n",
       "    </tr>\n",
       "    <tr>\n",
       "      <th>25%</th>\n",
       "      <td>1971.000000</td>\n",
       "      <td>1783.000000</td>\n",
       "    </tr>\n",
       "    <tr>\n",
       "      <th>50%</th>\n",
       "      <td>2007.000000</td>\n",
       "      <td>1847.000000</td>\n",
       "    </tr>\n",
       "    <tr>\n",
       "      <th>75%</th>\n",
       "      <td>2042.000000</td>\n",
       "      <td>1929.000000</td>\n",
       "    </tr>\n",
       "    <tr>\n",
       "      <th>max</th>\n",
       "      <td>2129.000000</td>\n",
       "      <td>2134.000000</td>\n",
       "    </tr>\n",
       "  </tbody>\n",
       "</table>\n",
       "</div>"
      ],
      "text/plain": [
       "        kapacita_5  kapacita_100\n",
       "count   125.000000    125.000000\n",
       "mean   2004.328000   1848.864000\n",
       "std      54.768247    108.085341\n",
       "min    1854.000000   1510.000000\n",
       "25%    1971.000000   1783.000000\n",
       "50%    2007.000000   1847.000000\n",
       "75%    2042.000000   1929.000000\n",
       "max    2129.000000   2134.000000"
      ]
     },
     "execution_count": 24,
     "metadata": {},
     "output_type": "execute_result"
    }
   ],
   "source": [
    "# základní charakteristiky pro data očištěná od odlehých pozorování\n",
    "aku.describe()"
   ]
  },
  {
   "cell_type": "markdown",
   "id": "b73d9077-4ab5-4829-8f6c-2b6a58558f6e",
   "metadata": {},
   "source": [
    "## Závislost dvou kvantitativních proměnných"
   ]
  },
  {
   "cell_type": "code",
   "execution_count": 25,
   "id": "2ee96a09-141f-42ab-ae10-5ad3752e1730",
   "metadata": {
    "tags": []
   },
   "outputs": [
    {
     "data": {
      "text/plain": [
       "<Axes: xlabel='kapacita_5', ylabel='kapacita_100'>"
      ]
     },
     "execution_count": 25,
     "metadata": {},
     "output_type": "execute_result"
    },
    {
     "data": {
      "image/png": "[encoded data removed]",
      "text/plain": [
       "<Figure size 640x480 with 1 Axes>"
      ]
     },
     "metadata": {},
     "output_type": "display_data"
    }
   ],
   "source": [
    "# bodový graf závislosti kapacit po 5 a kapacit po 100 cyklech\n",
    "aku.plot.scatter(x='kapacita_5', y='kapacita_100')\n",
    "# z rozložení bodů v grafu lze usoudit, že hodnoty kapacit po 5 a po 100 cyklech jsou vzájemně závislé"
   ]
  },
  {
   "cell_type": "code",
   "execution_count": 26,
   "id": "048e72c4-c17b-4532-a3fc-f9cd4c199a0b",
   "metadata": {
    "tags": []
   },
   "outputs": [
    {
     "name": "stderr",
     "output_type": "stream",
     "text": [
      "/tmp/ipykernel_506008/501180030.py:2: FutureWarning: The default value of numeric_only in DataFrame.corr is deprecated. In a future version, it will default to False. Select only valid columns or specify the value of numeric_only to silence this warning.\n",
      "  aku.corr() # pomocí pandas\n"
     ]
    },
    {
     "data": {
      "text/html": [
       "<div>\n",
       "<style scoped>\n",
       "    .dataframe tbody tr th:only-of-type {\n",
       "        vertical-align: middle;\n",
       "    }\n",
       "\n",
       "    .dataframe tbody tr th {\n",
       "        vertical-align: top;\n",
       "    }\n",
       "\n",
       "    .dataframe thead th {\n",
       "        text-align: right;\n",
       "    }\n",
       "</style>\n",
       "<table border=\"1\" class=\"dataframe\">\n",
       "  <thead>\n",
       "    <tr style=\"text-align: right;\">\n",
       "      <th></th>\n",
       "      <th>kapacita_5</th>\n",
       "      <th>kapacita_100</th>\n",
       "    </tr>\n",
       "  </thead>\n",
       "  <tbody>\n",
       "    <tr>\n",
       "      <th>kapacita_5</th>\n",
       "      <td>1.000000</td>\n",
       "      <td>0.621874</td>\n",
       "    </tr>\n",
       "    <tr>\n",
       "      <th>kapacita_100</th>\n",
       "      <td>0.621874</td>\n",
       "      <td>1.000000</td>\n",
       "    </tr>\n",
       "  </tbody>\n",
       "</table>\n",
       "</div>"
      ],
      "text/plain": [
       "              kapacita_5  kapacita_100\n",
       "kapacita_5      1.000000      0.621874\n",
       "kapacita_100    0.621874      1.000000"
      ]
     },
     "execution_count": 26,
     "metadata": {},
     "output_type": "execute_result"
    }
   ],
   "source": [
    "# Pearsonvy korelační koeficienty (bodové odhady korelací)\n",
    "aku.corr() # pomocí pandas"
   ]
  },
  {
   "cell_type": "code",
   "execution_count": 27,
   "id": "9b63896f-bd7e-4dba-b79b-92410cac0b3c",
   "metadata": {
    "tags": []
   },
   "outputs": [
    {
     "data": {
      "text/plain": [
       "array([[1.       , 0.6218736],\n",
       "       [0.6218736, 1.       ]])"
      ]
     },
     "execution_count": 27,
     "metadata": {},
     "output_type": "execute_result"
    }
   ],
   "source": [
    "np.corrcoef(aku['kapacita_5'], aku['kapacita_100']) # totéž pomocí numpy"
   ]
  },
  {
   "cell_type": "markdown",
   "id": "2487a953-e077-48c9-a15e-c49591fa2b0d",
   "metadata": {},
   "source": [
    "## Explorační analýza závislosti kvantitativní a kategoriální proměnné"
   ]
  },
  {
   "cell_type": "code",
   "execution_count": 28,
   "id": "de7406ba-66a2-425a-b035-ed4fdd46fc8f",
   "metadata": {
    "tags": []
   },
   "outputs": [
    {
     "data": {
      "image/png": "[encoded data removed]",
      "text/plain": [
       "<Figure size 640x480 with 1 Axes>"
      ]
     },
     "metadata": {},
     "output_type": "display_data"
    }
   ],
   "source": [
    "# krabicové grafy kapacit po 5 cyklech v zavislosti na vyrobci\n",
    "aku.boxplot(column=['kapacita_5'], by=['vyrobce']);\n",
    "plt.title('Kapacity po 5 cyklech')\n",
    "plt.xlabel('výrobce')\n",
    "plt.ylabel('kapacita')\n",
    "plt.tight_layout() # upravi mezery kolem grafu\n",
    "# výrazné posunutí krabicových grafů (např. B proti D) naznačuje závislost kapacity po 5 cyklech na výrobci"
   ]
  },
  {
   "cell_type": "markdown",
   "id": "7618802e-c010-48b0-962c-2a53209c8c1e",
   "metadata": {},
   "source": [
    "## Explorační analýza závislosti dvou kategoriálních proměnných"
   ]
  },
  {
   "cell_type": "code",
   "execution_count": 29,
   "id": "91bd667d-3ebb-4ba9-9c40-9906bd258c0b",
   "metadata": {
    "tags": []
   },
   "outputs": [],
   "source": [
    "# pokles kapacit mezi 5. a 100. cyklem (přidáme jako další sloupec datového rámce)\n",
    "aku['pokles']=aku['kapacita_5']-aku['kapacita_100']"
   ]
  },
  {
   "cell_type": "code",
   "execution_count": 30,
   "id": "54253fe9-7819-40df-af72-b9834b2fde71",
   "metadata": {
    "tags": []
   },
   "outputs": [],
   "source": [
    "# relativní pokles\n",
    "aku['rel_pokles']=aku['pokles']/aku['kapacita_5']"
   ]
  },
  {
   "cell_type": "code",
   "execution_count": 31,
   "id": "736f2816-429e-4be2-a756-3b9e9c1e0062",
   "metadata": {
    "tags": []
   },
   "outputs": [],
   "source": [
    "# je relativní pokles > 0.1 ?\n",
    "aku['pokles_nad10p'] = aku['rel_pokles']>0.1"
   ]
  },
  {
   "cell_type": "code",
   "execution_count": 32,
   "id": "b39ff4c8-c4aa-495b-a8bc-b9152738accd",
   "metadata": {
    "tags": []
   },
   "outputs": [],
   "source": [
    "# kontingenční tabulka (tabulka absolutních četností dvojic (výrobce, pokles > 0.1))\n",
    "crt = pd.crosstab(aku['vyrobce'], aku['pokles_nad10p'])"
   ]
  },
  {
   "cell_type": "code",
   "execution_count": 33,
   "id": "579f3bb9-eab1-43da-8f75-1499c20091c8",
   "metadata": {
    "tags": []
   },
   "outputs": [
    {
     "data": {
      "text/html": [
       "<div>\n",
       "<style scoped>\n",
       "    .dataframe tbody tr th:only-of-type {\n",
       "        vertical-align: middle;\n",
       "    }\n",
       "\n",
       "    .dataframe tbody tr th {\n",
       "        vertical-align: top;\n",
       "    }\n",
       "\n",
       "    .dataframe thead th {\n",
       "        text-align: right;\n",
       "    }\n",
       "</style>\n",
       "<table border=\"1\" class=\"dataframe\">\n",
       "  <thead>\n",
       "    <tr style=\"text-align: right;\">\n",
       "      <th>pokles_nad10p</th>\n",
       "      <th>False</th>\n",
       "      <th>True</th>\n",
       "    </tr>\n",
       "    <tr>\n",
       "      <th>vyrobce</th>\n",
       "      <th></th>\n",
       "      <th></th>\n",
       "    </tr>\n",
       "  </thead>\n",
       "  <tbody>\n",
       "    <tr>\n",
       "      <th>C</th>\n",
       "      <td>17</td>\n",
       "      <td>14</td>\n",
       "    </tr>\n",
       "    <tr>\n",
       "      <th>B</th>\n",
       "      <td>27</td>\n",
       "      <td>5</td>\n",
       "    </tr>\n",
       "    <tr>\n",
       "      <th>A</th>\n",
       "      <td>16</td>\n",
       "      <td>14</td>\n",
       "    </tr>\n",
       "    <tr>\n",
       "      <th>D</th>\n",
       "      <td>29</td>\n",
       "      <td>3</td>\n",
       "    </tr>\n",
       "  </tbody>\n",
       "</table>\n",
       "</div>"
      ],
      "text/plain": [
       "pokles_nad10p  False  True \n",
       "vyrobce                    \n",
       "C                 17     14\n",
       "B                 27      5\n",
       "A                 16     14\n",
       "D                 29      3"
      ]
     },
     "execution_count": 33,
     "metadata": {},
     "output_type": "execute_result"
    }
   ],
   "source": [
    "crt"
   ]
  },
  {
   "cell_type": "code",
   "execution_count": 34,
   "id": "0faa6aff-d4c9-4b74-ba0e-fbde28438fc3",
   "metadata": {
    "tags": []
   },
   "outputs": [
    {
     "data": {
      "image/png": "[encoded data removed]",
      "text/plain": [
       "<Figure size 640x480 with 3 Axes>"
      ]
     },
     "metadata": {},
     "output_type": "display_data"
    }
   ],
   "source": [
    "# mozaikový graf (grafické znázornění kontingeční tabulky)\n",
    "mosaic(aku, ['vyrobce', 'pokles_nad10p']);\n",
    "# výrazně rozdílné poměry výšek buněk v jednotlivých sloupcích nazačují závislsot mezi poklesem a výrobcem"
   ]
  },
  {
   "cell_type": "markdown",
   "id": "804ae007-5de9-4469-8821-09756bab011d",
   "metadata": {
    "tags": []
   },
   "source": [
    "## Ověření normality "
   ]
  },
  {
   "cell_type": "code",
   "execution_count": 44,
   "id": "69430209-5356-4082-8786-3252c8058b19",
   "metadata": {
    "tags": []
   },
   "outputs": [
    {
     "data": {
      "image/png": "[encoded data removed]",
      "text/plain": [
       "<Figure size 640x480 with 1 Axes>"
      ]
     },
     "metadata": {},
     "output_type": "display_data"
    }
   ],
   "source": [
    "# pomocí QQ grafu\n",
    "sm.qqplot(aku['kapacita_5'][aku['vyrobce']=='A'], line='45', fit=True)\n",
    "plt.show()\n",
    "# rozložení bodů podél přímky ukazuje na normální rozdělení dat"
   ]
  },
  {
   "cell_type": "code",
   "execution_count": 35,
   "id": "1d0850e6-e4d1-4ccd-a1b5-dcfd8a5d33b3",
   "metadata": {
    "tags": []
   },
   "outputs": [
    {
     "data": {
      "image/png": "[encoded data removed]",
      "text/plain": [
       "<Figure size 640x480 with 1 Axes>"
      ]
     },
     "metadata": {},
     "output_type": "display_data"
    }
   ],
   "source": [
    "# Obdobný graf pro data z exponenciálního rozdělení ukazuje výrazný odklad od přímky. Z toho lze usuzovat, že data nemají normální rozdělení.\n",
    "x = np.random.exponential(5, size=50)\n",
    "sm.qqplot(x, line='45', fit=True)\n",
    "plt.show()"
   ]
  },
  {
   "cell_type": "code",
   "execution_count": 36,
   "id": "cce9f438-be5b-4027-ace0-a1efcda6b318",
   "metadata": {
    "tags": []
   },
   "outputs": [
    {
     "data": {
      "text/plain": [
       "ShapiroResult(statistic=0.9714747667312622, pvalue=0.5802702307701111)"
      ]
     },
     "execution_count": 36,
     "metadata": {},
     "output_type": "execute_result"
    }
   ],
   "source": [
    "# normalitu lze testovat např. Shapirovým-Wilkovým testem (H0: data mají normální rozdělení, H1: data nemají normální rozdělení)\n",
    "stats.shapiro(aku['kapacita_5'][aku['vyrobce']=='A'])\n",
    "# vyspoká p-hodnota ukazuje, že data nevykazují významnou odchylku od normality "
   ]
  },
  {
   "cell_type": "markdown",
   "id": "be216a53-1969-40c2-8b92-76fc4b454858",
   "metadata": {},
   "source": [
    "---"
   ]
  },
  {
   "cell_type": "markdown",
   "id": "9f77936b-190a-4f7d-998d-21137e2296a3",
   "metadata": {},
   "source": [
    "# Testy hypotéz, intervalové odhady"
   ]
  },
  {
   "cell_type": "markdown",
   "id": "f98b3991-5040-45d4-9ed6-5e7b2ed52a14",
   "metadata": {},
   "source": [
    "## Ověření normality pro jednotlivé kapacity a výrobce"
   ]
  },
  {
   "cell_type": "code",
   "execution_count": 37,
   "id": "9feb8234-5128-4281-95b9-09cac225ba55",
   "metadata": {
    "tags": []
   },
   "outputs": [
    {
     "data": {
      "text/plain": [
       "vyrobce\n",
       "C     (0.9658654928207397, 0.4130541682243347)\n",
       "B    (0.9383649826049805, 0.06728947162628174)\n",
       "A     (0.9714747667312622, 0.5802702307701111)\n",
       "D     (0.9861743450164795, 0.9459394216537476)\n",
       "dtype: object"
      ]
     },
     "execution_count": 37,
     "metadata": {},
     "output_type": "execute_result"
    }
   ],
   "source": [
    "aku[['kapacita_5', 'vyrobce']].groupby('vyrobce').apply(stats.shapiro)"
   ]
  },
  {
   "cell_type": "code",
   "execution_count": 38,
   "id": "28e93259-efd0-419c-a185-4ce933736c89",
   "metadata": {
    "tags": []
   },
   "outputs": [
    {
     "data": {
      "text/plain": [
       "vyrobce\n",
       "C    (0.9675894975662231, 0.45528578758239746)\n",
       "B     (0.9734573364257812, 0.5997429490089417)\n",
       "A     (0.9716190695762634, 0.5843653678894043)\n",
       "D     (0.9814876317977905, 0.8415120244026184)\n",
       "dtype: object"
      ]
     },
     "execution_count": 38,
     "metadata": {},
     "output_type": "execute_result"
    }
   ],
   "source": [
    "aku[['kapacita_100', 'vyrobce']].groupby('vyrobce').apply(stats.shapiro)"
   ]
  },
  {
   "cell_type": "markdown",
   "id": "7813fe08-ede6-4d72-89a6-b4c976058656",
   "metadata": {},
   "source": [
    "Všechny p-hodnoty (ve 2. sloupci) jsou vyšší než 0.05. Jednotlivé výběry můžeme považovat za výbery z normálního rozdělení."
   ]
  },
  {
   "cell_type": "markdown",
   "id": "571093d9-7b5b-4f47-929f-7362532c8033",
   "metadata": {},
   "source": [
    "## Jednovýběrový t-test (test střední hodnoty v normálním rozdělení)"
   ]
  },
  {
   "cell_type": "markdown",
   "id": "ca398358-7160-4bbe-bf15-f82ff9854552",
   "metadata": {},
   "source": [
    "Dosahují akumulátory výrobce A po 5 cyklech deklarované kapacity?"
   ]
  },
  {
   "cell_type": "code",
   "execution_count": 41,
   "id": "17e18d3f-30f6-4209-8c96-ec12c669316b",
   "metadata": {
    "tags": []
   },
   "outputs": [
    {
     "data": {
      "image/png": "[encoded data removed]",
      "text/plain": [
       "<Figure size 640x480 with 1 Axes>"
      ]
     },
     "metadata": {},
     "output_type": "display_data"
    }
   ],
   "source": [
    "kap5A = aku['kapacita_5'][aku['vyrobce']=='A']\n",
    "kap5A.plot.box();\n",
    "# krabicový graf nenaznačuje výraznou odchylku od deklarované hodnoty"
   ]
  },
  {
   "cell_type": "markdown",
   "id": "c30318ca-55ff-4b09-9a0d-8308d85ee17b",
   "metadata": {},
   "source": [
    "\n",
    "Testujeme $H_0$: $\\mu_A=2000$ proti $H_1$: $\\mu_A\\neq 2000$"
   ]
  },
  {
   "cell_type": "code",
   "execution_count": 42,
   "id": "8c1c6452-a52c-43bd-9fd6-9116e008cc17",
   "metadata": {
    "tags": []
   },
   "outputs": [
    {
     "name": "stdout",
     "output_type": "stream",
     "text": [
      "Jednovýběrový t-test: p-hodnota=0.048518\n"
     ]
    }
   ],
   "source": [
    "# oboustranný jednovýběrový t-test\n",
    "result = stats.ttest_1samp(kap5A, popmean=2000)\n",
    "print(\"Jednovýběrový t-test: p-hodnota={:f}\".format(result.pvalue))"
   ]
  },
  {
   "cell_type": "markdown",
   "id": "ca98596b-487d-46cc-a4f2-de0b805aed15",
   "metadata": {},
   "source": [
    "Na hladině významnosti 0.05 zamítáme $H_0$. Střední hodnota kapacit akumumulátorů výrobce A po 5 cyklech vykazuje statisticky význanou odchylku od deklarované kapacity."
   ]
  },
  {
   "cell_type": "code",
   "execution_count": 44,
   "id": "173eff20-a74c-470d-bf7b-098b8eaa0f32",
   "metadata": {
    "tags": []
   },
   "outputs": [
    {
     "name": "stdout",
     "output_type": "stream",
     "text": [
      "Jednovýběrový t-test: p-hodnota=0.024259\n"
     ]
    }
   ],
   "source": [
    "# jednostranný jednovýběrový t-test H0: \\mu_A=2000, H1: \\mu_A>2000\n",
    "result = stats.ttest_1samp(kap5A, popmean=2000, alternative='greater')\n",
    "print(\"Jednovýběrový t-test: p-hodnota={:f}\".format(result.pvalue))\n",
    "\n",
    "# pro H1: \\mu_A<2000 ... alternative='less'\n",
    "# pro H1: \\mu_A<>2000 ... alternative='two-sided' (výchozí hodnota parametru)"
   ]
  },
  {
   "cell_type": "markdown",
   "id": "95bf8ee9-a34f-4c29-93e5-7d3cb2e34f33",
   "metadata": {},
   "source": [
    "---"
   ]
  },
  {
   "cell_type": "markdown",
   "id": "715b6992-fe76-4730-b5a2-f4afdab5ddb6",
   "metadata": {},
   "source": [
    "## Dvouvýběrový t-test (test rovnosti středních hodnot vzájemně neávislých výběrů z normálních rozdělení)"
   ]
  },
  {
   "cell_type": "markdown",
   "id": "a6098a98-c8c6-4de7-ae8e-3854c2618591",
   "metadata": {},
   "source": [
    "Liší se střední hodnoty kapacit akumulátorů výrobců B a D po 100 cyklech?"
   ]
  },
  {
   "cell_type": "code",
   "execution_count": 45,
   "id": "5d2e4a22-8314-40fb-acba-70f30c5f6fe0",
   "metadata": {
    "tags": []
   },
   "outputs": [],
   "source": [
    "kapB100 = aku['kapacita_100'][aku['vyrobce']=='B']\n",
    "kapD100 = aku['kapacita_100'][aku['vyrobce']=='D']"
   ]
  },
  {
   "cell_type": "code",
   "execution_count": 46,
   "id": "a4de8281-cc5c-4e47-8e89-1e112700badd",
   "metadata": {
    "tags": []
   },
   "outputs": [
    {
     "data": {
      "text/plain": [
       "Text(0, 0.5, 'kapacita')"
      ]
     },
     "execution_count": 46,
     "metadata": {},
     "output_type": "execute_result"
    },
    {
     "data": {
      "image/png": "[encoded data removed]",
      "text/plain": [
       "<Figure size 640x480 with 1 Axes>"
      ]
     },
     "metadata": {},
     "output_type": "display_data"
    }
   ],
   "source": [
    "# krabicové grafy pomocí matplotlib\n",
    "plt.boxplot([kapB100, kapD100])\n",
    "plt.xticks(ticks=[1, 2], labels=['B', 'D'])\n",
    "plt.xlabel('výrobce')\n",
    "plt.ylabel('kapacita')"
   ]
  },
  {
   "cell_type": "markdown",
   "id": "db6b1da3-a5be-4d47-97bc-4495874f64c3",
   "metadata": {},
   "source": [
    "Krabicové grafy naznačují, že kapacity akamulátorů výrobce D jsou vyšší než výrobce B. Proto volíme jednostrannou alternativní hypotézu.\n",
    "\n",
    "Krabicové grafy nenaznačjí rozdíl v rozptylech. Použijeme jednostranný t-test pro výběry se shodnými rozptyly."
   ]
  },
  {
   "cell_type": "markdown",
   "id": "87b40442-bc47-4737-8f63-6f4c889ab4c9",
   "metadata": {},
   "source": [
    "Test $H_0$: $\\mu_B=\\mu_D$ proti $H_1$: $\\mu_B<\\mu_D$"
   ]
  },
  {
   "cell_type": "code",
   "execution_count": 47,
   "id": "2f744fa1-e6cd-47ec-989d-faca4160091e",
   "metadata": {
    "tags": []
   },
   "outputs": [
    {
     "name": "stdout",
     "output_type": "stream",
     "text": [
      "Dvouvýběrový t-test: p-hodnota=0.000003\n"
     ]
    }
   ],
   "source": [
    "# dvouvýběrový t-test\n",
    "test = stats.ttest_ind(kapB100, kapD100, equal_var=True)       # pro rozdílné rozptyly: equal_var=False\n",
    "print(\"Dvouvýběrový t-test: p-hodnota={:f}\".format(test.pvalue))"
   ]
  },
  {
   "cell_type": "markdown",
   "id": "c49c79d5-d028-418a-8950-34258def5a07",
   "metadata": {},
   "source": [
    "Na hladině významnosti 0.05 zamítáme $H_0$. Střední hodnoty kapacit po 100 cyklech akumulátorů výrobce D jsou vyšší než střední hodnoty kapacit akumulátorů výrobce B."
   ]
  },
  {
   "cell_type": "markdown",
   "id": "c83905eb-7743-4dc5-a38d-ade88dff7c5e",
   "metadata": {},
   "source": [
    "---"
   ]
  },
  {
   "cell_type": "markdown",
   "id": "2fb5a6ea-5b05-42cc-9c7c-bf364ed745b2",
   "metadata": {},
   "source": [
    "## Test shody rozptylů pro dva výběry z normálních rozdělení"
   ]
  },
  {
   "cell_type": "markdown",
   "id": "06c291de-0b91-4281-85b1-8b306a73bdbf",
   "metadata": {},
   "source": [
    "Liší se rozptyly hodnoty kapacit akuamulátorů výrobců B a D po 100 cyklech?"
   ]
  },
  {
   "cell_type": "markdown",
   "id": "6153b617-6154-4d6c-9767-a139bd1a14af",
   "metadata": {},
   "source": [
    "$H_0$: $\\sigma_B^2=\\sigma_D^2$, $H_1$: $\\sigma_B^2>\\sigma_D^2$"
   ]
  },
  {
   "cell_type": "code",
   "execution_count": 48,
   "id": "af9ed50f-08fa-4472-8919-02150b0cf030",
   "metadata": {
    "tags": []
   },
   "outputs": [
    {
     "name": "stdout",
     "output_type": "stream",
     "text": [
      "F-test: p-hodnota=0.225281\n"
     ]
    }
   ],
   "source": [
    "# test rovnosti rozptylů není dostupný v použitých knihovnách, provedeme jej ručně\n",
    "SB100 = kapB100.var()\n",
    "SD100 = kapD100.var()\n",
    "F = SB100/SD100\n",
    "pval = 1-stats.f.cdf(F, len(kapB100)-1, len(kapD100)-1)\n",
    "print(\"F-test: p-hodnota={:f}\".format(pval))\n"
   ]
  },
  {
   "cell_type": "markdown",
   "id": "1b6a7220-4b37-49f6-bc7a-94a410de4124",
   "metadata": {},
   "source": [
    "Na hladině významnosti 0.05 nezamítáme $H_0$. U akamulátorů výrobců B a D nebyl po 100 cyklech prokázán rozdíl v rozptylech kapacit."
   ]
  },
  {
   "cell_type": "markdown",
   "id": "9fdf1129-7c61-446b-99a6-4480aa38f1cc",
   "metadata": {},
   "source": [
    "---"
   ]
  },
  {
   "cell_type": "markdown",
   "id": "4af2cbee-152c-4126-8163-7506485388bd",
   "metadata": {},
   "source": [
    "## Párový t-test (test rovnosti středních hodnot pro párová data)"
   ]
  },
  {
   "cell_type": "markdown",
   "id": "9752f801-3e43-41a7-b821-602e5ac9b667",
   "metadata": {},
   "source": [
    "Liší se kapacity akumulátorů výrobce A po 5 a po 100 cyklech?"
   ]
  },
  {
   "cell_type": "markdown",
   "id": "a01da6f5-fe97-4c5b-85c2-cebce455b27a",
   "metadata": {},
   "source": [
    "POZOR: Nejde o nezávislé výběry! Data jsou párová. Měření kapacit po 5 a po 100 cyklech je prováděno se stejnými akumulátory. Posuzujeme stř. hodnotu rozdílů po 5 a po 100 cyklech. "
   ]
  },
  {
   "cell_type": "code",
   "execution_count": 49,
   "id": "ae8c0adb-5704-4b71-9a3d-cbd06b714758",
   "metadata": {
    "tags": []
   },
   "outputs": [
    {
     "data": {
      "image/png": "[encoded data removed]",
      "text/plain": [
       "<Figure size 640x480 with 1 Axes>"
      ]
     },
     "metadata": {},
     "output_type": "display_data"
    }
   ],
   "source": [
    "aku['pokles'][aku['vyrobce']=='A'].plot.box();"
   ]
  },
  {
   "cell_type": "markdown",
   "id": "513a8c30-1216-49fe-99bf-1288ef93228e",
   "metadata": {},
   "source": [
    "Krabicový graf ukazuje, že pokles kapacity u výrobce A je výrazně vyšší než 0. "
   ]
  },
  {
   "cell_type": "markdown",
   "id": "2ad0a6f3-f664-4bfb-9b01-4dd0fad8c26f",
   "metadata": {},
   "source": [
    "Ověření normality poklesu kapacit Shapirovým-Wilkovým testem."
   ]
  },
  {
   "cell_type": "code",
   "execution_count": 50,
   "id": "5814d492-ae35-4b30-a669-1a10d01c8e43",
   "metadata": {
    "tags": []
   },
   "outputs": [
    {
     "data": {
      "text/plain": [
       "ShapiroResult(statistic=0.9912384748458862, pvalue=0.6200605630874634)"
      ]
     },
     "execution_count": 50,
     "metadata": {},
     "output_type": "execute_result"
    }
   ],
   "source": [
    "stats.shapiro(aku['pokles'])"
   ]
  },
  {
   "cell_type": "markdown",
   "id": "7ace72dc-f3cd-4f2d-ae62-f2b243898ccb",
   "metadata": {},
   "source": [
    "Hypotézu o normalitě nezamítáme. Poklesy kapacit mají normální rozdělení. Pro test stř. hodnoty poklesu použijeme t-test."
   ]
  },
  {
   "cell_type": "markdown",
   "id": "55665d30-cb23-4d88-86ea-eb62805fd536",
   "metadata": {},
   "source": [
    "Označme střední hodnotu poklesu kapacity jako $\\mu_{pA}$.\n",
    "\n",
    "Testujeme $H_0$: $\\mu_{pA}=0$ proti $H_1$: $\\mu_{pA}>0$."
   ]
  },
  {
   "cell_type": "code",
   "execution_count": 51,
   "id": "92b45479-0f9d-4c71-bd85-be735f3ec6ab",
   "metadata": {
    "tags": []
   },
   "outputs": [
    {
     "data": {
      "text/plain": [
       "Ttest_indResult(statistic=7.402334821424309, pvalue=6.177663764963653e-10)"
      ]
     },
     "execution_count": 51,
     "metadata": {},
     "output_type": "execute_result"
    }
   ],
   "source": [
    "# Chybně (jako nezávislá data):\n",
    "stats.ttest_ind(aku['kapacita_5'][aku['vyrobce']=='A'], aku['kapacita_100'][aku['vyrobce']=='A'])"
   ]
  },
  {
   "cell_type": "code",
   "execution_count": 52,
   "id": "f140b299-6d0a-43d6-a98a-db4d23ed7ac4",
   "metadata": {
    "tags": []
   },
   "outputs": [
    {
     "data": {
      "text/plain": [
       "TtestResult(statistic=9.260380518227795, pvalue=3.662123001232633e-10, df=29)"
      ]
     },
     "execution_count": 52,
     "metadata": {},
     "output_type": "execute_result"
    }
   ],
   "source": [
    "# Správně pomocí párového t-testu (jako párová data):\n",
    "stats.ttest_rel(aku['kapacita_5'][aku['vyrobce']=='A'], aku['kapacita_100'][aku['vyrobce']=='A'])"
   ]
  },
  {
   "cell_type": "code",
   "execution_count": 53,
   "id": "68387612-465c-4ed0-b4a4-280e03c0bcd5",
   "metadata": {
    "tags": []
   },
   "outputs": [
    {
     "data": {
      "text/plain": [
       "TtestResult(statistic=9.260380518227795, pvalue=3.662123001232633e-10, df=29)"
      ]
     },
     "execution_count": 53,
     "metadata": {},
     "output_type": "execute_result"
    }
   ],
   "source": [
    "# Správně pomocí jednovýběrového t-testu poklesů:\n",
    "stats.ttest_1samp(aku['pokles'][aku['vyrobce']=='A'], popmean=0)\n"
   ]
  },
  {
   "cell_type": "code",
   "execution_count": 54,
   "id": "fbb053bf-98e4-4eb7-a713-2f6656616d00",
   "metadata": {
    "tags": []
   },
   "outputs": [
    {
     "name": "stdout",
     "output_type": "stream",
     "text": [
      "párový t-test: p-hodnota=0.0000000004\n"
     ]
    }
   ],
   "source": [
    "result = stats.ttest_rel(aku['kapacita_5'][aku['vyrobce']=='A'], aku['kapacita_100'][aku['vyrobce']=='A'])\n",
    "print(\"párový t-test: p-hodnota={:.10f}\".format(result.pvalue))\n"
   ]
  },
  {
   "cell_type": "markdown",
   "id": "4788ca44-197d-43c7-a1c1-6e0e1bebed75",
   "metadata": {},
   "source": [
    "Na hladině významnosti 0.05 zamítáme $H_0$. U akamulátorů výrobce A dochází mezi 5 a 100 cyklem k poklesu stř. hodnoty kapacity."
   ]
  },
  {
   "cell_type": "markdown",
   "id": "2d3fcb4e-da1c-4b7b-ad26-914aae5a02ec",
   "metadata": {},
   "source": [
    "---"
   ]
  },
  {
   "cell_type": "markdown",
   "id": "6490c2e0-45f7-4526-8d5d-afd97081535a",
   "metadata": {},
   "source": [
    "## Intervalový odhad střední hodnoty výběru z normálního rozdělení"
   ]
  },
  {
   "cell_type": "markdown",
   "id": "615be7f6-ae66-417e-8d0c-acdc5058e178",
   "metadata": {},
   "source": [
    "Intervalové odhady stř. hodot kapacit po 5 cyklech"
   ]
  },
  {
   "cell_type": "code",
   "execution_count": 62,
   "id": "2ad41c58-5905-4a85-b2ae-2827cd8a46b6",
   "metadata": {
    "tags": []
   },
   "outputs": [
    {
     "name": "stdout",
     "output_type": "stream",
     "text": [
      "95% intervalové odhady stř. hodnot kapacit po 5 cyklech\n",
      "výrobce A: (2010, 2027) mAh\n",
      "výrobce B: (1962, 1977) mAh\n",
      "výrobce C: (1984, 2009) mAh\n",
      "výrobce D: (2028, 2039) mAh\n"
     ]
    }
   ],
   "source": [
    "# ruční výpočet intervalového odhadu  \n",
    "alfa = 0.05\n",
    "print('95% intervalové odhady stř. hodnot kapacit po 5 cyklech')\n",
    "for v in aku['vyrobce'].unique():\n",
    "    aku_v =  aku['kapacita_5'][aku['vyrobce']==v]  \n",
    "    m = aku_v.mean() # výběrový průměr\n",
    "    s = aku_v.std()  # výběrová směrodatná odchylka\n",
    "    n = len(aku)\n",
    "    t = stats.t.ppf(1-alfa/2, n-1)  # 1-alfa/2 kvantil studentova rozdělení\n",
    "    d = t*s/n**0.5 # polovina délky konfidenčního intervalu\n",
    "    td = m-d # dolní mez\n",
    "    th = m+d # horn9 mez\n",
    "    print('výrobce {}: ({:.0f}, {:.0f}) mAh'.format(v, td, th))"
   ]
  },
  {
   "cell_type": "markdown",
   "id": "46955a10-a570-4b02-b7ce-6be9921621a5",
   "metadata": {},
   "source": [
    "## ANOVA (test rovnosti stř. hodnot více výběrů z normálních rozdělení)"
   ]
  },
  {
   "cell_type": "code",
   "execution_count": 63,
   "id": "ccc5d088-7225-41fa-a75a-46b1f44251d1",
   "metadata": {
    "tags": []
   },
   "outputs": [],
   "source": [
    "sloupec = 'pokles' # sloupec s daty pro ANOVu\n",
    "vyrobci = aku.vyrobce.cat.categories  # hodnoty vysvětlující kategoriální proměnné \n",
    "sloupce = [aku[sloupec][aku['vyrobce']==v] for v in vyrobci]  # seznam posloupností s hodnotami v jednotlivych sloupcich"
   ]
  },
  {
   "cell_type": "markdown",
   "id": "295d6f6e-2eb8-4f70-bf71-b1287c97cc58",
   "metadata": {},
   "source": [
    "### Explorační analýza"
   ]
  },
  {
   "cell_type": "code",
   "execution_count": 64,
   "id": "837b5043-5419-4a98-8c92-dfb3e90ed87d",
   "metadata": {
    "tags": []
   },
   "outputs": [
    {
     "data": {
      "text/plain": [
       "Text(0, 0.5, 'pokles')"
      ]
     },
     "execution_count": 64,
     "metadata": {},
     "output_type": "execute_result"
    },
    {
     "data": {
      "image/png": "[encoded data removed]",
      "text/plain": [
       "<Figure size 640x480 with 1 Axes>"
      ]
     },
     "metadata": {},
     "output_type": "display_data"
    }
   ],
   "source": [
    "# explorační analýza pomocí krabicových grafů\n",
    "plt.boxplot(sloupce, labels=vyrobci)\n",
    "plt.ylabel(sloupec)"
   ]
  },
  {
   "cell_type": "markdown",
   "id": "b528c350-1478-47e7-b20a-d0f4b08712a5",
   "metadata": {},
   "source": [
    "Mezi výběry jsou podstatné rozdíly (např. mezi C a D, C a B, A a D). Předběžně lze očekávat, že střední hodnoty nejsou shodné."
   ]
  },
  {
   "cell_type": "markdown",
   "id": "8606fcf6-7db7-4cf0-9112-6acb0f881960",
   "metadata": {},
   "source": [
    "### Ověření předpokladů"
   ]
  },
  {
   "cell_type": "code",
   "execution_count": 65,
   "id": "86a337b0-8acb-451f-9be3-0f21429bcc8f",
   "metadata": {
    "tags": []
   },
   "outputs": [
    {
     "data": {
      "text/plain": [
       "vyrobce\n",
       "C     (0.977180004119873, 0.7305930256843567)\n",
       "B    (0.9809907078742981, 0.8278498649597168)\n",
       "A    (0.9489120244979858, 0.1580764502286911)\n",
       "D     (0.979096531867981, 0.7729222774505615)\n",
       "dtype: object"
      ]
     },
     "execution_count": 65,
     "metadata": {},
     "output_type": "execute_result"
    }
   ],
   "source": [
    "# oveřní normality jednolivých výberů pomocí Shapirova-Wilkova testu\n",
    "aku[[sloupec, 'vyrobce']].groupby('vyrobce').apply(stats.shapiro)"
   ]
  },
  {
   "cell_type": "markdown",
   "id": "0e87d3eb-8d1a-4711-aaa4-af5229461ff0",
   "metadata": {},
   "source": [
    "P-hodnoty jsou vyšší než 0.05. Hypotézy o normalitě nezamítáme."
   ]
  },
  {
   "cell_type": "code",
   "execution_count": 66,
   "id": "4acde4d8-b339-44e7-a4a3-6481b2732504",
   "metadata": {
    "tags": []
   },
   "outputs": [
    {
     "data": {
      "text/plain": [
       "BartlettResult(statistic=13.776323661244252, pvalue=0.0032259783789587654)"
      ]
     },
     "execution_count": 66,
     "metadata": {},
     "output_type": "execute_result"
    }
   ],
   "source": [
    "# ověření shody rozptylů jednotivych výběrů pomocí Bartlettova testu.\n",
    "stats.bartlett(*sloupce)"
   ]
  },
  {
   "cell_type": "markdown",
   "id": "3bdf2f35-1b45-4bb1-adb3-252d282ba7a4",
   "metadata": {},
   "source": [
    "P-hodnota 0.003 je nižší než 0.05. Na hladině významnosti 0.05 zamítáme nulovou hypotézu o shodě roztylů. <br>\n",
    "Pro test rovnosti středních hodnot použijeme Welchovou ANOVu (pro výběry s nestejnými rozptyly)."
   ]
  },
  {
   "cell_type": "markdown",
   "id": "d916bcd9-ae58-480a-8f7c-0ed4c951ec94",
   "metadata": {},
   "source": [
    "Testujeme $H_0:\\mu_1=\\mu_2=\\mu_3=\\mu_4$ proti $H_1$: neplatí $H_0$."
   ]
  },
  {
   "cell_type": "code",
   "execution_count": 67,
   "id": "29ec0778-f81c-494f-b60e-601eb3025463",
   "metadata": {
    "tags": []
   },
   "outputs": [
    {
     "name": "stdout",
     "output_type": "stream",
     "text": [
      "    Source  ddof1      ddof2          F     p-unc       np2\n",
      "0  vyrobce      3  65.573207  10.800051  0.000007  0.184438\n"
     ]
    }
   ],
   "source": [
    "res_anova = pingouin.welch_anova(aku, dv='pokles', between='vyrobce')\n",
    "print(res_anova)"
   ]
  },
  {
   "cell_type": "code",
   "execution_count": 68,
   "id": "9a6b2dd3-46d6-4b44-bcf3-dcaa33d1a918",
   "metadata": {
    "tags": []
   },
   "outputs": [
    {
     "name": "stdout",
     "output_type": "stream",
     "text": [
      "Welchova ANOVA: p-hodnota=0.000007\n"
     ]
    }
   ],
   "source": [
    "print(\"Welchova ANOVA: p-hodnota={:f}\".format(res_anova['p-unc'][0]))"
   ]
  },
  {
   "cell_type": "markdown",
   "id": "05494834-1c1d-4f30-b4da-ce267331a1d4",
   "metadata": {},
   "source": [
    "Na hladině významnosti 0.05 zamítáme $H_0$. Střední hodnoty nejsou shodné."
   ]
  },
  {
   "cell_type": "code",
   "execution_count": 69,
   "id": "0058ed1e-d1fe-4ddf-a063-dfe9fbb26d36",
   "metadata": {
    "tags": []
   },
   "outputs": [
    {
     "data": {
      "text/html": [
       "<div>\n",
       "<style scoped>\n",
       "    .dataframe tbody tr th:only-of-type {\n",
       "        vertical-align: middle;\n",
       "    }\n",
       "\n",
       "    .dataframe tbody tr th {\n",
       "        vertical-align: top;\n",
       "    }\n",
       "\n",
       "    .dataframe thead th {\n",
       "        text-align: right;\n",
       "    }\n",
       "</style>\n",
       "<table border=\"1\" class=\"dataframe\">\n",
       "  <thead>\n",
       "    <tr style=\"text-align: right;\">\n",
       "      <th></th>\n",
       "      <th>A</th>\n",
       "      <th>B</th>\n",
       "      <th>mean(A)</th>\n",
       "      <th>mean(B)</th>\n",
       "      <th>diff</th>\n",
       "      <th>se</th>\n",
       "      <th>T</th>\n",
       "      <th>df</th>\n",
       "      <th>pval</th>\n",
       "      <th>hedges</th>\n",
       "    </tr>\n",
       "  </thead>\n",
       "  <tbody>\n",
       "    <tr>\n",
       "      <th>0</th>\n",
       "      <td>C</td>\n",
       "      <td>B</td>\n",
       "      <td>199.129032</td>\n",
       "      <td>134.875000</td>\n",
       "      <td>64.254032</td>\n",
       "      <td>17.371595</td>\n",
       "      <td>3.698799</td>\n",
       "      <td>58.742698</td>\n",
       "      <td>0.002631</td>\n",
       "      <td>0.923062</td>\n",
       "    </tr>\n",
       "    <tr>\n",
       "      <th>1</th>\n",
       "      <td>C</td>\n",
       "      <td>A</td>\n",
       "      <td>199.129032</td>\n",
       "      <td>182.933333</td>\n",
       "      <td>16.195699</td>\n",
       "      <td>23.837432</td>\n",
       "      <td>0.679423</td>\n",
       "      <td>51.192166</td>\n",
       "      <td>0.904436</td>\n",
       "      <td>0.172817</td>\n",
       "    </tr>\n",
       "    <tr>\n",
       "      <th>2</th>\n",
       "      <td>C</td>\n",
       "      <td>D</td>\n",
       "      <td>199.129032</td>\n",
       "      <td>108.000000</td>\n",
       "      <td>91.129032</td>\n",
       "      <td>17.066894</td>\n",
       "      <td>5.339521</td>\n",
       "      <td>57.716163</td>\n",
       "      <td>0.000010</td>\n",
       "      <td>1.333435</td>\n",
       "    </tr>\n",
       "    <tr>\n",
       "      <th>3</th>\n",
       "      <td>B</td>\n",
       "      <td>A</td>\n",
       "      <td>134.875000</td>\n",
       "      <td>182.933333</td>\n",
       "      <td>-48.058333</td>\n",
       "      <td>22.672062</td>\n",
       "      <td>-2.119716</td>\n",
       "      <td>45.987274</td>\n",
       "      <td>0.162115</td>\n",
       "      <td>-0.540625</td>\n",
       "    </tr>\n",
       "    <tr>\n",
       "      <th>4</th>\n",
       "      <td>B</td>\n",
       "      <td>D</td>\n",
       "      <td>134.875000</td>\n",
       "      <td>108.000000</td>\n",
       "      <td>26.875000</td>\n",
       "      <td>15.397341</td>\n",
       "      <td>1.745431</td>\n",
       "      <td>61.878774</td>\n",
       "      <td>0.309472</td>\n",
       "      <td>0.431058</td>\n",
       "    </tr>\n",
       "    <tr>\n",
       "      <th>5</th>\n",
       "      <td>A</td>\n",
       "      <td>D</td>\n",
       "      <td>182.933333</td>\n",
       "      <td>108.000000</td>\n",
       "      <td>74.933333</td>\n",
       "      <td>22.439451</td>\n",
       "      <td>3.339357</td>\n",
       "      <td>44.753940</td>\n",
       "      <td>0.008900</td>\n",
       "      <td>0.852604</td>\n",
       "    </tr>\n",
       "  </tbody>\n",
       "</table>\n",
       "</div>"
      ],
      "text/plain": [
       "   A  B     mean(A)     mean(B)       diff         se         T         df  \\\n",
       "0  C  B  199.129032  134.875000  64.254032  17.371595  3.698799  58.742698   \n",
       "1  C  A  199.129032  182.933333  16.195699  23.837432  0.679423  51.192166   \n",
       "2  C  D  199.129032  108.000000  91.129032  17.066894  5.339521  57.716163   \n",
       "3  B  A  134.875000  182.933333 -48.058333  22.672062 -2.119716  45.987274   \n",
       "4  B  D  134.875000  108.000000  26.875000  15.397341  1.745431  61.878774   \n",
       "5  A  D  182.933333  108.000000  74.933333  22.439451  3.339357  44.753940   \n",
       "\n",
       "       pval    hedges  \n",
       "0  0.002631  0.923062  \n",
       "1  0.904436  0.172817  \n",
       "2  0.000010  1.333435  \n",
       "3  0.162115 -0.540625  \n",
       "4  0.309472  0.431058  \n",
       "5  0.008900  0.852604  "
      ]
     },
     "execution_count": 69,
     "metadata": {},
     "output_type": "execute_result"
    }
   ],
   "source": [
    "# post-hoc analýza\n",
    "pingouin.pairwise_gameshowell(aku, dv='pokles', between='vyrobce')"
   ]
  },
  {
   "cell_type": "markdown",
   "id": "bddfadf2-ed0f-4653-8224-f0c47cc5b28c",
   "metadata": {},
   "source": [
    "Statisticky významný rozdíl v poklesu kapacity je mezi dvojicemi výrobců (C, B), (C, D) a (A, D)."
   ]
  },
  {
   "cell_type": "markdown",
   "id": "0ef7df1c-7570-4c91-b17f-dcf016830139",
   "metadata": {},
   "source": [
    "### Další možnosti vícenásobného porovnání stř. hodnot"
   ]
  },
  {
   "cell_type": "code",
   "execution_count": 70,
   "id": "03034564-6deb-4347-b827-9c409e37ea05",
   "metadata": {
    "tags": []
   },
   "outputs": [
    {
     "data": {
      "text/plain": [
       "<class 'statsmodels.stats.base.HolderTuple'>\n",
       "statistic = 10.800051345001934\n",
       "pvalue = 7.413729881250159e-06\n",
       "df = (3.0, 65.57320655986469)\n",
       "df_num = 3.0\n",
       "df_denom = 65.57320655986469\n",
       "nobs_t = 125.0\n",
       "n_groups = 4\n",
       "means = array([182.93333333, 134.875     , 199.12903226, 108.        ])\n",
       "nobs = array([30., 32., 31., 32.])\n",
       "vars_ = array([11707.09885057,  3961.14516129,  5517.5827957 ,  3625.35483871])\n",
       "use_var = 'unequal'\n",
       "welch_correction = True\n",
       "tuple = (10.800051345001934, 7.413729881250159e-06)"
      ]
     },
     "execution_count": 70,
     "metadata": {},
     "output_type": "execute_result"
    }
   ],
   "source": [
    "# ANOVA pro výběry s nestejnými rozptylyWilcoxon signed-rank test\n",
    "oneway.anova_oneway(aku[sloupec], aku['vyrobce'], use_var='unequal')"
   ]
  },
  {
   "cell_type": "code",
   "execution_count": 71,
   "id": "8d4af4cd-a977-4533-a03d-fce8e5194d2a",
   "metadata": {
    "tags": []
   },
   "outputs": [
    {
     "data": {
      "text/plain": [
       "F_onewayResult(statistic=9.121309719844385, pvalue=1.7255975660772097e-05)"
      ]
     },
     "execution_count": 71,
     "metadata": {},
     "output_type": "execute_result"
    }
   ],
   "source": [
    "# ANOVA pro věýběry se stejnými rozptyly (pomocí stats)\n",
    "stats.f_oneway(*sloupce)"
   ]
  },
  {
   "cell_type": "code",
   "execution_count": 72,
   "id": "bd5cf40c-136f-49e7-b0cc-059af33569b7",
   "metadata": {
    "tags": []
   },
   "outputs": [
    {
     "data": {
      "text/html": [
       "<div>\n",
       "<style scoped>\n",
       "    .dataframe tbody tr th:only-of-type {\n",
       "        vertical-align: middle;\n",
       "    }\n",
       "\n",
       "    .dataframe tbody tr th {\n",
       "        vertical-align: top;\n",
       "    }\n",
       "\n",
       "    .dataframe thead th {\n",
       "        text-align: right;\n",
       "    }\n",
       "</style>\n",
       "<table border=\"1\" class=\"dataframe\">\n",
       "  <thead>\n",
       "    <tr style=\"text-align: right;\">\n",
       "      <th></th>\n",
       "      <th>Source</th>\n",
       "      <th>ddof1</th>\n",
       "      <th>ddof2</th>\n",
       "      <th>F</th>\n",
       "      <th>p-unc</th>\n",
       "      <th>np2</th>\n",
       "    </tr>\n",
       "  </thead>\n",
       "  <tbody>\n",
       "    <tr>\n",
       "      <th>0</th>\n",
       "      <td>vyrobce</td>\n",
       "      <td>3</td>\n",
       "      <td>121</td>\n",
       "      <td>9.12131</td>\n",
       "      <td>0.000017</td>\n",
       "      <td>0.184438</td>\n",
       "    </tr>\n",
       "  </tbody>\n",
       "</table>\n",
       "</div>"
      ],
      "text/plain": [
       "    Source  ddof1  ddof2        F     p-unc       np2\n",
       "0  vyrobce      3    121  9.12131  0.000017  0.184438"
      ]
     },
     "execution_count": 72,
     "metadata": {},
     "output_type": "execute_result"
    }
   ],
   "source": [
    "# ANOVA pro výběry se stejnými rozptyly  (pomocí pingouin)\n",
    "pingouin.anova(aku, dv='pokles', between='vyrobce')"
   ]
  },
  {
   "cell_type": "code",
   "execution_count": 73,
   "id": "bc636835-a423-49ce-a771-4472c080591c",
   "metadata": {
    "tags": []
   },
   "outputs": [
    {
     "name": "stdout",
     "output_type": "stream",
     "text": [
      "  Multiple Comparison of Means - Tukey HSD, FWER=0.05  \n",
      "=======================================================\n",
      "group1 group2 meandiff p-adj    lower    upper   reject\n",
      "-------------------------------------------------------\n",
      "     A      B -48.0583 0.0791  -99.8393   3.7226  False\n",
      "     A      C  16.1957 0.8503  -35.9878  68.3792  False\n",
      "     A      D -74.9333 0.0014 -126.7143 -23.1524   True\n",
      "     B      C   64.254 0.0078    12.906 115.6021   True\n",
      "     B      D  -26.875 0.5178  -77.8139  24.0639  False\n",
      "     C      D  -91.129 0.0001 -142.4771  -39.781   True\n",
      "-------------------------------------------------------\n"
     ]
    }
   ],
   "source": [
    "# post-hoc analyza - porovnani str. hodnot jednotlivych dvojic pro stejné rozptyly\n",
    "tukey_res = pairwise_tukeyhsd(aku[sloupec], aku['vyrobce'])\n",
    "print(tukey_res)"
   ]
  },
  {
   "cell_type": "code",
   "execution_count": 74,
   "id": "8dd905e8-3648-4672-94cc-bb8a8a118db4",
   "metadata": {
    "tags": []
   },
   "outputs": [
    {
     "data": {
      "text/plain": [
       "KruskalResult(statistic=24.17659825576398, pvalue=2.2946586382520245e-05)"
      ]
     },
     "execution_count": 74,
     "metadata": {},
     "output_type": "execute_result"
    }
   ],
   "source": [
    "# Kruskalův-Wallisův test (alternatitva ANOVy pro případ, že výběry nepochází z normalního rozdělení)\n",
    "#\n",
    "# Kruskalův-Wallisův test ověřuje shodu rozdělení jednotlivých výběrů. \n",
    "# Jestliže rozdělení jednotlivých výběrů mají stejný \"tvar\" a mohou se lišit jen středními hodnotami (tj. jsou vzájemně posunuta o konstanty),\n",
    "#    je nulová hypotéza o shodě rozdělení ekvivalentní hypotéze o rovnosti středních hodnot. \n",
    "# \n",
    "stats.kruskal(*sloupce)"
   ]
  },
  {
   "cell_type": "code",
   "execution_count": 75,
   "id": "48fe80ae-b020-446b-b97c-15bfa490e092",
   "metadata": {
    "tags": []
   },
   "outputs": [
    {
     "data": {
      "text/html": [
       "<div>\n",
       "<style scoped>\n",
       "    .dataframe tbody tr th:only-of-type {\n",
       "        vertical-align: middle;\n",
       "    }\n",
       "\n",
       "    .dataframe tbody tr th {\n",
       "        vertical-align: top;\n",
       "    }\n",
       "\n",
       "    .dataframe thead th {\n",
       "        text-align: right;\n",
       "    }\n",
       "</style>\n",
       "<table border=\"1\" class=\"dataframe\">\n",
       "  <thead>\n",
       "    <tr style=\"text-align: right;\">\n",
       "      <th></th>\n",
       "      <th>1</th>\n",
       "      <th>2</th>\n",
       "      <th>3</th>\n",
       "      <th>4</th>\n",
       "    </tr>\n",
       "  </thead>\n",
       "  <tbody>\n",
       "    <tr>\n",
       "      <th>1</th>\n",
       "      <td>1.000000</td>\n",
       "      <td>0.002278</td>\n",
       "      <td>0.374737</td>\n",
       "      <td>0.000010</td>\n",
       "    </tr>\n",
       "    <tr>\n",
       "      <th>2</th>\n",
       "      <td>0.002278</td>\n",
       "      <td>1.000000</td>\n",
       "      <td>0.033063</td>\n",
       "      <td>0.168060</td>\n",
       "    </tr>\n",
       "    <tr>\n",
       "      <th>3</th>\n",
       "      <td>0.374737</td>\n",
       "      <td>0.033063</td>\n",
       "      <td>1.000000</td>\n",
       "      <td>0.000488</td>\n",
       "    </tr>\n",
       "    <tr>\n",
       "      <th>4</th>\n",
       "      <td>0.000010</td>\n",
       "      <td>0.168060</td>\n",
       "      <td>0.000488</td>\n",
       "      <td>1.000000</td>\n",
       "    </tr>\n",
       "  </tbody>\n",
       "</table>\n",
       "</div>"
      ],
      "text/plain": [
       "          1         2         3         4\n",
       "1  1.000000  0.002278  0.374737  0.000010\n",
       "2  0.002278  1.000000  0.033063  0.168060\n",
       "3  0.374737  0.033063  1.000000  0.000488\n",
       "4  0.000010  0.168060  0.000488  1.000000"
      ]
     },
     "execution_count": 75,
     "metadata": {},
     "output_type": "execute_result"
    }
   ],
   "source": [
    "# post-hoc analyza pro Kruskaluv-Wallisuv test\n",
    "sp.posthoc_dunn(sloupce)"
   ]
  },
  {
   "cell_type": "code",
   "execution_count": 78,
   "id": "5283fc2c-d50f-4c5a-968e-b33135fe2623",
   "metadata": {
    "tags": []
   },
   "outputs": [
    {
     "name": "stdout",
     "output_type": "stream",
     "text": [
      "pandas         : 1.5.3\n",
      "numpy          : 1.24.2\n",
      "scikit_posthocs: 0.8.1\n",
      "statsmodels    : 0.14.1\n",
      "matplotlib     : 3.7.5\n",
      "scipy          : 1.10.1\n",
      "pingouin       : 0.5.5\n",
      "\n"
     ]
    }
   ],
   "source": [
    "%load_ext watermark\n",
    "%watermark --iversions"
   ]
  },
  {
   "cell_type": "code",
   "execution_count": 80,
   "id": "810fad48-6fe4-4970-bf00-ace5e4024822",
   "metadata": {
    "tags": []
   },
   "outputs": [],
   "source": [
    "from scipy.stats import wilcoxon, mannwhitneyu"
   ]
  },
  {
   "cell_type": "code",
   "execution_count": null,
   "id": "871ea8b7-d928-4c9b-a99f-7e5f2670d862",
   "metadata": {},
   "outputs": [],
   "source": []
  }
 ],
 "metadata": {
  "kernelspec": {
   "display_name": "Python 3 (ipykernel)",
   "language": "python",
   "name": "python3"
  },
  "language_info": {
   "codemirror_mode": {
    "name": "ipython",
    "version": 3
   },
   "file_extension": ".py",
   "mimetype": "text/x-python",
   "name": "python",
   "nbconvert_exporter": "python",
   "pygments_lexer": "ipython3",
   "version": "3.8.3"
  },
  "widgets": {
   "application/vnd.jupyter.widget-state+json": {
    "state": {},
    "version_major": 2,
    "version_minor": 0
   }
  }
 },
 "nbformat": 4,
 "nbformat_minor": 5
}
