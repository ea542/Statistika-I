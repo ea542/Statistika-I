{
 "cells": [
  {
   "cell_type": "code",
   "execution_count": 1,
   "id": "cec86818-bdc4-42f4-8466-472a4af5ad16",
   "metadata": {},
   "outputs": [],
   "source": [
    "import numpy as np\n",
    "import pandas as pd\n",
    "from scipy import stats\n",
    "from matplotlib import pyplot as plt\n",
    "from statsmodels.graphics.mosaicplot import mosaic\n",
    "import statsmodels.api as sm\n"
   ]
  },
  {
   "cell_type": "markdown",
   "id": "3b504e94-9a5e-4f6f-bf1f-16a282a03d13",
   "metadata": {},
   "source": [
    "# Načtení dat ze souboru \n"
   ]
  },
  {
   "cell_type": "code",
   "execution_count": 2,
   "id": "b0a1116a-5213-4d1e-9ba3-144554d03b1b",
   "metadata": {},
   "outputs": [],
   "source": [
    "aku = pd.read_csv('aku.csv', sep=';', index_col=0) #sep: oddělovač, index_col: číslo sloupce s indexem řádku (soubor jej nemusí obsahovat)"
   ]
  },
  {
   "cell_type": "code",
   "execution_count": 3,
   "id": "be401684-a256-46fa-9aa3-aee9d2fdbcd3",
   "metadata": {},
   "outputs": [
    {
     "data": {
      "text/html": [
       "<div>\n",
       "<style scoped>\n",
       "    .dataframe tbody tr th:only-of-type {\n",
       "        vertical-align: middle;\n",
       "    }\n",
       "\n",
       "    .dataframe tbody tr th {\n",
       "        vertical-align: top;\n",
       "    }\n",
       "\n",
       "    .dataframe thead th {\n",
       "        text-align: right;\n",
       "    }\n",
       "</style>\n",
       "<table border=\"1\" class=\"dataframe\">\n",
       "  <thead>\n",
       "    <tr style=\"text-align: right;\">\n",
       "      <th></th>\n",
       "      <th>vyrobce</th>\n",
       "      <th>kapacita_5</th>\n",
       "      <th>kapacita_100</th>\n",
       "    </tr>\n",
       "    <tr>\n",
       "      <th>cislo</th>\n",
       "      <th></th>\n",
       "      <th></th>\n",
       "      <th></th>\n",
       "    </tr>\n",
       "  </thead>\n",
       "  <tbody>\n",
       "    <tr>\n",
       "      <th>1</th>\n",
       "      <td>A</td>\n",
       "      <td>1996</td>\n",
       "      <td>1717</td>\n",
       "    </tr>\n",
       "    <tr>\n",
       "      <th>2</th>\n",
       "      <td>A</td>\n",
       "      <td>2053</td>\n",
       "      <td>2134</td>\n",
       "    </tr>\n",
       "    <tr>\n",
       "      <th>3</th>\n",
       "      <td>A</td>\n",
       "      <td>2087</td>\n",
       "      <td>1981</td>\n",
       "    </tr>\n",
       "    <tr>\n",
       "      <th>4</th>\n",
       "      <td>A</td>\n",
       "      <td>2026</td>\n",
       "      <td>1834</td>\n",
       "    </tr>\n",
       "    <tr>\n",
       "      <th>5</th>\n",
       "      <td>A</td>\n",
       "      <td>2039</td>\n",
       "      <td>1941</td>\n",
       "    </tr>\n",
       "    <tr>\n",
       "      <th>...</th>\n",
       "      <td>...</td>\n",
       "      <td>...</td>\n",
       "      <td>...</td>\n",
       "    </tr>\n",
       "    <tr>\n",
       "      <th>124</th>\n",
       "      <td>D</td>\n",
       "      <td>2039</td>\n",
       "      <td>1795</td>\n",
       "    </tr>\n",
       "    <tr>\n",
       "      <th>125</th>\n",
       "      <td>D</td>\n",
       "      <td>2021</td>\n",
       "      <td>1948</td>\n",
       "    </tr>\n",
       "    <tr>\n",
       "      <th>126</th>\n",
       "      <td>D</td>\n",
       "      <td>2070</td>\n",
       "      <td>1858</td>\n",
       "    </tr>\n",
       "    <tr>\n",
       "      <th>127</th>\n",
       "      <td>D</td>\n",
       "      <td>2015</td>\n",
       "      <td>1914</td>\n",
       "    </tr>\n",
       "    <tr>\n",
       "      <th>128</th>\n",
       "      <td>D</td>\n",
       "      <td>2041</td>\n",
       "      <td>1911</td>\n",
       "    </tr>\n",
       "  </tbody>\n",
       "</table>\n",
       "<p>128 rows × 3 columns</p>\n",
       "</div>"
      ],
      "text/plain": [
       "      vyrobce  kapacita_5  kapacita_100\n",
       "cislo                                  \n",
       "1           A        1996          1717\n",
       "2           A        2053          2134\n",
       "3           A        2087          1981\n",
       "4           A        2026          1834\n",
       "5           A        2039          1941\n",
       "...       ...         ...           ...\n",
       "124         D        2039          1795\n",
       "125         D        2021          1948\n",
       "126         D        2070          1858\n",
       "127         D        2015          1914\n",
       "128         D        2041          1911\n",
       "\n",
       "[128 rows x 3 columns]"
      ]
     },
     "execution_count": 3,
     "metadata": {},
     "output_type": "execute_result"
    }
   ],
   "source": [
    "aku"
   ]
  },
  {
   "cell_type": "code",
   "execution_count": 4,
   "id": "33ace8de-4b79-4b8a-a47b-e839caefef14",
   "metadata": {},
   "outputs": [
    {
     "data": {
      "text/plain": [
       "Index(['vyrobce', 'kapacita_5', 'kapacita_100'], dtype='object')"
      ]
     },
     "execution_count": 4,
     "metadata": {},
     "output_type": "execute_result"
    }
   ],
   "source": [
    "aku.columns # názvy slupců v datovém souboru"
   ]
  },
  {
   "cell_type": "code",
   "execution_count": 5,
   "id": "cc9888e6-9051-4fda-a0c8-21bdca996c0b",
   "metadata": {},
   "outputs": [
    {
     "data": {
      "text/html": [
       "<div>\n",
       "<style scoped>\n",
       "    .dataframe tbody tr th:only-of-type {\n",
       "        vertical-align: middle;\n",
       "    }\n",
       "\n",
       "    .dataframe tbody tr th {\n",
       "        vertical-align: top;\n",
       "    }\n",
       "\n",
       "    .dataframe thead th {\n",
       "        text-align: right;\n",
       "    }\n",
       "</style>\n",
       "<table border=\"1\" class=\"dataframe\">\n",
       "  <thead>\n",
       "    <tr style=\"text-align: right;\">\n",
       "      <th></th>\n",
       "      <th>vyrobce</th>\n",
       "      <th>kapacita_5</th>\n",
       "      <th>kapacita_100</th>\n",
       "    </tr>\n",
       "    <tr>\n",
       "      <th>cislo</th>\n",
       "      <th></th>\n",
       "      <th></th>\n",
       "      <th></th>\n",
       "    </tr>\n",
       "  </thead>\n",
       "  <tbody>\n",
       "    <tr>\n",
       "      <th>1</th>\n",
       "      <td>A</td>\n",
       "      <td>1996</td>\n",
       "      <td>1717</td>\n",
       "    </tr>\n",
       "    <tr>\n",
       "      <th>2</th>\n",
       "      <td>A</td>\n",
       "      <td>2053</td>\n",
       "      <td>2134</td>\n",
       "    </tr>\n",
       "    <tr>\n",
       "      <th>3</th>\n",
       "      <td>A</td>\n",
       "      <td>2087</td>\n",
       "      <td>1981</td>\n",
       "    </tr>\n",
       "    <tr>\n",
       "      <th>4</th>\n",
       "      <td>A</td>\n",
       "      <td>2026</td>\n",
       "      <td>1834</td>\n",
       "    </tr>\n",
       "    <tr>\n",
       "      <th>5</th>\n",
       "      <td>A</td>\n",
       "      <td>2039</td>\n",
       "      <td>1941</td>\n",
       "    </tr>\n",
       "  </tbody>\n",
       "</table>\n",
       "</div>"
      ],
      "text/plain": [
       "      vyrobce  kapacita_5  kapacita_100\n",
       "cislo                                  \n",
       "1           A        1996          1717\n",
       "2           A        2053          2134\n",
       "3           A        2087          1981\n",
       "4           A        2026          1834\n",
       "5           A        2039          1941"
      ]
     },
     "execution_count": 5,
     "metadata": {},
     "output_type": "execute_result"
    }
   ],
   "source": [
    "aku.head() # výpis prvních řádků souboru"
   ]
  },
  {
   "cell_type": "code",
   "execution_count": 6,
   "id": "a29db2ae-18ea-4657-8f71-31299c433ae7",
   "metadata": {},
   "outputs": [
    {
     "data": {
      "text/plain": [
       "dtype('O')"
      ]
     },
     "execution_count": 6,
     "metadata": {},
     "output_type": "execute_result"
    }
   ],
   "source": [
    "aku['vyrobce'].dtype # data ve slpupci jsou v obecného typu \"object\""
   ]
  },
  {
   "cell_type": "code",
   "execution_count": 49,
   "id": "18772108-360e-4adf-9108-19fe018346fd",
   "metadata": {},
   "outputs": [],
   "source": [
    "# sloupec lze převést na typ Category\n",
    "aku['vyrobce']=aku['vyrobce'].astype('category')\n",
    "# pro data typu Category můžeme zvolit vlastní pořadí kategorií (hodnot) \n",
    "aku['vyrobce']=aku['vyrobce'].cat.as_ordered() \n",
    "aku['vyrobce']=aku['vyrobce'].cat.reorder_categories(['C', 'B', 'A', 'D'])"
   ]
  },
  {
   "cell_type": "code",
   "execution_count": 8,
   "id": "97a3717e-fd3a-4493-9294-b463a04b979c",
   "metadata": {},
   "outputs": [
    {
     "data": {
      "text/plain": [
       "cislo\n",
       "1      A\n",
       "2      A\n",
       "3      A\n",
       "4      A\n",
       "5      A\n",
       "      ..\n",
       "124    D\n",
       "125    D\n",
       "126    D\n",
       "127    D\n",
       "128    D\n",
       "Name: vyrobce, Length: 128, dtype: category\n",
       "Categories (4, object): ['C' < 'B' < 'A' < 'D']"
      ]
     },
     "execution_count": 8,
     "metadata": {},
     "output_type": "execute_result"
    }
   ],
   "source": [
    "aku['vyrobce'] # v posledním řádku vidíme, že kategorie jsou uspořádány podle zadaného pořadí"
   ]
  },
  {
   "cell_type": "markdown",
   "id": "185aebab-1101-4b18-8c12-d87c7eacda05",
   "metadata": {},
   "source": [
    "# Explorační analýza"
   ]
  },
  {
   "cell_type": "markdown",
   "id": "cf322139-c341-4c40-bbb2-0f27218a70b7",
   "metadata": {},
   "source": [
    "## Explorační analýza kategoriální proměnné"
   ]
  },
  {
   "cell_type": "code",
   "execution_count": 9,
   "id": "2d49e8d2-b9cc-425d-b896-bafa780a6457",
   "metadata": {},
   "outputs": [
    {
     "data": {
      "text/plain": [
       "C    32\n",
       "B    32\n",
       "A    32\n",
       "D    32\n",
       "Name: vyrobce, dtype: int64"
      ]
     },
     "execution_count": 9,
     "metadata": {},
     "output_type": "execute_result"
    }
   ],
   "source": [
    "# četnosti výskytu jednotlivých kategorií\n",
    "aku['vyrobce'].value_counts()"
   ]
  },
  {
   "cell_type": "code",
   "execution_count": 10,
   "id": "63d7a1f8-31db-42fd-b163-92fdf82547ad",
   "metadata": {},
   "outputs": [
    {
     "data": {
      "text/plain": [
       "<AxesSubplot:ylabel='vyrobce'>"
      ]
     },
     "execution_count": 10,
     "metadata": {},
     "output_type": "execute_result"
    },
    {
     "data": {
      "image/png": "[encoded data removed]",
      "text/plain": [
       "<Figure size 432x288 with 1 Axes>"
      ]
     },
     "metadata": {},
     "output_type": "display_data"
    }
   ],
   "source": [
    "# koláčový graf\n",
    "aku['vyrobce'].value_counts().plot.pie()"
   ]
  },
  {
   "cell_type": "code",
   "execution_count": 11,
   "id": "f6791c35-b4ae-4f4c-8b43-69516c331eba",
   "metadata": {},
   "outputs": [
    {
     "data": {
      "text/plain": [
       "Text(0, 0.5, 'počet akumulátorů')"
      ]
     },
     "execution_count": 11,
     "metadata": {},
     "output_type": "execute_result"
    },
    {
     "data": {
      "image/png": "[encoded data removed]",
      "text/plain": [
       "<Figure size 432x288 with 1 Axes>"
      ]
     },
     "metadata": {
      "needs_background": "light"
     },
     "output_type": "display_data"
    }
   ],
   "source": [
    "# sloupcový graf\n",
    "aku['vyrobce'].value_counts().plot.bar()\n",
    "plt.xlabel(\"výrobce\")\n",
    "plt.ylabel(\"počet akumulátorů\")"
   ]
  },
  {
   "cell_type": "markdown",
   "id": "53535429-5035-438f-a4ea-f0ae6a9749e8",
   "metadata": {},
   "source": [
    "## Explorační analýza kvantitativních proměnných"
   ]
  },
  {
   "cell_type": "code",
   "execution_count": 12,
   "id": "58715b0d-57a6-46df-aa59-b37a8a1ac06f",
   "metadata": {},
   "outputs": [
    {
     "data": {
      "text/html": [
       "<div>\n",
       "<style scoped>\n",
       "    .dataframe tbody tr th:only-of-type {\n",
       "        vertical-align: middle;\n",
       "    }\n",
       "\n",
       "    .dataframe tbody tr th {\n",
       "        vertical-align: top;\n",
       "    }\n",
       "\n",
       "    .dataframe thead th {\n",
       "        text-align: right;\n",
       "    }\n",
       "</style>\n",
       "<table border=\"1\" class=\"dataframe\">\n",
       "  <thead>\n",
       "    <tr style=\"text-align: right;\">\n",
       "      <th></th>\n",
       "      <th>kapacita_5</th>\n",
       "      <th>kapacita_100</th>\n",
       "    </tr>\n",
       "  </thead>\n",
       "  <tbody>\n",
       "    <tr>\n",
       "      <th>count</th>\n",
       "      <td>128.00000</td>\n",
       "      <td>128.000000</td>\n",
       "    </tr>\n",
       "    <tr>\n",
       "      <th>mean</th>\n",
       "      <td>1987.93750</td>\n",
       "      <td>1828.492188</td>\n",
       "    </tr>\n",
       "    <tr>\n",
       "      <th>std</th>\n",
       "      <td>142.30309</td>\n",
       "      <td>179.292529</td>\n",
       "    </tr>\n",
       "    <tr>\n",
       "      <th>min</th>\n",
       "      <td>732.00000</td>\n",
       "      <td>620.000000</td>\n",
       "    </tr>\n",
       "    <tr>\n",
       "      <th>25%</th>\n",
       "      <td>1969.75000</td>\n",
       "      <td>1773.500000</td>\n",
       "    </tr>\n",
       "    <tr>\n",
       "      <th>50%</th>\n",
       "      <td>2005.00000</td>\n",
       "      <td>1846.000000</td>\n",
       "    </tr>\n",
       "    <tr>\n",
       "      <th>75%</th>\n",
       "      <td>2041.25000</td>\n",
       "      <td>1928.250000</td>\n",
       "    </tr>\n",
       "    <tr>\n",
       "      <th>max</th>\n",
       "      <td>2129.00000</td>\n",
       "      <td>2134.000000</td>\n",
       "    </tr>\n",
       "  </tbody>\n",
       "</table>\n",
       "</div>"
      ],
      "text/plain": [
       "       kapacita_5  kapacita_100\n",
       "count   128.00000    128.000000\n",
       "mean   1987.93750   1828.492188\n",
       "std     142.30309    179.292529\n",
       "min     732.00000    620.000000\n",
       "25%    1969.75000   1773.500000\n",
       "50%    2005.00000   1846.000000\n",
       "75%    2041.25000   1928.250000\n",
       "max    2129.00000   2134.000000"
      ]
     },
     "execution_count": 12,
     "metadata": {},
     "output_type": "execute_result"
    }
   ],
   "source": [
    "# základní numerické charakteristiky\n",
    "aku.describe()"
   ]
  },
  {
   "cell_type": "code",
   "execution_count": 13,
   "id": "e741f6fb-ac75-49e2-9c29-df4fd42b4c87",
   "metadata": {},
   "outputs": [
    {
     "data": {
      "text/plain": [
       "Text(0, 0.5, 'četnost výskytu')"
      ]
     },
     "execution_count": 13,
     "metadata": {},
     "output_type": "execute_result"
    },
    {
     "data": {
      "image/png": "[encoded data removed]",
      "text/plain": [
       "<Figure size 432x288 with 1 Axes>"
      ]
     },
     "metadata": {
      "needs_background": "light"
     },
     "output_type": "display_data"
    }
   ],
   "source": [
    "# histogramy\n",
    "aku.plot.hist(alpha=0.5) \n",
    "plt.xlabel(\"kapacita\")\n",
    "plt.ylabel(\"četnost výskytu\")"
   ]
  },
  {
   "cell_type": "code",
   "execution_count": 14,
   "id": "21774be5-760c-446d-a0fa-f1ff4f7e31ee",
   "metadata": {},
   "outputs": [
    {
     "data": {
      "text/plain": [
       "Text(0, 0.5, 'kapacita')"
      ]
     },
     "execution_count": 14,
     "metadata": {},
     "output_type": "execute_result"
    },
    {
     "data": {
      "image/png": "[encoded data removed]",
      "text/plain": [
       "<Figure size 432x288 with 1 Axes>"
      ]
     },
     "metadata": {
      "needs_background": "light"
     },
     "output_type": "display_data"
    }
   ],
   "source": [
    "# krabicové grafy\n",
    "aku.plot.box()\n",
    "plt.ylabel(\"kapacita\")"
   ]
  },
  {
   "cell_type": "code",
   "execution_count": 15,
   "id": "7f1b1686-b6cb-43d0-ad31-ba3eeacd1a34",
   "metadata": {},
   "outputs": [
    {
     "data": {
      "text/html": [
       "<div>\n",
       "<style scoped>\n",
       "    .dataframe tbody tr th:only-of-type {\n",
       "        vertical-align: middle;\n",
       "    }\n",
       "\n",
       "    .dataframe tbody tr th {\n",
       "        vertical-align: top;\n",
       "    }\n",
       "\n",
       "    .dataframe thead th {\n",
       "        text-align: right;\n",
       "    }\n",
       "</style>\n",
       "<table border=\"1\" class=\"dataframe\">\n",
       "  <thead>\n",
       "    <tr style=\"text-align: right;\">\n",
       "      <th></th>\n",
       "      <th>vyrobce</th>\n",
       "      <th>kapacita_5</th>\n",
       "      <th>kapacita_100</th>\n",
       "    </tr>\n",
       "    <tr>\n",
       "      <th>cislo</th>\n",
       "      <th></th>\n",
       "      <th></th>\n",
       "      <th></th>\n",
       "    </tr>\n",
       "  </thead>\n",
       "  <tbody>\n",
       "    <tr>\n",
       "      <th>20</th>\n",
       "      <td>A</td>\n",
       "      <td>732</td>\n",
       "      <td>620</td>\n",
       "    </tr>\n",
       "    <tr>\n",
       "      <th>33</th>\n",
       "      <td>B</td>\n",
       "      <td>1854</td>\n",
       "      <td>1841</td>\n",
       "    </tr>\n",
       "    <tr>\n",
       "      <th>88</th>\n",
       "      <td>C</td>\n",
       "      <td>1221</td>\n",
       "      <td>823</td>\n",
       "    </tr>\n",
       "  </tbody>\n",
       "</table>\n",
       "</div>"
      ],
      "text/plain": [
       "      vyrobce  kapacita_5  kapacita_100\n",
       "cislo                                  \n",
       "20          A         732           620\n",
       "33          B        1854          1841\n",
       "88          C        1221           823"
      ]
     },
     "execution_count": 15,
     "metadata": {},
     "output_type": "execute_result"
    }
   ],
   "source": [
    "# výpis řádků obsahujících odlehlá pozorování ve sloupci kapacit po 5 cyklech  (podle metody vnitřních hradeb)\n",
    "Q1_5=aku['kapacita_5'].quantile(0.25)\n",
    "Q3_5=aku['kapacita_5'].quantile(0.75)\n",
    "IQR_5 = Q3_5-Q1_5\n",
    "out_5 = (aku['kapacita_5']<(Q1_5-1.5*IQR_5)) | (aku['kapacita_5']>(Q3_5+1.5*IQR_5))\n",
    "aku[out_5]"
   ]
  },
  {
   "cell_type": "code",
   "execution_count": 16,
   "id": "7f78e196-ee1d-4b5e-a7b5-410409bfb3e3",
   "metadata": {},
   "outputs": [],
   "source": [
    "# ponecháme jen řádky obsahující v obou sloupcích hodnoty nad 1500 mAh (zbylé akumulároty jsou považovány za vadné)\n",
    "aku = aku[(aku['kapacita_5']>=1500)&(aku['kapacita_100']>=1500)].copy() "
   ]
  },
  {
   "cell_type": "code",
   "execution_count": 17,
   "id": "5918bcf7-bbd8-49f7-b238-1912de709768",
   "metadata": {},
   "outputs": [
    {
     "data": {
      "text/plain": [
       "Text(0, 0.5, 'četnost výskytu')"
      ]
     },
     "execution_count": 17,
     "metadata": {},
     "output_type": "execute_result"
    },
    {
     "data": {
      "image/png": "[encoded data removed]",
      "text/plain": [
       "<Figure size 432x288 with 1 Axes>"
      ]
     },
     "metadata": {
      "needs_background": "light"
     },
     "output_type": "display_data"
    }
   ],
   "source": [
    "# histogramy po odstranění vadných akumulátorů\n",
    "aku.plot.hist(alpha=0.5)\n",
    "plt.xlabel(\"kapacita\")\n",
    "plt.ylabel(\"četnost výskytu\")"
   ]
  },
  {
   "cell_type": "code",
   "execution_count": 18,
   "id": "6e6fd2a3-2c9b-467c-a436-717c76e7397d",
   "metadata": {},
   "outputs": [
    {
     "data": {
      "text/plain": [
       "Text(0, 0.5, 'kapacita')"
      ]
     },
     "execution_count": 18,
     "metadata": {},
     "output_type": "execute_result"
    },
    {
     "data": {
      "image/png": "[encoded data removed]",
      "text/plain": [
       "<Figure size 432x288 with 1 Axes>"
      ]
     },
     "metadata": {
      "needs_background": "light"
     },
     "output_type": "display_data"
    }
   ],
   "source": [
    "# krabicové grafy po odstranění vadných akumulátorů\n",
    "aku.plot.box()\n",
    "plt.ylabel(\"kapacita\")"
   ]
  },
  {
   "cell_type": "code",
   "execution_count": 19,
   "id": "a745526b-f8fb-41ff-a604-6fa10a24f227",
   "metadata": {},
   "outputs": [
    {
     "data": {
      "text/html": [
       "<div>\n",
       "<style scoped>\n",
       "    .dataframe tbody tr th:only-of-type {\n",
       "        vertical-align: middle;\n",
       "    }\n",
       "\n",
       "    .dataframe tbody tr th {\n",
       "        vertical-align: top;\n",
       "    }\n",
       "\n",
       "    .dataframe thead th {\n",
       "        text-align: right;\n",
       "    }\n",
       "</style>\n",
       "<table border=\"1\" class=\"dataframe\">\n",
       "  <thead>\n",
       "    <tr style=\"text-align: right;\">\n",
       "      <th></th>\n",
       "      <th>kapacita_5</th>\n",
       "      <th>kapacita_100</th>\n",
       "    </tr>\n",
       "  </thead>\n",
       "  <tbody>\n",
       "    <tr>\n",
       "      <th>count</th>\n",
       "      <td>125.000000</td>\n",
       "      <td>125.000000</td>\n",
       "    </tr>\n",
       "    <tr>\n",
       "      <th>mean</th>\n",
       "      <td>2004.328000</td>\n",
       "      <td>1848.864000</td>\n",
       "    </tr>\n",
       "    <tr>\n",
       "      <th>std</th>\n",
       "      <td>54.768247</td>\n",
       "      <td>108.085341</td>\n",
       "    </tr>\n",
       "    <tr>\n",
       "      <th>min</th>\n",
       "      <td>1854.000000</td>\n",
       "      <td>1510.000000</td>\n",
       "    </tr>\n",
       "    <tr>\n",
       "      <th>25%</th>\n",
       "      <td>1971.000000</td>\n",
       "      <td>1783.000000</td>\n",
       "    </tr>\n",
       "    <tr>\n",
       "      <th>50%</th>\n",
       "      <td>2007.000000</td>\n",
       "      <td>1847.000000</td>\n",
       "    </tr>\n",
       "    <tr>\n",
       "      <th>75%</th>\n",
       "      <td>2042.000000</td>\n",
       "      <td>1929.000000</td>\n",
       "    </tr>\n",
       "    <tr>\n",
       "      <th>max</th>\n",
       "      <td>2129.000000</td>\n",
       "      <td>2134.000000</td>\n",
       "    </tr>\n",
       "  </tbody>\n",
       "</table>\n",
       "</div>"
      ],
      "text/plain": [
       "        kapacita_5  kapacita_100\n",
       "count   125.000000    125.000000\n",
       "mean   2004.328000   1848.864000\n",
       "std      54.768247    108.085341\n",
       "min    1854.000000   1510.000000\n",
       "25%    1971.000000   1783.000000\n",
       "50%    2007.000000   1847.000000\n",
       "75%    2042.000000   1929.000000\n",
       "max    2129.000000   2134.000000"
      ]
     },
     "execution_count": 19,
     "metadata": {},
     "output_type": "execute_result"
    }
   ],
   "source": [
    "# základní charakteristiky pro data očištěná od odlehých pozorování\n",
    "aku.describe()"
   ]
  },
  {
   "cell_type": "markdown",
   "id": "b73d9077-4ab5-4829-8f6c-2b6a58558f6e",
   "metadata": {},
   "source": [
    "## Závislost dvou kvantitativních proměnných"
   ]
  },
  {
   "cell_type": "code",
   "execution_count": 20,
   "id": "2ee96a09-141f-42ab-ae10-5ad3752e1730",
   "metadata": {},
   "outputs": [
    {
     "data": {
      "text/plain": [
       "<AxesSubplot:xlabel='kapacita_5', ylabel='kapacita_100'>"
      ]
     },
     "execution_count": 20,
     "metadata": {},
     "output_type": "execute_result"
    },
    {
     "data": {
      "image/png": "[encoded data removed]",
      "text/plain": [
       "<Figure size 432x288 with 1 Axes>"
      ]
     },
     "metadata": {
      "needs_background": "light"
     },
     "output_type": "display_data"
    }
   ],
   "source": [
    "# bodový graf závislosti kapacit po 5 a kapacit po 100 cyklech\n",
    "aku.plot.scatter(x='kapacita_5', y='kapacita_100')\n",
    "# z rozložení bodů v grafu lze usoudit, že hodnoty kapacit po 5 a po 100 cyklech jsou vzájemně závislé"
   ]
  },
  {
   "cell_type": "code",
   "execution_count": 21,
   "id": "048e72c4-c17b-4532-a3fc-f9cd4c199a0b",
   "metadata": {},
   "outputs": [
    {
     "data": {
      "text/html": [
       "<div>\n",
       "<style scoped>\n",
       "    .dataframe tbody tr th:only-of-type {\n",
       "        vertical-align: middle;\n",
       "    }\n",
       "\n",
       "    .dataframe tbody tr th {\n",
       "        vertical-align: top;\n",
       "    }\n",
       "\n",
       "    .dataframe thead th {\n",
       "        text-align: right;\n",
       "    }\n",
       "</style>\n",
       "<table border=\"1\" class=\"dataframe\">\n",
       "  <thead>\n",
       "    <tr style=\"text-align: right;\">\n",
       "      <th></th>\n",
       "      <th>kapacita_5</th>\n",
       "      <th>kapacita_100</th>\n",
       "    </tr>\n",
       "  </thead>\n",
       "  <tbody>\n",
       "    <tr>\n",
       "      <th>kapacita_5</th>\n",
       "      <td>1.000000</td>\n",
       "      <td>0.621874</td>\n",
       "    </tr>\n",
       "    <tr>\n",
       "      <th>kapacita_100</th>\n",
       "      <td>0.621874</td>\n",
       "      <td>1.000000</td>\n",
       "    </tr>\n",
       "  </tbody>\n",
       "</table>\n",
       "</div>"
      ],
      "text/plain": [
       "              kapacita_5  kapacita_100\n",
       "kapacita_5      1.000000      0.621874\n",
       "kapacita_100    0.621874      1.000000"
      ]
     },
     "execution_count": 21,
     "metadata": {},
     "output_type": "execute_result"
    }
   ],
   "source": [
    "# Pearsonvy korelační koeficienty (bodové odhady korelací)\n",
    "aku.corr() # pomocí pandas"
   ]
  },
  {
   "cell_type": "code",
   "execution_count": 22,
   "id": "9b63896f-bd7e-4dba-b79b-92410cac0b3c",
   "metadata": {},
   "outputs": [
    {
     "data": {
      "text/plain": [
       "array([[1.       , 0.6218736],\n",
       "       [0.6218736, 1.       ]])"
      ]
     },
     "execution_count": 22,
     "metadata": {},
     "output_type": "execute_result"
    }
   ],
   "source": [
    "np.corrcoef(aku['kapacita_5'], aku['kapacita_100']) # totéž pomocí numpy"
   ]
  },
  {
   "cell_type": "markdown",
   "id": "2487a953-e077-48c9-a15e-c49591fa2b0d",
   "metadata": {},
   "source": [
    "## Explorační analýza závislosti kvantitativní a kategoriální proměnné"
   ]
  },
  {
   "cell_type": "code",
   "execution_count": 23,
   "id": "de7406ba-66a2-425a-b035-ed4fdd46fc8f",
   "metadata": {},
   "outputs": [
    {
     "data": {
      "image/png": "[encoded data removed]",
      "text/plain": [
       "<Figure size 432x288 with 1 Axes>"
      ]
     },
     "metadata": {
      "needs_background": "light"
     },
     "output_type": "display_data"
    }
   ],
   "source": [
    "# krabicové grafy kapacit po 5 cyklech v zavislosti na vyrobci\n",
    "aku.boxplot(column=['kapacita_5'], by=['vyrobce']);\n",
    "plt.title('Kapacity po 5 cyklech')\n",
    "plt.xlabel('výrobce')\n",
    "plt.ylabel('kapacita')\n",
    "plt.tight_layout() # upravi mezery kolem grafu\n",
    "# výrazné posunutí krabicových grafů (např. B proti D) naznačuje závislost kapacity po 5 cyklech na výrobci"
   ]
  },
  {
   "cell_type": "markdown",
   "id": "7618802e-c010-48b0-962c-2a53209c8c1e",
   "metadata": {},
   "source": [
    "## Explorační analýza závislosti dvou kategoriálních proměnných"
   ]
  },
  {
   "cell_type": "code",
   "execution_count": 24,
   "id": "91bd667d-3ebb-4ba9-9c40-9906bd258c0b",
   "metadata": {},
   "outputs": [],
   "source": [
    "# pokles kapacit mezi 5. a 100. cyklem (přidáme jako další sloupec datového rámce)\n",
    "aku['pokles']=aku['kapacita_5']-aku['kapacita_100']"
   ]
  },
  {
   "cell_type": "code",
   "execution_count": 25,
   "id": "54253fe9-7819-40df-af72-b9834b2fde71",
   "metadata": {},
   "outputs": [],
   "source": [
    "# relativní pokles\n",
    "aku['rel_pokles']=aku['pokles']/aku['kapacita_5']"
   ]
  },
  {
   "cell_type": "code",
   "execution_count": 26,
   "id": "736f2816-429e-4be2-a756-3b9e9c1e0062",
   "metadata": {},
   "outputs": [],
   "source": [
    "# je relativní pokles > 0.1 ?\n",
    "aku['pokles_nad10p'] = aku['rel_pokles']>0.1"
   ]
  },
  {
   "cell_type": "code",
   "execution_count": 27,
   "id": "b39ff4c8-c4aa-495b-a8bc-b9152738accd",
   "metadata": {},
   "outputs": [],
   "source": [
    "# kontingenční tabulka (tabulka absolutních četností dvojic (výrobce, pokles > 0.1))\n",
    "crt = pd.crosstab(aku['vyrobce'], aku['pokles_nad10p'])"
   ]
  },
  {
   "cell_type": "code",
   "execution_count": 28,
   "id": "579f3bb9-eab1-43da-8f75-1499c20091c8",
   "metadata": {},
   "outputs": [
    {
     "data": {
      "text/html": [
       "<div>\n",
       "<style scoped>\n",
       "    .dataframe tbody tr th:only-of-type {\n",
       "        vertical-align: middle;\n",
       "    }\n",
       "\n",
       "    .dataframe tbody tr th {\n",
       "        vertical-align: top;\n",
       "    }\n",
       "\n",
       "    .dataframe thead th {\n",
       "        text-align: right;\n",
       "    }\n",
       "</style>\n",
       "<table border=\"1\" class=\"dataframe\">\n",
       "  <thead>\n",
       "    <tr style=\"text-align: right;\">\n",
       "      <th>pokles_nad10p</th>\n",
       "      <th>False</th>\n",
       "      <th>True</th>\n",
       "    </tr>\n",
       "    <tr>\n",
       "      <th>vyrobce</th>\n",
       "      <th></th>\n",
       "      <th></th>\n",
       "    </tr>\n",
       "  </thead>\n",
       "  <tbody>\n",
       "    <tr>\n",
       "      <th>C</th>\n",
       "      <td>17</td>\n",
       "      <td>14</td>\n",
       "    </tr>\n",
       "    <tr>\n",
       "      <th>B</th>\n",
       "      <td>27</td>\n",
       "      <td>5</td>\n",
       "    </tr>\n",
       "    <tr>\n",
       "      <th>A</th>\n",
       "      <td>16</td>\n",
       "      <td>14</td>\n",
       "    </tr>\n",
       "    <tr>\n",
       "      <th>D</th>\n",
       "      <td>29</td>\n",
       "      <td>3</td>\n",
       "    </tr>\n",
       "  </tbody>\n",
       "</table>\n",
       "</div>"
      ],
      "text/plain": [
       "pokles_nad10p  False  True\n",
       "vyrobce                   \n",
       "C                 17    14\n",
       "B                 27     5\n",
       "A                 16    14\n",
       "D                 29     3"
      ]
     },
     "execution_count": 28,
     "metadata": {},
     "output_type": "execute_result"
    }
   ],
   "source": [
    "crt"
   ]
  },
  {
   "cell_type": "code",
   "execution_count": 29,
   "id": "0faa6aff-d4c9-4b74-ba0e-fbde28438fc3",
   "metadata": {},
   "outputs": [
    {
     "data": {
      "image/png": "[encoded data removed]",
      "text/plain": [
       "<Figure size 432x288 with 3 Axes>"
      ]
     },
     "metadata": {
      "needs_background": "light"
     },
     "output_type": "display_data"
    }
   ],
   "source": [
    "# mozaikový graf (grafické znázornění kontingeční tabulky)\n",
    "mosaic(aku, ['vyrobce', 'pokles_nad10p']);\n",
    "# výrazně rozdílné poměry výšek buněk v jednotlivých sloupcích nazačují závislsot mezi poklesem a výrobcem"
   ]
  },
  {
   "cell_type": "markdown",
   "id": "804ae007-5de9-4469-8821-09756bab011d",
   "metadata": {
    "tags": []
   },
   "source": [
    "## Ověření normality "
   ]
  },
  {
   "cell_type": "code",
   "execution_count": 30,
   "id": "69430209-5356-4082-8786-3252c8058b19",
   "metadata": {},
   "outputs": [
    {
     "data": {
      "image/png": "[encoded data removed]",
      "text/plain": [
       "<Figure size 432x288 with 1 Axes>"
      ]
     },
     "metadata": {
      "needs_background": "light"
     },
     "output_type": "display_data"
    }
   ],
   "source": [
    "# pomocí QQ grafu\n",
    "sm.qqplot(aku['kapacita_5'][aku['vyrobce']=='A'], line='45', fit=True)\n",
    "plt.show()\n",
    "# rozložení bodů podél přímky ukazuje na normální rozdělení dat"
   ]
  },
  {
   "cell_type": "code",
   "execution_count": 31,
   "id": "1d0850e6-e4d1-4ccd-a1b5-dcfd8a5d33b3",
   "metadata": {},
   "outputs": [
    {
     "data": {
      "image/png": "[encoded data removed]",
      "text/plain": [
       "<Figure size 432x288 with 1 Axes>"
      ]
     },
     "metadata": {
      "needs_background": "light"
     },
     "output_type": "display_data"
    }
   ],
   "source": [
    "# Obdobný graf pro data zexponenciálního rozdělení ukazuje výrazný odklad od přímky. Z toho lze usuzovat, že data nemají normální rozdělení.\n",
    "x = np.random.exponential(5, size=50)\n",
    "sm.qqplot(x, line='45', fit=True)\n",
    "plt.show()"
   ]
  },
  {
   "cell_type": "code",
   "execution_count": 32,
   "id": "cce9f438-be5b-4027-ace0-a1efcda6b318",
   "metadata": {},
   "outputs": [
    {
     "data": {
      "text/plain": [
       "ShapiroResult(statistic=0.9714745879173279, pvalue=0.5802649855613708)"
      ]
     },
     "execution_count": 32,
     "metadata": {},
     "output_type": "execute_result"
    }
   ],
   "source": [
    "# normalitu lze testovat např. Shapirovým-Wilkovým testem (H0: data mají normální rozdělení, H1: data nemají normální rozdělení)\n",
    "stats.shapiro(aku['kapacita_5'][aku['vyrobce']=='A'])\n",
    "# vyspoká p-hodnota ukazuje, že data nevykazují významnou odchylku od normality "
   ]
  },
  {
   "cell_type": "markdown",
   "id": "9f77936b-190a-4f7d-998d-21137e2296a3",
   "metadata": {},
   "source": [
    "# Testy hypotéz, intervalové odhady"
   ]
  },
  {
   "cell_type": "markdown",
   "id": "f98b3991-5040-45d4-9ed6-5e7b2ed52a14",
   "metadata": {},
   "source": [
    "## Ověření normality pro jednotlivé kapacity a výrobce"
   ]
  },
  {
   "cell_type": "code",
   "execution_count": 33,
   "id": "9feb8234-5128-4281-95b9-09cac225ba55",
   "metadata": {},
   "outputs": [
    {
     "data": {
      "text/plain": [
       "vyrobce\n",
       "C     (0.9658653736114502, 0.4130503237247467)\n",
       "B    (0.9383649826049805, 0.06728947162628174)\n",
       "A     (0.9714745879173279, 0.5802649855613708)\n",
       "D     (0.9861747026443481, 0.9459457397460938)\n",
       "dtype: object"
      ]
     },
     "execution_count": 33,
     "metadata": {},
     "output_type": "execute_result"
    }
   ],
   "source": [
    "aku[['kapacita_5', 'vyrobce']].groupby('vyrobce').apply(stats.shapiro)"
   ]
  },
  {
   "cell_type": "code",
   "execution_count": 34,
   "id": "28e93259-efd0-419c-a185-4ce933736c89",
   "metadata": {},
   "outputs": [
    {
     "data": {
      "text/plain": [
       "vyrobce\n",
       "C    (0.9675898551940918, 0.45529457926750183)\n",
       "B     (0.9734573364257812, 0.5997429490089417)\n",
       "A     (0.9716190695762634, 0.5843653678894043)\n",
       "D     (0.9814878106117249, 0.8415166735649109)\n",
       "dtype: object"
      ]
     },
     "execution_count": 34,
     "metadata": {},
     "output_type": "execute_result"
    }
   ],
   "source": [
    "aku[['kapacita_100', 'vyrobce']].groupby('vyrobce').apply(stats.shapiro)"
   ]
  },
  {
   "cell_type": "markdown",
   "id": "7813fe08-ede6-4d72-89a6-b4c976058656",
   "metadata": {},
   "source": [
    "Všechny p-hodnoty jsou vyšší než 0.05. Jednotlivé výběry můžeme považovat za výbery z normálního rozdělení."
   ]
  },
  {
   "cell_type": "markdown",
   "id": "ca398358-7160-4bbe-bf15-f82ff9854552",
   "metadata": {},
   "source": [
    "## Dosahují akumulátory výrobce A po 5 cyklech deklarované kapacity?"
   ]
  },
  {
   "cell_type": "code",
   "execution_count": 35,
   "id": "17e18d3f-30f6-4209-8c96-ec12c669316b",
   "metadata": {},
   "outputs": [
    {
     "data": {
      "image/png": "[encoded data removed]",
      "text/plain": [
       "<Figure size 432x288 with 1 Axes>"
      ]
     },
     "metadata": {
      "needs_background": "light"
     },
     "output_type": "display_data"
    }
   ],
   "source": [
    "kap5A = aku['kapacita_5'][aku['vyrobce']=='A']\n",
    "kap5A.plot.box();\n",
    "# krabicový graf nenaznačuje výraznou odchylku od deklarované hodnoty"
   ]
  },
  {
   "cell_type": "markdown",
   "id": "c30318ca-55ff-4b09-9a0d-8308d85ee17b",
   "metadata": {},
   "source": [
    "\n",
    "Testujeme H0: $\\mu_A=2000$ proti H1: $\\mu_A\\neq 2000$"
   ]
  },
  {
   "cell_type": "code",
   "execution_count": 36,
   "id": "8c1c6452-a52c-43bd-9fd6-9116e008cc17",
   "metadata": {},
   "outputs": [
    {
     "name": "stdout",
     "output_type": "stream",
     "text": [
      "Jednovýběrový t-test: p-hodnota=0.048518\n"
     ]
    }
   ],
   "source": [
    "# oboustranný jednovýběrový t-test\n",
    "result = stats.ttest_1samp(kap5A, popmean=2000)\n",
    "print(\"Jednovýběrový t-test: p-hodnota={:f}\".format(result.pvalue))"
   ]
  },
  {
   "cell_type": "markdown",
   "id": "ca98596b-487d-46cc-a4f2-de0b805aed15",
   "metadata": {},
   "source": [
    "Na hladině významnosti 0.05 zamítáme H0. Střední hodnota kapacit akumumulátorů výrobce A po 5 cyklech vykazuje statisticky význanou odchylku od deklarované kapacity."
   ]
  },
  {
   "cell_type": "code",
   "execution_count": 37,
   "id": "173eff20-a74c-470d-bf7b-098b8eaa0f32",
   "metadata": {},
   "outputs": [
    {
     "name": "stdout",
     "output_type": "stream",
     "text": [
      "Jednovýběrový t-test: p-hodnota=0.024259\n"
     ]
    }
   ],
   "source": [
    "# jednostranný jednovýběrový t-test H0: \\mu_A=2000, H1: \\mu_A>2000\n",
    "result = stats.ttest_1samp(kap5A, popmean=2000, alternative='greater')\n",
    "print(\"Jednovýběrový t-test: p-hodnota={:f}\".format(result.pvalue))\n",
    "# pro H1: \\mu_A<2000 ... alternative='less'\n",
    "# pro H1: \\mu_A<>2000 ... alternative='two-sided' (výchozí hodnota parametru)"
   ]
  },
  {
   "cell_type": "markdown",
   "id": "d6257543-252f-41fd-80ba-35c9c731aa00",
   "metadata": {},
   "source": [
    "---"
   ]
  },
  {
   "cell_type": "markdown",
   "id": "a6098a98-c8c6-4de7-ae8e-3854c2618591",
   "metadata": {},
   "source": [
    "## Liší se střední hodnoty kapacit akumulátorů výrobců B a D po 100 cyklech?"
   ]
  },
  {
   "cell_type": "code",
   "execution_count": 38,
   "id": "50da16d1-179e-4f36-917e-8333a7ff2700",
   "metadata": {},
   "outputs": [
    {
     "data": {
      "image/png": "[encoded data removed]",
      "text/plain": [
       "<Figure size 432x288 with 1 Axes>"
      ]
     },
     "metadata": {
      "needs_background": "light"
     },
     "output_type": "display_data"
    }
   ],
   "source": [
    "# vybere pouze aku vyrobcu B a D a vykreslí krabicove grafy \n",
    "aku[aku['vyrobce'].isin(['B', 'D'])].boxplot(column=['kapacita_100'], by=['vyrobce'])\n",
    "plt.tight_layout()"
   ]
  },
  {
   "cell_type": "code",
   "execution_count": 39,
   "id": "5d2e4a22-8314-40fb-acba-70f30c5f6fe0",
   "metadata": {},
   "outputs": [],
   "source": [
    "kapB100 = aku['kapacita_100'][aku['vyrobce']=='B']\n",
    "kapD100 = aku['kapacita_100'][aku['vyrobce']=='D']"
   ]
  },
  {
   "cell_type": "code",
   "execution_count": 40,
   "id": "a4de8281-cc5c-4e47-8e89-1e112700badd",
   "metadata": {},
   "outputs": [
    {
     "data": {
      "text/plain": [
       "Text(0, 0.5, 'kapacita')"
      ]
     },
     "execution_count": 40,
     "metadata": {},
     "output_type": "execute_result"
    },
    {
     "data": {
      "image/png": "[encoded data removed]",
      "text/plain": [
       "<Figure size 432x288 with 1 Axes>"
      ]
     },
     "metadata": {
      "needs_background": "light"
     },
     "output_type": "display_data"
    }
   ],
   "source": [
    "# krabicové grafy pomocí matplotlib\n",
    "plt.boxplot([kapB100, kapD100])\n",
    "plt.xticks(ticks=[1, 2], labels=['B', 'D'])\n",
    "plt.xlabel('výrobce')\n",
    "plt.ylabel('kapacita')"
   ]
  },
  {
   "cell_type": "markdown",
   "id": "db6b1da3-a5be-4d47-97bc-4495874f64c3",
   "metadata": {},
   "source": [
    "Krabicové grafy naznačují, že kapacity akamulátorů výrobce D jsou vyšší než výrobce B. Proto volíme jednostrannou alternativní hypotézu."
   ]
  },
  {
   "cell_type": "markdown",
   "id": "87b40442-bc47-4737-8f63-6f4c889ab4c9",
   "metadata": {},
   "source": [
    "Test H0: $\\mu_B=\\mu_D$ proti H1: $\\mu_B<\\mu_D$"
   ]
  },
  {
   "cell_type": "code",
   "execution_count": 41,
   "id": "2f744fa1-e6cd-47ec-989d-faca4160091e",
   "metadata": {},
   "outputs": [
    {
     "name": "stdout",
     "output_type": "stream",
     "text": [
      "Dvouvýběrový t-test: p-hodnota=0.000003\n"
     ]
    }
   ],
   "source": [
    "# dvouvýběrový t-test\n",
    "test = stats.ttest_ind(kapB100, kapD100)\n",
    "print(\"Dvouvýběrový t-test: p-hodnota={:f}\".format(test.pvalue))"
   ]
  },
  {
   "cell_type": "markdown",
   "id": "c49c79d5-d028-418a-8950-34258def5a07",
   "metadata": {},
   "source": [
    "Na hladině významnosti 0.05 zamítáme H0. Střední hodnoty kapacit po 100 cyklech akumulátorů výrobce D jsou vyšší než střední hodnoty kapacit akumulátorů výrobce B."
   ]
  },
  {
   "cell_type": "markdown",
   "id": "8d000343-622d-47ef-be66-e7711e983635",
   "metadata": {},
   "source": [
    "---"
   ]
  },
  {
   "cell_type": "markdown",
   "id": "2fb5a6ea-5b05-42cc-9c7c-bf364ed745b2",
   "metadata": {},
   "source": [
    "## Liší se rozptyly hodnoty kapacit akuamulátorů výrobců B a D po 100 cyklech?"
   ]
  },
  {
   "cell_type": "markdown",
   "id": "6153b617-6154-4d6c-9767-a139bd1a14af",
   "metadata": {},
   "source": [
    "H0: $\\sigma_B^2=\\sigma_D^2$, H1: $\\sigma_B^2>\\sigma_D^2$"
   ]
  },
  {
   "cell_type": "code",
   "execution_count": 42,
   "id": "af9ed50f-08fa-4472-8919-02150b0cf030",
   "metadata": {},
   "outputs": [
    {
     "name": "stdout",
     "output_type": "stream",
     "text": [
      "F-test: p-hodnota=0.225281\n"
     ]
    }
   ],
   "source": [
    "# test rovnosti rozptylů není dostupný v použitých knihovnách, provedeme jej ručně\n",
    "SB100 = kapB100.var()\n",
    "SD100 = kapD100.var()\n",
    "F = SB100/SD100\n",
    "pval = 1-stats.f.cdf(F, len(kapB100)-1, len(kapD100)-1)\n",
    "print(\"F-test: p-hodnota={:f}\".format(pval))\n"
   ]
  },
  {
   "cell_type": "markdown",
   "id": "1b6a7220-4b37-49f6-bc7a-94a410de4124",
   "metadata": {},
   "source": [
    "Na hladině významnosti 0.05 nezamítáme H0. U akamulátorů výrobců B a D nebyl po 100 cyklech prokázán rozdíl v rozptylech kapacit."
   ]
  },
  {
   "cell_type": "markdown",
   "id": "9fdf1129-7c61-446b-99a6-4480aa38f1cc",
   "metadata": {},
   "source": [
    "---"
   ]
  },
  {
   "cell_type": "markdown",
   "id": "9752f801-3e43-41a7-b821-602e5ac9b667",
   "metadata": {},
   "source": [
    "## Liší se kapacity akumulátorů výrobce A po 5 a po 100 cyklech?"
   ]
  },
  {
   "cell_type": "markdown",
   "id": "a01da6f5-fe97-4c5b-85c2-cebce455b27a",
   "metadata": {},
   "source": [
    "POZOR: Nejde o nezávislé výběry! Data jsou párová. Posuzujeme stř. hodnotu rozdílů po 5 a po 100 cyklech."
   ]
  },
  {
   "cell_type": "code",
   "execution_count": 43,
   "id": "ae8c0adb-5704-4b71-9a3d-cbd06b714758",
   "metadata": {},
   "outputs": [
    {
     "data": {
      "image/png": "[encoded data removed]",
      "text/plain": [
       "<Figure size 432x288 with 1 Axes>"
      ]
     },
     "metadata": {
      "needs_background": "light"
     },
     "output_type": "display_data"
    }
   ],
   "source": [
    "aku['pokles'][aku['vyrobce']=='A'].plot.box();\n"
   ]
  },
  {
   "cell_type": "markdown",
   "id": "513a8c30-1216-49fe-99bf-1288ef93228e",
   "metadata": {},
   "source": [
    "Krabicový graf ukazuje, že pokles kapacity u výrobce A je výrazně vyšší než 0. "
   ]
  },
  {
   "cell_type": "markdown",
   "id": "55665d30-cb23-4d88-86ea-eb62805fd536",
   "metadata": {},
   "source": [
    "Střední hodnota poklesu kapacity: $\\mu_{pA}$\n",
    "\n",
    "Test H0: $\\mu_{pA}=0$ proti H1: $\\mu_{pA}>0$  "
   ]
  },
  {
   "cell_type": "code",
   "execution_count": 44,
   "id": "92b45479-0f9d-4c71-bd85-be735f3ec6ab",
   "metadata": {},
   "outputs": [
    {
     "data": {
      "text/plain": [
       "Ttest_indResult(statistic=7.402334821424309, pvalue=6.177663764963653e-10)"
      ]
     },
     "execution_count": 44,
     "metadata": {},
     "output_type": "execute_result"
    }
   ],
   "source": [
    "# Chybně (jako nezávislá data):\n",
    "stats.ttest_ind(aku['kapacita_5'][aku['vyrobce']=='A'], aku['kapacita_100'][aku['vyrobce']=='A'])"
   ]
  },
  {
   "cell_type": "code",
   "execution_count": 45,
   "id": "f140b299-6d0a-43d6-a98a-db4d23ed7ac4",
   "metadata": {},
   "outputs": [
    {
     "data": {
      "text/plain": [
       "Ttest_relResult(statistic=9.260380518227795, pvalue=3.662123001232633e-10)"
      ]
     },
     "execution_count": 45,
     "metadata": {},
     "output_type": "execute_result"
    }
   ],
   "source": [
    "# Správně pomocí párového t-testu (jako párová data):\n",
    "stats.ttest_rel(aku['kapacita_5'][aku['vyrobce']=='A'], aku['kapacita_100'][aku['vyrobce']=='A'])"
   ]
  },
  {
   "cell_type": "code",
   "execution_count": 46,
   "id": "68387612-465c-4ed0-b4a4-280e03c0bcd5",
   "metadata": {},
   "outputs": [
    {
     "data": {
      "text/plain": [
       "Ttest_1sampResult(statistic=9.260380518227795, pvalue=3.662123001232633e-10)"
      ]
     },
     "execution_count": 46,
     "metadata": {},
     "output_type": "execute_result"
    }
   ],
   "source": [
    "# Správně pomocí jednovýběrového t-testu:\n",
    "stats.ttest_1samp(aku['pokles'][aku['vyrobce']=='A'], popmean=0)\n"
   ]
  },
  {
   "cell_type": "code",
   "execution_count": 47,
   "id": "fbb053bf-98e4-4eb7-a713-2f6656616d00",
   "metadata": {},
   "outputs": [
    {
     "name": "stdout",
     "output_type": "stream",
     "text": [
      "párový t-test: p-hodnota=0.0000000004\n"
     ]
    }
   ],
   "source": [
    "result = stats.ttest_rel(aku['kapacita_5'][aku['vyrobce']=='A'], aku['kapacita_100'][aku['vyrobce']=='A'])\n",
    "print(\"párový t-test: p-hodnota={:.10f}\".format(result.pvalue))\n"
   ]
  },
  {
   "cell_type": "markdown",
   "id": "4788ca44-197d-43c7-a1c1-6e0e1bebed75",
   "metadata": {},
   "source": [
    "Na hladině významnosti 0.05 zamítáme H0. U akamulátorů výrobce A dochází mezi 5 a 100 cyklem k poklesu stř. hodnoty kapacity."
   ]
  },
  {
   "cell_type": "markdown",
   "id": "2d3fcb4e-da1c-4b7b-ad26-914aae5a02ec",
   "metadata": {},
   "source": [
    "---"
   ]
  },
  {
   "cell_type": "markdown",
   "id": "615be7f6-ae66-417e-8d0c-acdc5058e178",
   "metadata": {},
   "source": [
    "## Intervalové odhady stř. hodot kapacit po 5 cyklech"
   ]
  },
  {
   "cell_type": "code",
   "execution_count": 48,
   "id": "2ad41c58-5905-4a85-b2ae-2827cd8a46b6",
   "metadata": {},
   "outputs": [
    {
     "name": "stdout",
     "output_type": "stream",
     "text": [
      "95% intervalové odhady stř. hodnot kapacit po 5 cyklech\n",
      "výrobce A: (2010, 2027) mAh\n",
      "výrobce B: (1962, 1977) mAh\n",
      "výrobce C: (1984, 2009) mAh\n",
      "výrobce D: (2028, 2039) mAh\n"
     ]
    }
   ],
   "source": [
    "# ruční výpočet intervalového odhadu  \n",
    "alfa = 0.05\n",
    "print('95% intervalové odhady stř. hodnot kapacit po 5 cyklech')\n",
    "for v in aku['vyrobce'].unique():\n",
    "    aku_v =  aku['kapacita_5'][aku['vyrobce']==v]  \n",
    "    m = aku_v.mean() # výběrový průměr\n",
    "    s = aku_v.std()  # výběrová směrodatná odchylka\n",
    "    n = len(aku)\n",
    "    t = stats.t.ppf(1-alfa/2, n-1)  # 1-alfa/2 kvantil studentova rozdělení\n",
    "    d = t*s/n**0.5 # polovina délky konfidenčního intervalu\n",
    "    td = m-d # dolní mez\n",
    "    th = m+d # horn9 mez\n",
    "    print('výrobce {}: ({:.0f}, {:.0f}) mAh'.format(v, td, th))"
   ]
  }
 ],
 "metadata": {
  "kernelspec": {
   "display_name": "Python 3",
   "language": "python",
   "name": "python3"
  },
  "language_info": {
   "codemirror_mode": {
    "name": "ipython",
    "version": 3
   },
   "file_extension": ".py",
   "mimetype": "text/x-python",
   "name": "python",
   "nbconvert_exporter": "python",
   "pygments_lexer": "ipython3",
   "version": "3.8.10"
  }
 },
 "nbformat": 4,
 "nbformat_minor": 5
}
