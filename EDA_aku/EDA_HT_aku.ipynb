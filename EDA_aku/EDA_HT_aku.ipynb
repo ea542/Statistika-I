{
 "cells": [
  {
   "cell_type": "code",
   "execution_count": 131,
   "id": "cec86818-bdc4-42f4-8466-472a4af5ad16",
   "metadata": {},
   "outputs": [],
   "source": [
    "import numpy as np\n",
    "import pandas as pd\n",
    "from scipy import stats\n",
    "from matplotlib import pyplot as plt\n",
    "from statsmodels.graphics.mosaicplot import mosaic\n",
    "import statsmodels.api as sm\n",
    "\n"
   ]
  },
  {
   "cell_type": "code",
   "execution_count": 132,
   "id": "d17c16d3-8011-4f92-a211-5fe3e3debc72",
   "metadata": {},
   "outputs": [
    {
     "name": "stdout",
     "output_type": "stream",
     "text": [
      "The watermark extension is already loaded. To reload it, use:\n",
      "  %reload_ext watermark\n",
      "matplotlib : 3.4.3\n",
      "pandas     : 1.3.4\n",
      "statsmodels: 0.13.2\n",
      "scipy      : 1.7.1\n",
      "numpy      : 1.21.3\n",
      "\n"
     ]
    }
   ],
   "source": [
    "%load_ext watermark\n",
    "%watermark --iversions"
   ]
  },
  {
   "cell_type": "markdown",
   "id": "3b504e94-9a5e-4f6f-bf1f-16a282a03d13",
   "metadata": {},
   "source": [
    "# Načtení dat ze souboru \n"
   ]
  },
  {
   "cell_type": "code",
   "execution_count": 3,
   "id": "b0a1116a-5213-4d1e-9ba3-144554d03b1b",
   "metadata": {},
   "outputs": [],
   "source": [
    "aku = pd.read_csv('aku.csv', sep=';', index_col=0) #sep: oddělovač, index_col: číslo sloupce s indexem řádku (soubor jej nemusí obsahovat)"
   ]
  },
  {
   "cell_type": "code",
   "execution_count": 4,
   "id": "33ace8de-4b79-4b8a-a47b-e839caefef14",
   "metadata": {},
   "outputs": [
    {
     "data": {
      "text/plain": [
       "Index(['vyrobce', 'kapacita_5', 'kapacita_100'], dtype='object')"
      ]
     },
     "execution_count": 4,
     "metadata": {},
     "output_type": "execute_result"
    }
   ],
   "source": [
    "aku.columns # názvy slupců v datovém souboru"
   ]
  },
  {
   "cell_type": "code",
   "execution_count": 5,
   "id": "cc9888e6-9051-4fda-a0c8-21bdca996c0b",
   "metadata": {},
   "outputs": [
    {
     "data": {
      "text/html": [
       "<div>\n",
       "<style scoped>\n",
       "    .dataframe tbody tr th:only-of-type {\n",
       "        vertical-align: middle;\n",
       "    }\n",
       "\n",
       "    .dataframe tbody tr th {\n",
       "        vertical-align: top;\n",
       "    }\n",
       "\n",
       "    .dataframe thead th {\n",
       "        text-align: right;\n",
       "    }\n",
       "</style>\n",
       "<table border=\"1\" class=\"dataframe\">\n",
       "  <thead>\n",
       "    <tr style=\"text-align: right;\">\n",
       "      <th></th>\n",
       "      <th>vyrobce</th>\n",
       "      <th>kapacita_5</th>\n",
       "      <th>kapacita_100</th>\n",
       "    </tr>\n",
       "    <tr>\n",
       "      <th>cislo</th>\n",
       "      <th></th>\n",
       "      <th></th>\n",
       "      <th></th>\n",
       "    </tr>\n",
       "  </thead>\n",
       "  <tbody>\n",
       "    <tr>\n",
       "      <th>1</th>\n",
       "      <td>A</td>\n",
       "      <td>1996</td>\n",
       "      <td>1717</td>\n",
       "    </tr>\n",
       "    <tr>\n",
       "      <th>2</th>\n",
       "      <td>A</td>\n",
       "      <td>2053</td>\n",
       "      <td>2134</td>\n",
       "    </tr>\n",
       "    <tr>\n",
       "      <th>3</th>\n",
       "      <td>A</td>\n",
       "      <td>2087</td>\n",
       "      <td>1981</td>\n",
       "    </tr>\n",
       "    <tr>\n",
       "      <th>4</th>\n",
       "      <td>A</td>\n",
       "      <td>2026</td>\n",
       "      <td>1834</td>\n",
       "    </tr>\n",
       "    <tr>\n",
       "      <th>5</th>\n",
       "      <td>A</td>\n",
       "      <td>2039</td>\n",
       "      <td>1941</td>\n",
       "    </tr>\n",
       "  </tbody>\n",
       "</table>\n",
       "</div>"
      ],
      "text/plain": [
       "      vyrobce  kapacita_5  kapacita_100\n",
       "cislo                                  \n",
       "1           A        1996          1717\n",
       "2           A        2053          2134\n",
       "3           A        2087          1981\n",
       "4           A        2026          1834\n",
       "5           A        2039          1941"
      ]
     },
     "execution_count": 5,
     "metadata": {},
     "output_type": "execute_result"
    }
   ],
   "source": [
    "aku.head() # výpis prvních řádků souboru"
   ]
  },
  {
   "cell_type": "code",
   "execution_count": 6,
   "id": "a29db2ae-18ea-4657-8f71-31299c433ae7",
   "metadata": {},
   "outputs": [
    {
     "data": {
      "text/plain": [
       "dtype('O')"
      ]
     },
     "execution_count": 6,
     "metadata": {},
     "output_type": "execute_result"
    }
   ],
   "source": [
    "aku['vyrobce'].dtype # data ve slpupci jsou v obecného typu \"object\""
   ]
  },
  {
   "cell_type": "code",
   "execution_count": 6,
   "id": "18772108-360e-4adf-9108-19fe018346fd",
   "metadata": {},
   "outputs": [
    {
     "data": {
      "text/plain": [
       "cislo\n",
       "1      A\n",
       "2      A\n",
       "3      A\n",
       "4      A\n",
       "5      A\n",
       "      ..\n",
       "124    D\n",
       "125    D\n",
       "126    D\n",
       "127    D\n",
       "128    D\n",
       "Name: vyrobce, Length: 128, dtype: category\n",
       "Categories (4, object): ['C', 'B', 'A', 'D']"
      ]
     },
     "execution_count": 6,
     "metadata": {},
     "output_type": "execute_result"
    }
   ],
   "source": [
    "# sloupec lze převést na typ Category\n",
    "aku['vyrobce']=aku['vyrobce'].astype('category')\n",
    "# pro data typu Category můžeme zvolit vlastní pořadí kategorií (hodnot) \n",
    "aku['vyrobce'].cat.reorder_categories(['C', 'B', 'A', 'D'])"
   ]
  },
  {
   "cell_type": "markdown",
   "id": "185aebab-1101-4b18-8c12-d87c7eacda05",
   "metadata": {},
   "source": [
    "# Načtení dat ze souboru"
   ]
  },
  {
   "cell_type": "markdown",
   "id": "cf322139-c341-4c40-bbb2-0f27218a70b7",
   "metadata": {},
   "source": [
    "## Explorační analýza kategoriální proměnné"
   ]
  },
  {
   "cell_type": "code",
   "execution_count": 7,
   "id": "2d49e8d2-b9cc-425d-b896-bafa780a6457",
   "metadata": {},
   "outputs": [
    {
     "data": {
      "text/plain": [
       "A    32\n",
       "B    32\n",
       "C    32\n",
       "D    32\n",
       "Name: vyrobce, dtype: int64"
      ]
     },
     "execution_count": 7,
     "metadata": {},
     "output_type": "execute_result"
    }
   ],
   "source": [
    "# četnosti výskytu jednotlivých kategorií\n",
    "aku['vyrobce'].value_counts()"
   ]
  },
  {
   "cell_type": "code",
   "execution_count": 8,
   "id": "63d7a1f8-31db-42fd-b163-92fdf82547ad",
   "metadata": {},
   "outputs": [
    {
     "data": {
      "text/plain": [
       "<AxesSubplot:ylabel='vyrobce'>"
      ]
     },
     "execution_count": 8,
     "metadata": {},
     "output_type": "execute_result"
    },
    {
     "data": {
      "image/png": "[encoded data removed]",
      "text/plain": [
       "<Figure size 432x288 with 1 Axes>"
      ]
     },
     "metadata": {},
     "output_type": "display_data"
    }
   ],
   "source": [
    "# koláčový graf\n",
    "aku['vyrobce'].value_counts().plot.pie()"
   ]
  },
  {
   "cell_type": "code",
   "execution_count": 9,
   "id": "f6791c35-b4ae-4f4c-8b43-69516c331eba",
   "metadata": {},
   "outputs": [
    {
     "data": {
      "text/plain": [
       "<AxesSubplot:>"
      ]
     },
     "execution_count": 9,
     "metadata": {},
     "output_type": "execute_result"
    },
    {
     "data": {
      "image/png": "[encoded data removed]",
      "text/plain": [
       "<Figure size 432x288 with 1 Axes>"
      ]
     },
     "metadata": {
      "needs_background": "light"
     },
     "output_type": "display_data"
    }
   ],
   "source": [
    "# sloupcový graf\n",
    "aku['vyrobce'].value_counts().plot.bar()"
   ]
  },
  {
   "cell_type": "markdown",
   "id": "53535429-5035-438f-a4ea-f0ae6a9749e8",
   "metadata": {},
   "source": [
    "## Explorační analýza kvantitativních proměnných"
   ]
  },
  {
   "cell_type": "code",
   "execution_count": 10,
   "id": "58715b0d-57a6-46df-aa59-b37a8a1ac06f",
   "metadata": {},
   "outputs": [
    {
     "data": {
      "text/html": [
       "<div>\n",
       "<style scoped>\n",
       "    .dataframe tbody tr th:only-of-type {\n",
       "        vertical-align: middle;\n",
       "    }\n",
       "\n",
       "    .dataframe tbody tr th {\n",
       "        vertical-align: top;\n",
       "    }\n",
       "\n",
       "    .dataframe thead th {\n",
       "        text-align: right;\n",
       "    }\n",
       "</style>\n",
       "<table border=\"1\" class=\"dataframe\">\n",
       "  <thead>\n",
       "    <tr style=\"text-align: right;\">\n",
       "      <th></th>\n",
       "      <th>kapacita_5</th>\n",
       "      <th>kapacita_100</th>\n",
       "    </tr>\n",
       "  </thead>\n",
       "  <tbody>\n",
       "    <tr>\n",
       "      <th>count</th>\n",
       "      <td>128.00000</td>\n",
       "      <td>128.000000</td>\n",
       "    </tr>\n",
       "    <tr>\n",
       "      <th>mean</th>\n",
       "      <td>1987.93750</td>\n",
       "      <td>1828.492188</td>\n",
       "    </tr>\n",
       "    <tr>\n",
       "      <th>std</th>\n",
       "      <td>142.30309</td>\n",
       "      <td>179.292529</td>\n",
       "    </tr>\n",
       "    <tr>\n",
       "      <th>min</th>\n",
       "      <td>732.00000</td>\n",
       "      <td>620.000000</td>\n",
       "    </tr>\n",
       "    <tr>\n",
       "      <th>25%</th>\n",
       "      <td>1969.75000</td>\n",
       "      <td>1773.500000</td>\n",
       "    </tr>\n",
       "    <tr>\n",
       "      <th>50%</th>\n",
       "      <td>2005.00000</td>\n",
       "      <td>1846.000000</td>\n",
       "    </tr>\n",
       "    <tr>\n",
       "      <th>75%</th>\n",
       "      <td>2041.25000</td>\n",
       "      <td>1928.250000</td>\n",
       "    </tr>\n",
       "    <tr>\n",
       "      <th>max</th>\n",
       "      <td>2129.00000</td>\n",
       "      <td>2134.000000</td>\n",
       "    </tr>\n",
       "  </tbody>\n",
       "</table>\n",
       "</div>"
      ],
      "text/plain": [
       "       kapacita_5  kapacita_100\n",
       "count   128.00000    128.000000\n",
       "mean   1987.93750   1828.492188\n",
       "std     142.30309    179.292529\n",
       "min     732.00000    620.000000\n",
       "25%    1969.75000   1773.500000\n",
       "50%    2005.00000   1846.000000\n",
       "75%    2041.25000   1928.250000\n",
       "max    2129.00000   2134.000000"
      ]
     },
     "execution_count": 10,
     "metadata": {},
     "output_type": "execute_result"
    }
   ],
   "source": [
    "# základní numerické charakteristiky\n",
    "aku.describe()"
   ]
  },
  {
   "cell_type": "code",
   "execution_count": null,
   "id": "ed7d9377-7a98-4f3e-81a5-bbf83573a06c",
   "metadata": {},
   "outputs": [],
   "source": []
  },
  {
   "cell_type": "code",
   "execution_count": 11,
   "id": "e741f6fb-ac75-49e2-9c29-df4fd42b4c87",
   "metadata": {},
   "outputs": [
    {
     "data": {
      "text/plain": [
       "<AxesSubplot:ylabel='Frequency'>"
      ]
     },
     "execution_count": 11,
     "metadata": {},
     "output_type": "execute_result"
    },
    {
     "data": {
      "image/png": "[encoded data removed]",
      "text/plain": [
       "<Figure size 432x288 with 1 Axes>"
      ]
     },
     "metadata": {
      "needs_background": "light"
     },
     "output_type": "display_data"
    }
   ],
   "source": [
    "# histogramy\n",
    "aku.plot.hist(alpha=0.5)"
   ]
  },
  {
   "cell_type": "code",
   "execution_count": 12,
   "id": "21774be5-760c-446d-a0fa-f1ff4f7e31ee",
   "metadata": {},
   "outputs": [
    {
     "data": {
      "text/plain": [
       "<AxesSubplot:>"
      ]
     },
     "execution_count": 12,
     "metadata": {},
     "output_type": "execute_result"
    },
    {
     "data": {
      "image/png": "[encoded data removed]",
      "text/plain": [
       "<Figure size 432x288 with 1 Axes>"
      ]
     },
     "metadata": {
      "needs_background": "light"
     },
     "output_type": "display_data"
    }
   ],
   "source": [
    "# krabicové grafy\n",
    "aku.plot.box()"
   ]
  },
  {
   "cell_type": "code",
   "execution_count": 13,
   "id": "7f1b1686-b6cb-43d0-ad31-ba3eeacd1a34",
   "metadata": {},
   "outputs": [
    {
     "data": {
      "text/html": [
       "<div>\n",
       "<style scoped>\n",
       "    .dataframe tbody tr th:only-of-type {\n",
       "        vertical-align: middle;\n",
       "    }\n",
       "\n",
       "    .dataframe tbody tr th {\n",
       "        vertical-align: top;\n",
       "    }\n",
       "\n",
       "    .dataframe thead th {\n",
       "        text-align: right;\n",
       "    }\n",
       "</style>\n",
       "<table border=\"1\" class=\"dataframe\">\n",
       "  <thead>\n",
       "    <tr style=\"text-align: right;\">\n",
       "      <th></th>\n",
       "      <th>vyrobce</th>\n",
       "      <th>kapacita_5</th>\n",
       "      <th>kapacita_100</th>\n",
       "    </tr>\n",
       "    <tr>\n",
       "      <th>cislo</th>\n",
       "      <th></th>\n",
       "      <th></th>\n",
       "      <th></th>\n",
       "    </tr>\n",
       "  </thead>\n",
       "  <tbody>\n",
       "    <tr>\n",
       "      <th>20</th>\n",
       "      <td>A</td>\n",
       "      <td>732</td>\n",
       "      <td>620</td>\n",
       "    </tr>\n",
       "    <tr>\n",
       "      <th>33</th>\n",
       "      <td>B</td>\n",
       "      <td>1854</td>\n",
       "      <td>1841</td>\n",
       "    </tr>\n",
       "    <tr>\n",
       "      <th>88</th>\n",
       "      <td>C</td>\n",
       "      <td>1221</td>\n",
       "      <td>823</td>\n",
       "    </tr>\n",
       "  </tbody>\n",
       "</table>\n",
       "</div>"
      ],
      "text/plain": [
       "      vyrobce  kapacita_5  kapacita_100\n",
       "cislo                                  \n",
       "20          A         732           620\n",
       "33          B        1854          1841\n",
       "88          C        1221           823"
      ]
     },
     "execution_count": 13,
     "metadata": {},
     "output_type": "execute_result"
    }
   ],
   "source": [
    "# výpis řádků obsahujících odlehlá pozorování (podle metody vnitřních hradeb)\n",
    "Q1_5=aku['kapacita_5'].quantile(0.25)\n",
    "Q3_5=aku['kapacita_5'].quantile(0.75)\n",
    "IQR_5 = Q3_5-Q1_5\n",
    "out_5 = (aku['kapacita_5']<(Q1_5-1.5*IQR_5)) | (aku['kapacita_5']>(Q3_5+1.5*IQR_5))\n",
    "aku[out_5]"
   ]
  },
  {
   "cell_type": "code",
   "execution_count": 14,
   "id": "7f78e196-ee1d-4b5e-a7b5-410409bfb3e3",
   "metadata": {},
   "outputs": [],
   "source": [
    "# odstraníme řádky s kapacitami pod 1500 mAh \n",
    "aku = aku[(aku['kapacita_5']>=1500)|(aku['kapacita_100']>=1500)].copy()"
   ]
  },
  {
   "cell_type": "code",
   "execution_count": 15,
   "id": "5918bcf7-bbd8-49f7-b238-1912de709768",
   "metadata": {},
   "outputs": [
    {
     "data": {
      "text/plain": [
       "<AxesSubplot:ylabel='Frequency'>"
      ]
     },
     "execution_count": 15,
     "metadata": {},
     "output_type": "execute_result"
    },
    {
     "data": {
      "image/png": "[encoded data removed]",
      "text/plain": [
       "<Figure size 432x288 with 1 Axes>"
      ]
     },
     "metadata": {
      "needs_background": "light"
     },
     "output_type": "display_data"
    }
   ],
   "source": [
    "aku.plot.hist(alpha=0.5)"
   ]
  },
  {
   "cell_type": "code",
   "execution_count": 16,
   "id": "6e6fd2a3-2c9b-467c-a436-717c76e7397d",
   "metadata": {},
   "outputs": [
    {
     "data": {
      "text/plain": [
       "<AxesSubplot:>"
      ]
     },
     "execution_count": 16,
     "metadata": {},
     "output_type": "execute_result"
    },
    {
     "data": {
      "image/png": "[encoded data removed]",
      "text/plain": [
       "<Figure size 432x288 with 1 Axes>"
      ]
     },
     "metadata": {
      "needs_background": "light"
     },
     "output_type": "display_data"
    }
   ],
   "source": [
    "aku.plot.box()"
   ]
  },
  {
   "cell_type": "code",
   "execution_count": 17,
   "id": "a745526b-f8fb-41ff-a604-6fa10a24f227",
   "metadata": {},
   "outputs": [
    {
     "data": {
      "text/html": [
       "<div>\n",
       "<style scoped>\n",
       "    .dataframe tbody tr th:only-of-type {\n",
       "        vertical-align: middle;\n",
       "    }\n",
       "\n",
       "    .dataframe tbody tr th {\n",
       "        vertical-align: top;\n",
       "    }\n",
       "\n",
       "    .dataframe thead th {\n",
       "        text-align: right;\n",
       "    }\n",
       "</style>\n",
       "<table border=\"1\" class=\"dataframe\">\n",
       "  <thead>\n",
       "    <tr style=\"text-align: right;\">\n",
       "      <th></th>\n",
       "      <th>kapacita_5</th>\n",
       "      <th>kapacita_100</th>\n",
       "    </tr>\n",
       "  </thead>\n",
       "  <tbody>\n",
       "    <tr>\n",
       "      <th>count</th>\n",
       "      <td>126.000000</td>\n",
       "      <td>126.000000</td>\n",
       "    </tr>\n",
       "    <tr>\n",
       "      <th>mean</th>\n",
       "      <td>2003.992063</td>\n",
       "      <td>1846.063492</td>\n",
       "    </tr>\n",
       "    <tr>\n",
       "      <th>std</th>\n",
       "      <td>54.678917</td>\n",
       "      <td>112.148027</td>\n",
       "    </tr>\n",
       "    <tr>\n",
       "      <th>min</th>\n",
       "      <td>1854.000000</td>\n",
       "      <td>1496.000000</td>\n",
       "    </tr>\n",
       "    <tr>\n",
       "      <th>25%</th>\n",
       "      <td>1970.250000</td>\n",
       "      <td>1778.500000</td>\n",
       "    </tr>\n",
       "    <tr>\n",
       "      <th>50%</th>\n",
       "      <td>2006.500000</td>\n",
       "      <td>1846.500000</td>\n",
       "    </tr>\n",
       "    <tr>\n",
       "      <th>75%</th>\n",
       "      <td>2041.750000</td>\n",
       "      <td>1928.750000</td>\n",
       "    </tr>\n",
       "    <tr>\n",
       "      <th>max</th>\n",
       "      <td>2129.000000</td>\n",
       "      <td>2134.000000</td>\n",
       "    </tr>\n",
       "  </tbody>\n",
       "</table>\n",
       "</div>"
      ],
      "text/plain": [
       "        kapacita_5  kapacita_100\n",
       "count   126.000000    126.000000\n",
       "mean   2003.992063   1846.063492\n",
       "std      54.678917    112.148027\n",
       "min    1854.000000   1496.000000\n",
       "25%    1970.250000   1778.500000\n",
       "50%    2006.500000   1846.500000\n",
       "75%    2041.750000   1928.750000\n",
       "max    2129.000000   2134.000000"
      ]
     },
     "execution_count": 17,
     "metadata": {},
     "output_type": "execute_result"
    }
   ],
   "source": [
    "# základní charakteristiky pro data očištěná od odlehých pozorování\n",
    "aku.describe()"
   ]
  },
  {
   "cell_type": "markdown",
   "id": "b73d9077-4ab5-4829-8f6c-2b6a58558f6e",
   "metadata": {},
   "source": [
    "## Závislost dvou kvantitativních proměnných"
   ]
  },
  {
   "cell_type": "code",
   "execution_count": 18,
   "id": "2ee96a09-141f-42ab-ae10-5ad3752e1730",
   "metadata": {},
   "outputs": [
    {
     "data": {
      "text/plain": [
       "<AxesSubplot:xlabel='kapacita_5', ylabel='kapacita_100'>"
      ]
     },
     "execution_count": 18,
     "metadata": {},
     "output_type": "execute_result"
    },
    {
     "data": {
      "image/png": "[encoded data removed]",
      "text/plain": [
       "<Figure size 432x288 with 1 Axes>"
      ]
     },
     "metadata": {
      "needs_background": "light"
     },
     "output_type": "display_data"
    }
   ],
   "source": [
    "# bodový graf závislosti kapacit po 5 a kapacit po 100 cyklech\n",
    "aku.plot.scatter(x='kapacita_5', y='kapacita_100')\n",
    "# z rozložení bodů v grafu lze usoudit, že hodnoty kapacit po 5 a po 100 cyklech jsou vzájemně závislé"
   ]
  },
  {
   "cell_type": "code",
   "execution_count": 19,
   "id": "048e72c4-c17b-4532-a3fc-f9cd4c199a0b",
   "metadata": {},
   "outputs": [
    {
     "data": {
      "text/html": [
       "<div>\n",
       "<style scoped>\n",
       "    .dataframe tbody tr th:only-of-type {\n",
       "        vertical-align: middle;\n",
       "    }\n",
       "\n",
       "    .dataframe tbody tr th {\n",
       "        vertical-align: top;\n",
       "    }\n",
       "\n",
       "    .dataframe thead th {\n",
       "        text-align: right;\n",
       "    }\n",
       "</style>\n",
       "<table border=\"1\" class=\"dataframe\">\n",
       "  <thead>\n",
       "    <tr style=\"text-align: right;\">\n",
       "      <th></th>\n",
       "      <th>kapacita_5</th>\n",
       "      <th>kapacita_100</th>\n",
       "    </tr>\n",
       "  </thead>\n",
       "  <tbody>\n",
       "    <tr>\n",
       "      <th>kapacita_5</th>\n",
       "      <td>1.000000</td>\n",
       "      <td>0.614853</td>\n",
       "    </tr>\n",
       "    <tr>\n",
       "      <th>kapacita_100</th>\n",
       "      <td>0.614853</td>\n",
       "      <td>1.000000</td>\n",
       "    </tr>\n",
       "  </tbody>\n",
       "</table>\n",
       "</div>"
      ],
      "text/plain": [
       "              kapacita_5  kapacita_100\n",
       "kapacita_5      1.000000      0.614853\n",
       "kapacita_100    0.614853      1.000000"
      ]
     },
     "execution_count": 19,
     "metadata": {},
     "output_type": "execute_result"
    }
   ],
   "source": [
    "# Pearsonův korelační koeficient\n",
    "aku.corr()"
   ]
  },
  {
   "cell_type": "markdown",
   "id": "2487a953-e077-48c9-a15e-c49591fa2b0d",
   "metadata": {},
   "source": [
    "## Explorační analýza závislosti kvantitativní a kategoriální proměnné"
   ]
  },
  {
   "cell_type": "code",
   "execution_count": 20,
   "id": "de7406ba-66a2-425a-b035-ed4fdd46fc8f",
   "metadata": {},
   "outputs": [
    {
     "data": {
      "image/png": "[encoded data removed]",
      "text/plain": [
       "<Figure size 432x288 with 1 Axes>"
      ]
     },
     "metadata": {
      "needs_background": "light"
     },
     "output_type": "display_data"
    }
   ],
   "source": [
    "# krabicov graf kapacity po 5 cyklech v zavislosti na vyrobci\n",
    "aku.boxplot(column=['kapacita_5'], by=['vyrobce']);\n",
    "plt.tight_layout() # upravi mezery kolem grafu\n",
    "# výrazné posunutí krabicových grafů (např. B proti D) naznačuje závislost kapacity po 5 cyklech na výrobci"
   ]
  },
  {
   "cell_type": "markdown",
   "id": "7618802e-c010-48b0-962c-2a53209c8c1e",
   "metadata": {},
   "source": [
    "## Explorační analýza závislosti dvou kvantitativních proměnných"
   ]
  },
  {
   "cell_type": "code",
   "execution_count": 81,
   "id": "91bd667d-3ebb-4ba9-9c40-9906bd258c0b",
   "metadata": {},
   "outputs": [],
   "source": [
    "# pokles kapacit mezi 5. a 100. cyklem\n",
    "aku['pokles']=aku['kapacita_5']-aku['kapacita_100']"
   ]
  },
  {
   "cell_type": "code",
   "execution_count": 82,
   "id": "54253fe9-7819-40df-af72-b9834b2fde71",
   "metadata": {},
   "outputs": [],
   "source": [
    "# relativní pokles\n",
    "aku['rel_pokles']=aku['pokles']/aku['kapacita_5']"
   ]
  },
  {
   "cell_type": "code",
   "execution_count": 83,
   "id": "736f2816-429e-4be2-a756-3b9e9c1e0062",
   "metadata": {},
   "outputs": [],
   "source": [
    "# je relativní pokles > 0.1 ?\n",
    "aku['pokles_nad10p'] = aku['rel_pokles']>0.1"
   ]
  },
  {
   "cell_type": "code",
   "execution_count": 84,
   "id": "b39ff4c8-c4aa-495b-a8bc-b9152738accd",
   "metadata": {},
   "outputs": [],
   "source": [
    "# kontingenční tabulka (tabulka absolutních četností dvojic (výrobce, pokles > 0.1))\n",
    "crt = pd.crosstab(aku['vyrobce'], aku['pokles_nad10p'])"
   ]
  },
  {
   "cell_type": "code",
   "execution_count": 85,
   "id": "0faa6aff-d4c9-4b74-ba0e-fbde28438fc3",
   "metadata": {},
   "outputs": [
    {
     "data": {
      "image/png": "[encoded data removed]",
      "text/plain": [
       "<Figure size 432x288 with 3 Axes>"
      ]
     },
     "metadata": {
      "needs_background": "light"
     },
     "output_type": "display_data"
    }
   ],
   "source": [
    "# mozaikový graf (grafické znázornění kontingeční tabulky)\n",
    "mosaic(aku, ['vyrobce', 'pokles_nad10p']);\n",
    "# výrazně rozdílné poměry výšek buněk v jednotlivých sloupcích nazačují závislsot mezi poklesem a výrobcem"
   ]
  },
  {
   "cell_type": "markdown",
   "id": "804ae007-5de9-4469-8821-09756bab011d",
   "metadata": {
    "tags": []
   },
   "source": [
    "## Ověření normality "
   ]
  },
  {
   "cell_type": "code",
   "execution_count": 26,
   "id": "69430209-5356-4082-8786-3252c8058b19",
   "metadata": {},
   "outputs": [
    {
     "data": {
      "image/png": "[encoded data removed]",
      "text/plain": [
       "<Figure size 432x288 with 1 Axes>"
      ]
     },
     "metadata": {
      "needs_background": "light"
     },
     "output_type": "display_data"
    }
   ],
   "source": [
    "# pomocí QQ grafu\n",
    "sm.qqplot(aku['kapacita_5'], line='45', fit=True)\n",
    "plt.show()\n",
    "# rozložení bodů podél přímky ukazuje na normální rozdělení dat"
   ]
  },
  {
   "cell_type": "code",
   "execution_count": 27,
   "id": "cce9f438-be5b-4027-ace0-a1efcda6b318",
   "metadata": {},
   "outputs": [
    {
     "data": {
      "text/plain": [
       "ShapiroResult(statistic=0.9879963397979736, pvalue=0.3384783864021301)"
      ]
     },
     "execution_count": 27,
     "metadata": {},
     "output_type": "execute_result"
    }
   ],
   "source": [
    "# normalitu lze testovat např. Shapirovým-Wilkovým testem (H0: data mají normální rozdělení, H1: negace H0)\n",
    "stats.shapiro(aku['kapacita_5'])\n",
    "# vyspoká p-hodnota ukazuje, že data nevykazují významnou odchylku od normality "
   ]
  },
  {
   "cell_type": "markdown",
   "id": "9f77936b-190a-4f7d-998d-21137e2296a3",
   "metadata": {},
   "source": [
    "# Testy hypotéz"
   ]
  },
  {
   "cell_type": "markdown",
   "id": "f98b3991-5040-45d4-9ed6-5e7b2ed52a14",
   "metadata": {},
   "source": [
    "## Ověření normality pro jednotlivé kapacity a výrobce"
   ]
  },
  {
   "cell_type": "code",
   "execution_count": 109,
   "id": "9feb8234-5128-4281-95b9-09cac225ba55",
   "metadata": {},
   "outputs": [
    {
     "data": {
      "text/plain": [
       "vyrobce\n",
       "A     (0.9721419215202332, 0.5797627568244934)\n",
       "B    (0.9383649826049805, 0.06728947162628174)\n",
       "C     (0.9658653736114502, 0.4130503237247467)\n",
       "D     (0.9861747026443481, 0.9459457397460938)\n",
       "dtype: object"
      ]
     },
     "execution_count": 109,
     "metadata": {},
     "output_type": "execute_result"
    }
   ],
   "source": [
    "aku[['kapacita_5', 'vyrobce']].groupby('vyrobce').apply(stats.shapiro)"
   ]
  },
  {
   "cell_type": "code",
   "execution_count": 110,
   "id": "28e93259-efd0-419c-a185-4ce933736c89",
   "metadata": {},
   "outputs": [
    {
     "data": {
      "text/plain": [
       "vyrobce\n",
       "A     (0.9885702729225159, 0.9796796441078186)\n",
       "B     (0.9734573364257812, 0.5997429490089417)\n",
       "C    (0.9675898551940918, 0.45529457926750183)\n",
       "D     (0.9814878106117249, 0.8415166735649109)\n",
       "dtype: object"
      ]
     },
     "execution_count": 110,
     "metadata": {},
     "output_type": "execute_result"
    }
   ],
   "source": [
    "aku[['kapacita_100', 'vyrobce']].groupby('vyrobce').apply(stats.shapiro)"
   ]
  },
  {
   "cell_type": "markdown",
   "id": "7813fe08-ede6-4d72-89a6-b4c976058656",
   "metadata": {},
   "source": [
    "Všechny p-hodnoty jsou vyšší než 0.05. Jednotlivé výběry můžeme považovat za výbery z normálního rozdělení."
   ]
  },
  {
   "cell_type": "code",
   "execution_count": null,
   "id": "06c08514-a40f-4bd3-9244-55217cf61522",
   "metadata": {},
   "outputs": [],
   "source": []
  },
  {
   "cell_type": "markdown",
   "id": "ca398358-7160-4bbe-bf15-f82ff9854552",
   "metadata": {},
   "source": [
    "## Dosahují akumulátory výrobce A po 5 cyklech deklarované kapacity?"
   ]
  },
  {
   "cell_type": "code",
   "execution_count": 28,
   "id": "17e18d3f-30f6-4209-8c96-ec12c669316b",
   "metadata": {},
   "outputs": [
    {
     "data": {
      "image/png": "[encoded data removed]",
      "text/plain": [
       "<Figure size 432x288 with 1 Axes>"
      ]
     },
     "metadata": {
      "needs_background": "light"
     },
     "output_type": "display_data"
    }
   ],
   "source": [
    "kap5A = aku['kapacita_5'][aku['vyrobce']=='A']\n",
    "kap5A.plot.box();\n",
    "# krabicový graf nenaznačuje odchylku od deklarované hodnoty"
   ]
  },
  {
   "cell_type": "markdown",
   "id": "c30318ca-55ff-4b09-9a0d-8308d85ee17b",
   "metadata": {},
   "source": [
    "H0: $\\mu_A=2000$, H1: $\\mu_A\\neq 2000$"
   ]
  },
  {
   "cell_type": "code",
   "execution_count": 29,
   "id": "8c1c6452-a52c-43bd-9fd6-9116e008cc17",
   "metadata": {},
   "outputs": [
    {
     "data": {
      "text/plain": [
       "Ttest_1sampResult(statistic=1.8797445611822208, pvalue=0.06988635487346818)"
      ]
     },
     "execution_count": 29,
     "metadata": {},
     "output_type": "execute_result"
    }
   ],
   "source": [
    "# jednovýběrový t-test\n",
    "stats.ttest_1samp(kap5A, popmean=2000)"
   ]
  },
  {
   "cell_type": "markdown",
   "id": "ca98596b-487d-46cc-a4f2-de0b805aed15",
   "metadata": {},
   "source": [
    "t-test: p-hodnota=0.07\n",
    "\n",
    "Na hladině významnosti 0.05 nezamítáme H0. U akumumulátorů výrobce A po 5 cyklech nebyla prokázána odchyka kapacity od deklarované kapacity."
   ]
  },
  {
   "cell_type": "markdown",
   "id": "d6257543-252f-41fd-80ba-35c9c731aa00",
   "metadata": {},
   "source": [
    "---"
   ]
  },
  {
   "cell_type": "markdown",
   "id": "a6098a98-c8c6-4de7-ae8e-3854c2618591",
   "metadata": {},
   "source": [
    "## Liší se střední hodnoty kapacit akuamulátorů výrobců B a D po 100 cyklech?"
   ]
  },
  {
   "cell_type": "code",
   "execution_count": 36,
   "id": "50da16d1-179e-4f36-917e-8333a7ff2700",
   "metadata": {},
   "outputs": [
    {
     "data": {
      "image/png": "[encoded data removed]",
      "text/plain": [
       "<Figure size 432x288 with 1 Axes>"
      ]
     },
     "metadata": {
      "needs_background": "light"
     },
     "output_type": "display_data"
    }
   ],
   "source": [
    "# vybere pouze aku vyrobcu B a D a vykresli krabicove grafy \n",
    "aku[aku['vyrobce'].isin(['B', 'D'])].boxplot(column=['kapacita_100'], by=['vyrobce'])\n",
    "plt.tight_layout()\n"
   ]
  },
  {
   "cell_type": "code",
   "execution_count": 46,
   "id": "a4de8281-cc5c-4e47-8e89-1e112700badd",
   "metadata": {},
   "outputs": [
    {
     "data": {
      "text/plain": [
       "([<matplotlib.axis.XTick at 0x7f062e793190>,\n",
       "  <matplotlib.axis.XTick at 0x7f062e793160>],\n",
       " [Text(1, 0, 'B'), Text(2, 0, 'D')])"
      ]
     },
     "execution_count": 46,
     "metadata": {},
     "output_type": "execute_result"
    },
    {
     "data": {
      "image/png": "[encoded data removed]",
      "text/plain": [
       "<Figure size 432x288 with 1 Axes>"
      ]
     },
     "metadata": {
      "needs_background": "light"
     },
     "output_type": "display_data"
    }
   ],
   "source": [
    "kapB100 = aku['kapacita_100'][aku['vyrobce']=='B']\n",
    "kapD100 = aku['kapacita_100'][aku['vyrobce']=='D']\n",
    "\n",
    "# krabicové grafy pomocí matplotlib\n",
    "plt.boxplot([kapB100, kapD100])\n",
    "plt.xticks(ticks=[1, 2], labels=['B', 'D'])"
   ]
  },
  {
   "cell_type": "markdown",
   "id": "db6b1da3-a5be-4d47-97bc-4495874f64c3",
   "metadata": {},
   "source": [
    "Krabicové grafy naznačují, že kapacity akamulátorů výrobce D jsou vyšší než výrobce B."
   ]
  },
  {
   "cell_type": "markdown",
   "id": "87b40442-bc47-4737-8f63-6f4c889ab4c9",
   "metadata": {},
   "source": [
    "H0: $\\mu_B=\\mu_D$, H1: $\\mu_B<\\mu_D$"
   ]
  },
  {
   "cell_type": "code",
   "execution_count": 69,
   "id": "2f744fa1-e6cd-47ec-989d-faca4160091e",
   "metadata": {},
   "outputs": [
    {
     "name": "stdout",
     "output_type": "stream",
     "text": [
      "Dvouvýběrový t-test: p-hodnota=0.000003\n"
     ]
    }
   ],
   "source": [
    "# dvouvýběrový t-test\n",
    "test = stats.ttest_ind(kapB100, kapD100)\n",
    "print(\"Dvouvýběrový t-test: p-hodnota={:f}\".format(test.pvalue))"
   ]
  },
  {
   "cell_type": "markdown",
   "id": "c49c79d5-d028-418a-8950-34258def5a07",
   "metadata": {},
   "source": [
    "Na hladině významnosti 0.05 zamítáme H0. Střední hodnoty kapacit po 100 cyklech akumulátorů výrobce D jsou vyšší než střední hodnoty kapacit akumulátorů výrobce B."
   ]
  },
  {
   "cell_type": "markdown",
   "id": "8d000343-622d-47ef-be66-e7711e983635",
   "metadata": {},
   "source": [
    "---"
   ]
  },
  {
   "cell_type": "markdown",
   "id": "2fb5a6ea-5b05-42cc-9c7c-bf364ed745b2",
   "metadata": {},
   "source": [
    "## Liší se rozptyly hodnoty kapacit akuamulátorů výrobců B a D po 100 cyklech?"
   ]
  },
  {
   "cell_type": "markdown",
   "id": "6153b617-6154-4d6c-9767-a139bd1a14af",
   "metadata": {},
   "source": [
    "H0: $\\sigma_B^2=\\sigma_D^2$, H1: $\\sigma_B^2>\\sigma_D^2$"
   ]
  },
  {
   "cell_type": "code",
   "execution_count": 70,
   "id": "af9ed50f-08fa-4472-8919-02150b0cf030",
   "metadata": {},
   "outputs": [
    {
     "name": "stdout",
     "output_type": "stream",
     "text": [
      "F-test: p-hodnota=0.225281\n"
     ]
    }
   ],
   "source": [
    "SB100 = kapB100.var()\n",
    "SD100 = kapD100.var()\n",
    "F = SB100/SD100\n",
    "pval = 1-stats.f.cdf(F, len(kapB100)-1, len(kapD100)-1)\n",
    "print(\"F-test: p-hodnota={:f}\".format(pval))"
   ]
  },
  {
   "cell_type": "markdown",
   "id": "1b6a7220-4b37-49f6-bc7a-94a410de4124",
   "metadata": {},
   "source": [
    "Na hladině významnosti 0.05 nezamítáme H0. U akamulátorů výrobců B a D nebyl po 100 cyklech prokázán rozdíl v rozptylech kapacit."
   ]
  },
  {
   "cell_type": "code",
   "execution_count": null,
   "id": "4aa86005-3d87-488a-abba-4961eb557a2d",
   "metadata": {},
   "outputs": [],
   "source": []
  },
  {
   "cell_type": "markdown",
   "id": "9fdf1129-7c61-446b-99a6-4480aa38f1cc",
   "metadata": {},
   "source": [
    "---"
   ]
  },
  {
   "cell_type": "markdown",
   "id": "9752f801-3e43-41a7-b821-602e5ac9b667",
   "metadata": {},
   "source": [
    "## Liší se kapacity akumulátorů výrobce A po 5 a po 100 cyklech?"
   ]
  },
  {
   "cell_type": "markdown",
   "id": "a01da6f5-fe97-4c5b-85c2-cebce455b27a",
   "metadata": {},
   "source": [
    "POZOR: Nejde o nezávislé výběry! Data jsou párová. Posuzujeme stř. hodnotu rozdílů po 5 a po 100 cyklech."
   ]
  },
  {
   "cell_type": "code",
   "execution_count": 94,
   "id": "ae8c0adb-5704-4b71-9a3d-cbd06b714758",
   "metadata": {},
   "outputs": [
    {
     "data": {
      "text/plain": [
       "<AxesSubplot:>"
      ]
     },
     "execution_count": 94,
     "metadata": {},
     "output_type": "execute_result"
    },
    {
     "data": {
      "image/png": "[encoded data removed]",
      "text/plain": [
       "<Figure size 432x288 with 1 Axes>"
      ]
     },
     "metadata": {
      "needs_background": "light"
     },
     "output_type": "display_data"
    }
   ],
   "source": [
    "aku['pokles'][aku['vyrobce']=='A'].plot.box()"
   ]
  },
  {
   "cell_type": "markdown",
   "id": "55665d30-cb23-4d88-86ea-eb62805fd536",
   "metadata": {},
   "source": [
    "Střední hodnota poklesu kapacity: $\\mu_{pA}$\n",
    "\n",
    "H0: $\\mu_{pA}=0$, H1: $\\mu_{pA}>0$  "
   ]
  },
  {
   "cell_type": "code",
   "execution_count": 95,
   "id": "92b45479-0f9d-4c71-bd85-be735f3ec6ab",
   "metadata": {},
   "outputs": [
    {
     "data": {
      "text/plain": [
       "Ttest_indResult(statistic=7.286911761098858, pvalue=8.09863597361896e-10)"
      ]
     },
     "execution_count": 95,
     "metadata": {},
     "output_type": "execute_result"
    }
   ],
   "source": [
    "# Chybně (jako nezávislá data):\n",
    "stats.ttest_ind(aku['kapacita_5'][aku['vyrobce']=='A'], aku['kapacita_100'][aku['vyrobce']=='A'])"
   ]
  },
  {
   "cell_type": "code",
   "execution_count": 96,
   "id": "f140b299-6d0a-43d6-a98a-db4d23ed7ac4",
   "metadata": {},
   "outputs": [
    {
     "data": {
      "text/plain": [
       "Ttest_relResult(statistic=9.069757105924472, pvalue=4.2254100561459184e-10)"
      ]
     },
     "execution_count": 96,
     "metadata": {},
     "output_type": "execute_result"
    }
   ],
   "source": [
    "# Správně pomocí párového t-testu (jako párová data):\n",
    "stats.ttest_rel(aku['kapacita_5'][aku['vyrobce']=='A'], aku['kapacita_100'][aku['vyrobce']=='A'])"
   ]
  },
  {
   "cell_type": "code",
   "execution_count": 98,
   "id": "68387612-465c-4ed0-b4a4-280e03c0bcd5",
   "metadata": {},
   "outputs": [
    {
     "data": {
      "text/plain": [
       "Ttest_1sampResult(statistic=9.069757105924472, pvalue=4.2254100561459184e-10)"
      ]
     },
     "execution_count": 98,
     "metadata": {},
     "output_type": "execute_result"
    }
   ],
   "source": [
    "# Správně pomocí jednovýběrového t-testu:\n",
    "stats.ttest_1samp(aku['pokles'][aku['vyrobce']=='A'], popmean=0)"
   ]
  },
  {
   "cell_type": "markdown",
   "id": "4788ca44-197d-43c7-a1c1-6e0e1bebed75",
   "metadata": {},
   "source": [
    "Na hladině významnosti 0.05 zamítáme H0. U akamulátorů výrobce A dochází mezi 5 a 100 cyklem k poklesu stř. hoodnoty kapacity."
   ]
  },
  {
   "cell_type": "code",
   "execution_count": null,
   "id": "75231399-ccbc-41dc-be28-1bb453127a48",
   "metadata": {},
   "outputs": [],
   "source": []
  },
  {
   "cell_type": "markdown",
   "id": "2d3fcb4e-da1c-4b7b-ad26-914aae5a02ec",
   "metadata": {},
   "source": [
    "---"
   ]
  },
  {
   "cell_type": "markdown",
   "id": "615be7f6-ae66-417e-8d0c-acdc5058e178",
   "metadata": {},
   "source": [
    "## Intervalové odhady stř. hodot kapacit po 5 cyklech"
   ]
  },
  {
   "cell_type": "code",
   "execution_count": 129,
   "id": "2ad41c58-5905-4a85-b2ae-2827cd8a46b6",
   "metadata": {},
   "outputs": [
    {
     "name": "stdout",
     "output_type": "stream",
     "text": [
      "výrobce A: (1999, 2034) mAh\n",
      "výrobce B: (1955, 1984) mAh\n",
      "výrobce C: (1972, 2021) mAh\n",
      "výrobce D: (2022, 2044) mAh\n"
     ]
    }
   ],
   "source": [
    "alfa = 0.05\n",
    "z = stats.norm.ppf(1-alfa/2, 0, 1)  \n",
    "for v in aku['vyrobce'].unique():\n",
    "    aku_v =  aku['kapacita_5'][aku['vyrobce']==v]\n",
    "    m = aku_v.mean() # výběrový průměr\n",
    "    s = aku_v.std()  # výběrová směrodatná odchylka\n",
    "    d = z*s/len(aku_v)**0.5 # polovina délky konfidenčního intervalu\n",
    "    td = m-d # dolní mez\n",
    "    th = m+d # horn9 mez\n",
    "    print('výrobce {}: ({:.0f}, {:.0f}) mAh'.format(v, td, th))"
   ]
  },
  {
   "cell_type": "code",
   "execution_count": 130,
   "id": "98d1b59a-0596-4474-922a-6776b52a61cc",
   "metadata": {},
   "outputs": [
    {
     "data": {
      "text/plain": [
       "\u001b[0;31mSignature:\u001b[0m\n",
       "\u001b[0mstats\u001b[0m\u001b[0;34m.\u001b[0m\u001b[0mttest_ind\u001b[0m\u001b[0;34m(\u001b[0m\u001b[0;34m\u001b[0m\n",
       "\u001b[0;34m\u001b[0m    \u001b[0ma\u001b[0m\u001b[0;34m,\u001b[0m\u001b[0;34m\u001b[0m\n",
       "\u001b[0;34m\u001b[0m    \u001b[0mb\u001b[0m\u001b[0;34m,\u001b[0m\u001b[0;34m\u001b[0m\n",
       "\u001b[0;34m\u001b[0m    \u001b[0maxis\u001b[0m\u001b[0;34m=\u001b[0m\u001b[0;36m0\u001b[0m\u001b[0;34m,\u001b[0m\u001b[0;34m\u001b[0m\n",
       "\u001b[0;34m\u001b[0m    \u001b[0mequal_var\u001b[0m\u001b[0;34m=\u001b[0m\u001b[0;32mTrue\u001b[0m\u001b[0;34m,\u001b[0m\u001b[0;34m\u001b[0m\n",
       "\u001b[0;34m\u001b[0m    \u001b[0mnan_policy\u001b[0m\u001b[0;34m=\u001b[0m\u001b[0;34m'propagate'\u001b[0m\u001b[0;34m,\u001b[0m\u001b[0;34m\u001b[0m\n",
       "\u001b[0;34m\u001b[0m    \u001b[0mpermutations\u001b[0m\u001b[0;34m=\u001b[0m\u001b[0;32mNone\u001b[0m\u001b[0;34m,\u001b[0m\u001b[0;34m\u001b[0m\n",
       "\u001b[0;34m\u001b[0m    \u001b[0mrandom_state\u001b[0m\u001b[0;34m=\u001b[0m\u001b[0;32mNone\u001b[0m\u001b[0;34m,\u001b[0m\u001b[0;34m\u001b[0m\n",
       "\u001b[0;34m\u001b[0m    \u001b[0malternative\u001b[0m\u001b[0;34m=\u001b[0m\u001b[0;34m'two-sided'\u001b[0m\u001b[0;34m,\u001b[0m\u001b[0;34m\u001b[0m\n",
       "\u001b[0;34m\u001b[0m    \u001b[0mtrim\u001b[0m\u001b[0;34m=\u001b[0m\u001b[0;36m0\u001b[0m\u001b[0;34m,\u001b[0m\u001b[0;34m\u001b[0m\n",
       "\u001b[0;34m\u001b[0m\u001b[0;34m)\u001b[0m\u001b[0;34m\u001b[0m\u001b[0;34m\u001b[0m\u001b[0m\n",
       "\u001b[0;31mDocstring:\u001b[0m\n",
       "Calculate the T-test for the means of *two independent* samples of scores.\n",
       "\n",
       "This is a two-sided test for the null hypothesis that 2 independent samples\n",
       "have identical average (expected) values. This test assumes that the\n",
       "populations have identical variances by default.\n",
       "\n",
       "Parameters\n",
       "----------\n",
       "a, b : array_like\n",
       "    The arrays must have the same shape, except in the dimension\n",
       "    corresponding to `axis` (the first, by default).\n",
       "axis : int or None, optional\n",
       "    Axis along which to compute test. If None, compute over the whole\n",
       "    arrays, `a`, and `b`.\n",
       "equal_var : bool, optional\n",
       "    If True (default), perform a standard independent 2 sample test\n",
       "    that assumes equal population variances [1]_.\n",
       "    If False, perform Welch's t-test, which does not assume equal\n",
       "    population variance [2]_.\n",
       "\n",
       "    .. versionadded:: 0.11.0\n",
       "\n",
       "nan_policy : {'propagate', 'raise', 'omit'}, optional\n",
       "    Defines how to handle when input contains nan.\n",
       "    The following options are available (default is 'propagate'):\n",
       "\n",
       "      * 'propagate': returns nan\n",
       "      * 'raise': throws an error\n",
       "      * 'omit': performs the calculations ignoring nan values\n",
       "\n",
       "    The 'omit' option is not currently available for permutation tests or\n",
       "    one-sided asympyotic tests.\n",
       "\n",
       "permutations : non-negative int, np.inf, or None (default), optional\n",
       "    If 0 or None (default), use the t-distribution to calculate p-values.\n",
       "    Otherwise, `permutations` is  the number of random permutations that\n",
       "    will be used to estimate p-values using a permutation test. If\n",
       "    `permutations` equals or exceeds the number of distinct partitions of\n",
       "    the pooled data, an exact test is performed instead (i.e. each\n",
       "    distinct partition is used exactly once). See Notes for details.\n",
       "\n",
       "    .. versionadded:: 1.7.0\n",
       "\n",
       "random_state : {None, int, `numpy.random.Generator`,\n",
       "        `numpy.random.RandomState`}, optional\n",
       "\n",
       "    If `seed` is None (or `np.random`), the `numpy.random.RandomState`\n",
       "    singleton is used.\n",
       "    If `seed` is an int, a new ``RandomState`` instance is used,\n",
       "    seeded with `seed`.\n",
       "    If `seed` is already a ``Generator`` or ``RandomState`` instance then\n",
       "    that instance is used.\n",
       "\n",
       "    Pseudorandom number generator state used to generate permutations\n",
       "    (used only when `permutations` is not None).\n",
       "\n",
       "    .. versionadded:: 1.7.0\n",
       "\n",
       "alternative : {'two-sided', 'less', 'greater'}, optional\n",
       "    Defines the alternative hypothesis.\n",
       "    The following options are available (default is 'two-sided'):\n",
       "\n",
       "      * 'two-sided'\n",
       "      * 'less': one-sided\n",
       "      * 'greater': one-sided\n",
       "\n",
       "    .. versionadded:: 1.6.0\n",
       "\n",
       "trim : float, optional\n",
       "    If nonzero, performs a trimmed (Yuen's) t-test.\n",
       "    Defines the fraction of elements to be trimmed from each end of the\n",
       "    input samples. If 0 (default), no elements will be trimmed from either\n",
       "    side. The number of trimmed elements from each tail is the floor of the\n",
       "    trim times the number of elements. Valid range is [0, .5).\n",
       "\n",
       "    .. versionadded:: 1.7\n",
       "\n",
       "Returns\n",
       "-------\n",
       "statistic : float or array\n",
       "    The calculated t-statistic.\n",
       "pvalue : float or array\n",
       "    The two-tailed p-value.\n",
       "\n",
       "Notes\n",
       "-----\n",
       "Suppose we observe two independent samples, e.g. flower petal lengths, and\n",
       "we are considering whether the two samples were drawn from the same\n",
       "population (e.g. the same species of flower or two species with similar\n",
       "petal characteristics) or two different populations.\n",
       "\n",
       "The t-test quantifies the difference between the arithmetic means\n",
       "of the two samples. The p-value quantifies the probability of observing\n",
       "as or more extreme values assuming the null hypothesis, that the\n",
       "samples are drawn from populations with the same population means, is true.\n",
       "A p-value larger than a chosen threshold (e.g. 5% or 1%) indicates that\n",
       "our observation is not so unlikely to have occurred by chance. Therefore,\n",
       "we do not reject the null hypothesis of equal population means.\n",
       "If the p-value is smaller than our threshold, then we have evidence\n",
       "against the null hypothesis of equal population means.\n",
       "\n",
       "By default, the p-value is determined by comparing the t-statistic of the\n",
       "observed data against a theoretical t-distribution.\n",
       "When ``1 < permutations < binom(n, k)``, where\n",
       "\n",
       "* ``k`` is the number of observations in `a`,\n",
       "* ``n`` is the total number of observations in `a` and `b`, and\n",
       "* ``binom(n, k)`` is the binomial coefficient (``n`` choose ``k``),\n",
       "\n",
       "the data are pooled (concatenated), randomly assigned to either group `a`\n",
       "or `b`, and the t-statistic is calculated. This process is performed\n",
       "repeatedly (`permutation` times), generating a distribution of the\n",
       "t-statistic under the null hypothesis, and the t-statistic of the observed\n",
       "data is compared to this distribution to determine the p-value. When\n",
       "``permutations >= binom(n, k)``, an exact test is performed: the data are\n",
       "partitioned between the groups in each distinct way exactly once.\n",
       "\n",
       "The permutation test can be computationally expensive and not necessarily\n",
       "more accurate than the analytical test, but it does not make strong\n",
       "assumptions about the shape of the underlying distribution.\n",
       "\n",
       "Use of trimming is commonly referred to as the trimmed t-test. At times\n",
       "called Yuen's t-test, this is an extension of Welch's t-test, with the\n",
       "difference being the use of winsorized means in calculation of the variance\n",
       "and the trimmed sample size in calculation of the statistic. Trimming is\n",
       "reccomended if the underlying distribution is long-tailed or contaminated\n",
       "with outliers [4]_.\n",
       "\n",
       "References\n",
       "----------\n",
       ".. [1] https://en.wikipedia.org/wiki/T-test#Independent_two-sample_t-test\n",
       "\n",
       ".. [2] https://en.wikipedia.org/wiki/Welch%27s_t-test\n",
       "\n",
       ".. [3] http://en.wikipedia.org/wiki/Resampling_%28statistics%29\n",
       "\n",
       ".. [4] Yuen, Karen K. \"The Two-Sample Trimmed t for Unequal Population\n",
       "       Variances.\" Biometrika, vol. 61, no. 1, 1974, pp. 165-170. JSTOR,\n",
       "       www.jstor.org/stable/2334299. Accessed 30 Mar. 2021.\n",
       "\n",
       ".. [5] Yuen, Karen K., and W. J. Dixon. \"The Approximate Behaviour and\n",
       "       Performance of the Two-Sample Trimmed t.\" Biometrika, vol. 60,\n",
       "       no. 2, 1973, pp. 369-374. JSTOR, www.jstor.org/stable/2334550.\n",
       "       Accessed 30 Mar. 2021.\n",
       "\n",
       "Examples\n",
       "--------\n",
       ">>> from scipy import stats\n",
       ">>> rng = np.random.default_rng()\n",
       "\n",
       "Test with sample with identical means:\n",
       "\n",
       ">>> rvs1 = stats.norm.rvs(loc=5, scale=10, size=500, random_state=rng)\n",
       ">>> rvs2 = stats.norm.rvs(loc=5, scale=10, size=500, random_state=rng)\n",
       ">>> stats.ttest_ind(rvs1, rvs2)\n",
       "Ttest_indResult(statistic=-0.4390847099199348, pvalue=0.6606952038870015)\n",
       ">>> stats.ttest_ind(rvs1, rvs2, equal_var=False)\n",
       "Ttest_indResult(statistic=-0.4390847099199348, pvalue=0.6606952553131064)\n",
       "\n",
       "`ttest_ind` underestimates p for unequal variances:\n",
       "\n",
       ">>> rvs3 = stats.norm.rvs(loc=5, scale=20, size=500, random_state=rng)\n",
       ">>> stats.ttest_ind(rvs1, rvs3)\n",
       "Ttest_indResult(statistic=-1.6370984482905417, pvalue=0.1019251574705033)\n",
       ">>> stats.ttest_ind(rvs1, rvs3, equal_var=False)\n",
       "Ttest_indResult(statistic=-1.637098448290542, pvalue=0.10202110497954867)\n",
       "\n",
       "When ``n1 != n2``, the equal variance t-statistic is no longer equal to the\n",
       "unequal variance t-statistic:\n",
       "\n",
       ">>> rvs4 = stats.norm.rvs(loc=5, scale=20, size=100, random_state=rng)\n",
       ">>> stats.ttest_ind(rvs1, rvs4)\n",
       "Ttest_indResult(statistic=-1.9481646859513422, pvalue=0.05186270935842703)\n",
       ">>> stats.ttest_ind(rvs1, rvs4, equal_var=False)\n",
       "Ttest_indResult(statistic=-1.3146566100751664, pvalue=0.1913495266513811)\n",
       "\n",
       "T-test with different means, variance, and n:\n",
       "\n",
       ">>> rvs5 = stats.norm.rvs(loc=8, scale=20, size=100, random_state=rng)\n",
       ">>> stats.ttest_ind(rvs1, rvs5)\n",
       "Ttest_indResult(statistic=-2.8415950600298774, pvalue=0.0046418707568707885)\n",
       ">>> stats.ttest_ind(rvs1, rvs5, equal_var=False)\n",
       "Ttest_indResult(statistic=-1.8686598649188084, pvalue=0.06434714193919686)\n",
       "\n",
       "When performing a permutation test, more permutations typically yields\n",
       "more accurate results. Use a ``np.random.Generator`` to ensure\n",
       "reproducibility:\n",
       "\n",
       ">>> stats.ttest_ind(rvs1, rvs5, permutations=10000,\n",
       "...                 random_state=rng)\n",
       "Ttest_indResult(statistic=-2.8415950600298774, pvalue=0.0052)\n",
       "\n",
       "Take these two samples, one of which has an extreme tail.\n",
       "\n",
       ">>> a = (56, 128.6, 12, 123.8, 64.34, 78, 763.3)\n",
       ">>> b = (1.1, 2.9, 4.2)\n",
       "\n",
       "Use the `trim` keyword to perform a trimmed (Yuen) t-test. For example,\n",
       "using 20% trimming, ``trim=.2``, the test will reduce the impact of one\n",
       "(``np.floor(trim*len(a))``) element from each tail of sample `a`. It will\n",
       "have no effect on sample `b` because ``np.floor(trim*len(b))`` is 0.\n",
       "\n",
       ">>> stats.ttest_ind(a, b, trim=.2)\n",
       "Ttest_indResult(statistic=3.4463884028073513,\n",
       "                pvalue=0.01369338726499547)\n",
       "\u001b[0;31mFile:\u001b[0m      ~/.local/lib/python3.8/site-packages/scipy/stats/stats.py\n",
       "\u001b[0;31mType:\u001b[0m      function\n"
      ]
     },
     "metadata": {},
     "output_type": "display_data"
    }
   ],
   "source": [
    "stats.ttest_ind?"
   ]
  },
  {
   "cell_type": "code",
   "execution_count": null,
   "id": "db286707-6cea-49da-b988-64a73c6038f7",
   "metadata": {},
   "outputs": [],
   "source": []
  }
 ],
 "metadata": {
  "kernelspec": {
   "display_name": "Python 3",
   "language": "python",
   "name": "python3"
  },
  "language_info": {
   "codemirror_mode": {
    "name": "ipython",
    "version": 3
   },
   "file_extension": ".py",
   "mimetype": "text/x-python",
   "name": "python",
   "nbconvert_exporter": "python",
   "pygments_lexer": "ipython3",
   "version": "3.8.10"
  }
 },
 "nbformat": 4,
 "nbformat_minor": 5
}
